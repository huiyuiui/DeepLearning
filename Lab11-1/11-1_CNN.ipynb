{
 "cells": [
  {
   "cell_type": "code",
   "execution_count": 1,
   "metadata": {},
   "outputs": [],
   "source": [
    "import warnings\n",
    "import os\n",
    "warnings.filterwarnings(\"ignore\")\n",
    "os.environ['TF_CPP_MIN_LOG_LEVEL'] = '2' \n",
    "\n",
    "import tensorflow as tf\n",
    "from tensorflow.keras import utils, datasets, layers, models\n",
    "import matplotlib.pyplot as plt\n",
    "import numpy as np\n",
    "\n",
    "import matplotlib as mpl\n",
    "import pickle\n",
    "import csv\n",
    "import itertools\n",
    "from collections import defaultdict\n",
    "import time\n",
    "import pandas as pd\n",
    "import math\n",
    "from tqdm import tqdm\n",
    "import dill"
   ]
  },
  {
   "cell_type": "code",
   "execution_count": 7,
   "metadata": {},
   "outputs": [
    {
     "name": "stdout",
     "output_type": "stream",
     "text": [
      "1 Physical GPUs, 1 Logical GPUs\n"
     ]
    }
   ],
   "source": [
    "gpus = tf.config.experimental.list_physical_devices('GPU')\n",
    "if gpus:\n",
    "    try:\n",
    "        # Currently, memory growth needs to be the same across GPUs\n",
    "        for gpu in gpus:\n",
    "            tf.config.experimental.set_memory_growth(gpu, True)\n",
    "        tf.config.experimental.set_visible_devices(gpus[0], 'GPU')\n",
    "        logical_gpus = tf.config.experimental.list_logical_devices('GPU')\n",
    "        print(len(gpus), \"Physical GPUs,\", len(logical_gpus), \"Logical GPUs\")\n",
    "    except RuntimeError as e:\n",
    "        # Memory growth must be set before GPUs have been initialized\n",
    "        print(e)"
   ]
  },
  {
   "cell_type": "code",
   "execution_count": 8,
   "metadata": {},
   "outputs": [],
   "source": [
    "import urllib.request\n",
    "if not os.path.exists(\"lab11_1_lib.py\"):\n",
    "    urllib.request.urlretrieve(\"https://nthu-datalab.github.io/ml/labs/11-1_CNN/lab11_1_lib.py\", \"lab11_1_lib.py\")\n",
    "\n",
    "from lab11_1_lib import draw_timeline"
   ]
  },
  {
   "cell_type": "markdown",
   "metadata": {},
   "source": [
    "### MNIST"
   ]
  },
  {
   "cell_type": "markdown",
   "metadata": {},
   "source": [
    "![](https://nthu-datalab.github.io/ml/labs/11-1_CNN/imgsrc/MNIST.png)\n",
    "\n",
    "![](https://nthu-datalab.github.io/ml/labs/11-1_CNN/imgsrc/MNIST2.png)"
   ]
  },
  {
   "cell_type": "code",
   "execution_count": 9,
   "metadata": {},
   "outputs": [
    {
     "name": "stdout",
     "output_type": "stream",
     "text": [
      "shape of train_image: (60000, 28, 28)\n",
      "shape of train_label: (60000,)\n"
     ]
    }
   ],
   "source": [
    "# Download and prepare the MNIST dataset\n",
    "(train_image, train_label), (test_image, test_label) = datasets.mnist.load_data()\n",
    "\n",
    "# Normalize pixel values to be between 0 and 1\n",
    "train_image, test_image = train_image / 255.0, test_image / 255.0\n",
    "print('shape of train_image:', train_image.shape)\n",
    "print('shape of train_label:', train_label.shape)"
   ]
  },
  {
   "cell_type": "markdown",
   "metadata": {},
   "source": [
    "#### Softmax Regession on MNIST"
   ]
  },
  {
   "cell_type": "code",
   "execution_count": 10,
   "metadata": {},
   "outputs": [
    {
     "name": "stdout",
     "output_type": "stream",
     "text": [
      "(60000, 784)\n",
      "(10000, 784)\n"
     ]
    }
   ],
   "source": [
    "# flating the training data for dense layers\n",
    "train_image_1 = train_image.reshape((60000, -1))\n",
    "test_image_1 = test_image.reshape((10000, -1))\n",
    "print(train_image_1.shape)\n",
    "print(test_image_1.shape)"
   ]
  },
  {
   "cell_type": "code",
   "execution_count": 11,
   "metadata": {},
   "outputs": [
    {
     "name": "stdout",
     "output_type": "stream",
     "text": [
      "Model: \"sequential\"\n",
      "_________________________________________________________________\n",
      "Layer (type)                 Output Shape              Param #   \n",
      "=================================================================\n",
      "dense (Dense)                (None, 10)                7850      \n",
      "=================================================================\n",
      "Total params: 7,850\n",
      "Trainable params: 7,850\n",
      "Non-trainable params: 0\n",
      "_________________________________________________________________\n"
     ]
    }
   ],
   "source": [
    "model_1 = models.Sequential()\n",
    "model_1.add(layers.Dense(10, activation='softmax',input_shape=(784,)))\n",
    "model_1.summary()"
   ]
  },
  {
   "cell_type": "code",
   "execution_count": 12,
   "metadata": {},
   "outputs": [
    {
     "name": "stdout",
     "output_type": "stream",
     "text": [
      "Epoch 1/5\n",
      "1875/1875 [==============================] - 7s 3ms/step - loss: 0.4705 - accuracy: 0.8763\n",
      "Epoch 2/5\n",
      "1875/1875 [==============================] - 5s 3ms/step - loss: 0.3036 - accuracy: 0.9148\n",
      "Epoch 3/5\n",
      "1875/1875 [==============================] - 5s 3ms/step - loss: 0.2834 - accuracy: 0.9209\n",
      "Epoch 4/5\n",
      "1875/1875 [==============================] - 5s 3ms/step - loss: 0.2729 - accuracy: 0.9240\n",
      "Epoch 5/5\n",
      "1875/1875 [==============================] - 5s 3ms/step - loss: 0.2670 - accuracy: 0.9254\n"
     ]
    },
    {
     "data": {
      "text/plain": [
       "<tensorflow.python.keras.callbacks.History at 0x1ed8188fc70>"
      ]
     },
     "execution_count": 12,
     "metadata": {},
     "output_type": "execute_result"
    }
   ],
   "source": [
    "# compile the model and train it for 5 epochs\n",
    "model_1.compile(optimizer='adam',\n",
    "              loss='sparse_categorical_crossentropy',\n",
    "              metrics=['accuracy'])\n",
    "\n",
    "model_1.fit(train_image_1, train_label, epochs=5)"
   ]
  },
  {
   "cell_type": "code",
   "execution_count": 13,
   "metadata": {},
   "outputs": [
    {
     "name": "stdout",
     "output_type": "stream",
     "text": [
      "Testing Accuracy : 0.9245\n"
     ]
    }
   ],
   "source": [
    "_, test_acc_1 = model_1.evaluate(test_image_1, test_label, verbose=0)\n",
    "print('Testing Accuracy : %.4f'%test_acc_1)"
   ]
  },
  {
   "cell_type": "markdown",
   "metadata": {},
   "source": [
    "### Multilayer Convolutional Network on MNIST"
   ]
  },
  {
   "cell_type": "code",
   "execution_count": 14,
   "metadata": {},
   "outputs": [
    {
     "name": "stdout",
     "output_type": "stream",
     "text": [
      "(60000, 28, 28, 1)\n",
      "(10000, 28, 28, 1)\n"
     ]
    }
   ],
   "source": [
    "# reshaping the training data to 3 dimensions\n",
    "train_image_2 = train_image.reshape((60000, 28, 28, 1))\n",
    "test_image_2 = test_image.reshape((10000, 28, 28, 1))\n",
    "print(train_image_2.shape)\n",
    "print(test_image_2.shape)"
   ]
  },
  {
   "cell_type": "markdown",
   "metadata": {},
   "source": [
    "#### Create the convolutional base"
   ]
  },
  {
   "cell_type": "code",
   "execution_count": 15,
   "metadata": {},
   "outputs": [],
   "source": [
    "#The 6 lines of code below define the convolutional base using a common pattern: a stack of Conv2D and MaxPooling2D layers.\n",
    "model_2 = models.Sequential()\n",
    "model_2.add(layers.Conv2D(32, (3, 3), strides=(1,1), padding='valid', activation='relu', input_shape=(28, 28, 1)))\n",
    "model_2.add(layers.MaxPooling2D((2, 2)))\n",
    "model_2.add(layers.Conv2D(64, (3, 3), strides=(1,1), padding='valid', activation='relu'))\n",
    "model_2.add(layers.MaxPooling2D((2, 2)))\n",
    "model_2.add(layers.Conv2D(64, (3, 3), strides=(1,1), padding='valid', activation='relu'))"
   ]
  },
  {
   "cell_type": "code",
   "execution_count": 16,
   "metadata": {},
   "outputs": [
    {
     "name": "stdout",
     "output_type": "stream",
     "text": [
      "Model: \"sequential_1\"\n",
      "_________________________________________________________________\n",
      "Layer (type)                 Output Shape              Param #   \n",
      "=================================================================\n",
      "conv2d (Conv2D)              (None, 26, 26, 32)        320       \n",
      "_________________________________________________________________\n",
      "max_pooling2d (MaxPooling2D) (None, 13, 13, 32)        0         \n",
      "_________________________________________________________________\n",
      "conv2d_1 (Conv2D)            (None, 11, 11, 64)        18496     \n",
      "_________________________________________________________________\n",
      "max_pooling2d_1 (MaxPooling2 (None, 5, 5, 64)          0         \n",
      "_________________________________________________________________\n",
      "conv2d_2 (Conv2D)            (None, 3, 3, 64)          36928     \n",
      "=================================================================\n",
      "Total params: 55,744\n",
      "Trainable params: 55,744\n",
      "Non-trainable params: 0\n",
      "_________________________________________________________________\n"
     ]
    }
   ],
   "source": [
    "model_2.summary()"
   ]
  },
  {
   "cell_type": "markdown",
   "metadata": {},
   "source": [
    "#### Add Dense layers on top"
   ]
  },
  {
   "cell_type": "code",
   "execution_count": 17,
   "metadata": {},
   "outputs": [],
   "source": [
    "model_2.add(layers.Flatten())\n",
    "model_2.add(layers.Dense(64, activation='relu'))\n",
    "model_2.add(layers.Dropout(0.5))\n",
    "model_2.add(layers.Dense(10, activation='softmax'))"
   ]
  },
  {
   "cell_type": "code",
   "execution_count": 18,
   "metadata": {},
   "outputs": [
    {
     "name": "stdout",
     "output_type": "stream",
     "text": [
      "Model: \"sequential_1\"\n",
      "_________________________________________________________________\n",
      "Layer (type)                 Output Shape              Param #   \n",
      "=================================================================\n",
      "conv2d (Conv2D)              (None, 26, 26, 32)        320       \n",
      "_________________________________________________________________\n",
      "max_pooling2d (MaxPooling2D) (None, 13, 13, 32)        0         \n",
      "_________________________________________________________________\n",
      "conv2d_1 (Conv2D)            (None, 11, 11, 64)        18496     \n",
      "_________________________________________________________________\n",
      "max_pooling2d_1 (MaxPooling2 (None, 5, 5, 64)          0         \n",
      "_________________________________________________________________\n",
      "conv2d_2 (Conv2D)            (None, 3, 3, 64)          36928     \n",
      "_________________________________________________________________\n",
      "flatten (Flatten)            (None, 576)               0         \n",
      "_________________________________________________________________\n",
      "dense_1 (Dense)              (None, 64)                36928     \n",
      "_________________________________________________________________\n",
      "dropout (Dropout)            (None, 64)                0         \n",
      "_________________________________________________________________\n",
      "dense_2 (Dense)              (None, 10)                650       \n",
      "=================================================================\n",
      "Total params: 93,322\n",
      "Trainable params: 93,322\n",
      "Non-trainable params: 0\n",
      "_________________________________________________________________\n"
     ]
    }
   ],
   "source": [
    "model_2.summary()"
   ]
  },
  {
   "cell_type": "markdown",
   "metadata": {},
   "source": [
    "#### Compile and train the model"
   ]
  },
  {
   "cell_type": "code",
   "execution_count": 19,
   "metadata": {},
   "outputs": [
    {
     "name": "stdout",
     "output_type": "stream",
     "text": [
      "Epoch 1/5\n",
      "1875/1875 [==============================] - 15s 6ms/step - loss: 0.2553 - accuracy: 0.9227\n",
      "Epoch 2/5\n",
      "1875/1875 [==============================] - 10s 5ms/step - loss: 0.0861 - accuracy: 0.9765\n",
      "Epoch 3/5\n",
      "1875/1875 [==============================] - 10s 5ms/step - loss: 0.0634 - accuracy: 0.9825\n",
      "Epoch 4/5\n",
      "1875/1875 [==============================] - 10s 6ms/step - loss: 0.0467 - accuracy: 0.9870\n",
      "Epoch 5/5\n",
      "1875/1875 [==============================] - 9s 5ms/step - loss: 0.0397 - accuracy: 0.9884\n"
     ]
    },
    {
     "data": {
      "text/plain": [
       "<tensorflow.python.keras.callbacks.History at 0x1edbc167d00>"
      ]
     },
     "execution_count": 19,
     "metadata": {},
     "output_type": "execute_result"
    }
   ],
   "source": [
    "model_2.compile(optimizer='adam',\n",
    "              loss='sparse_categorical_crossentropy',\n",
    "              metrics=['accuracy'])\n",
    "\n",
    "model_2.fit(train_image_2, train_label, epochs=5)"
   ]
  },
  {
   "cell_type": "markdown",
   "metadata": {},
   "source": [
    "### Cifar-10"
   ]
  },
  {
   "cell_type": "markdown",
   "metadata": {},
   "source": [
    "![](https://nthu-datalab.github.io/ml/labs/11-1_CNN/imgsrc/CIFAR10.png)"
   ]
  },
  {
   "cell_type": "code",
   "execution_count": 20,
   "metadata": {},
   "outputs": [
    {
     "name": "stdout",
     "output_type": "stream",
     "text": [
      "Downloading data from https://www.cs.toronto.edu/~kriz/cifar-10-python.tar.gz\n",
      "170500096/170498071 [==============================] - 19s 0us/step\n",
      "X_train shape: (50000, 32, 32, 3)\n",
      "Y_train shape: (50000, 10)\n",
      "X_test shape: (10000, 32, 32, 3)\n",
      "Y_test shape: (10000, 10)\n"
     ]
    }
   ],
   "source": [
    "# Loading Data\n",
    "\n",
    "(X_train, y_train), (X_test, y_test) = datasets.cifar10.load_data()\n",
    "\n",
    "# normalize inputs from 0-255 to 0.0-1.0\n",
    "X_train = X_train.astype('float32')\n",
    "X_test = X_test.astype('float32')\n",
    "X_train = X_train / 255.0\n",
    "X_test = X_test / 255.0\n",
    "\n",
    "# convert class vectors to binary vectors\n",
    "Y_train = utils.to_categorical(y_train)\n",
    "Y_test = utils.to_categorical(y_test)\n",
    "\n",
    "print('X_train shape:', X_train.shape)\n",
    "print('Y_train shape:', Y_train.shape)\n",
    "print('X_test shape:', X_test.shape)\n",
    "print('Y_test shape:', Y_test.shape)"
   ]
  },
  {
   "cell_type": "code",
   "execution_count": 21,
   "metadata": {},
   "outputs": [
    {
     "data": {
      "image/png": "[encoded data removed]",
      "text/plain": [
       "<Figure size 400x200 with 2 Axes>"
      ]
     },
     "metadata": {},
     "output_type": "display_data"
    }
   ],
   "source": [
    "# transform a 3-channel image into one channel\n",
    "def grayscale(data, dtype='float32'):\n",
    "    # luma coding weighted average in video systems\n",
    "    r = np.asarray(.3, dtype=dtype)\n",
    "    g = np.asarray(.59, dtype=dtype)\n",
    "    b = np.asarray(.11, dtype=dtype)\n",
    "    rst = r * data[:, :, :, 0] + g * data[:, :, :, 1] + b * data[:, :, :, 2]\n",
    "    # add channel dimension\n",
    "    rst = np.expand_dims(rst, axis=3)\n",
    "    return rst\n",
    "\n",
    "X_train_gray = grayscale(X_train)\n",
    "X_test_gray = grayscale(X_test)\n",
    "\n",
    "# plot a randomly chosen image\n",
    "img = round(np.random.rand() * X_train.shape[0])\n",
    "plt.figure(figsize=(4, 2))\n",
    "plt.subplot(1, 2, 1)\n",
    "plt.imshow(X_train[img], interpolation='none')\n",
    "plt.subplot(1, 2, 2)\n",
    "plt.imshow(\n",
    "    X_train_gray[img, :, :, 0], cmap=plt.get_cmap('gray'), interpolation='none')\n",
    "plt.show()"
   ]
  },
  {
   "cell_type": "markdown",
   "metadata": {},
   "source": [
    "#### Feature Selection"
   ]
  },
  {
   "cell_type": "code",
   "execution_count": 22,
   "metadata": {},
   "outputs": [],
   "source": [
    "def getHOGfeat(image,\n",
    "               stride=8,\n",
    "               orientations=8,\n",
    "               pixels_per_cell=(8, 8),\n",
    "               cells_per_block=(2, 2)):\n",
    "    cx, cy = pixels_per_cell\n",
    "    bx, by = cells_per_block\n",
    "    sx, sy, sz = image.shape\n",
    "    n_cellsx = int(np.floor(sx // cx))  # number of cells in x\n",
    "    n_cellsy = int(np.floor(sy // cy))  # number of cells in y\n",
    "    n_blocksx = (n_cellsx - bx) + 1\n",
    "    n_blocksy = (n_cellsy - by) + 1\n",
    "    gx = np.zeros((sx, sy), dtype=np.double)\n",
    "    gy = np.zeros((sx, sy), dtype=np.double)\n",
    "    eps = 1e-5\n",
    "    grad = np.zeros((sx, sy, 2), dtype=np.double)\n",
    "    for i in range(1, sx - 1):\n",
    "        for j in range(1, sy - 1):\n",
    "            gx[i, j] = image[i, j - 1] - image[i, j + 1]\n",
    "            gy[i, j] = image[i + 1, j] - image[i - 1, j]\n",
    "            grad[i, j, 0] = np.arctan(gy[i, j] / (gx[i, j] + eps)) * 180 / math.pi\n",
    "            if gx[i, j] < 0:\n",
    "                grad[i, j, 0] += 180\n",
    "            grad[i, j, 0] = (grad[i, j, 0] + 360) % 360\n",
    "            grad[i, j, 1] = np.sqrt(gy[i, j] ** 2 + gx[i, j] ** 2)\n",
    "    normalised_blocks = np.zeros((n_blocksy, n_blocksx, by * bx * orientations))\n",
    "    for y in range(n_blocksy):\n",
    "        for x in range(n_blocksx):\n",
    "            block = grad[y * stride:y * stride + 16, x * stride:x * stride + 16]\n",
    "            hist_block = np.zeros(32, dtype=np.double)\n",
    "            eps = 1e-5\n",
    "            for k in range(by):\n",
    "                for m in range(bx):\n",
    "                    cell = block[k * 8:(k + 1) * 8, m * 8:(m + 1) * 8]\n",
    "                    hist_cell = np.zeros(8, dtype=np.double)\n",
    "                    for i in range(cy):\n",
    "                        for j in range(cx):\n",
    "                            n = int(cell[i, j, 0] / 45)\n",
    "                            hist_cell[n] += cell[i, j, 1]\n",
    "                    hist_block[(k * bx + m) * orientations:(k * bx + m + 1) * orientations] = hist_cell[:]\n",
    "            normalised_blocks[y, x, :] = hist_block / np.sqrt(\n",
    "                hist_block.sum() ** 2 + eps)\n",
    "    return normalised_blocks.ravel()"
   ]
  },
  {
   "cell_type": "code",
   "execution_count": 23,
   "metadata": {},
   "outputs": [
    {
     "name": "stdout",
     "output_type": "stream",
     "text": [
      "This will take some minutes.\n"
     ]
    },
    {
     "name": "stderr",
     "output_type": "stream",
     "text": [
      "100%|██████████| 50000/50000 [06:50<00:00, 121.82it/s]\n",
      "100%|██████████| 10000/10000 [01:24<00:00, 118.40it/s]\n"
     ]
    }
   ],
   "source": [
    "X_train_hog = []\n",
    "X_test_hog = []\n",
    "\n",
    "print('This will take some minutes.')\n",
    "\n",
    "for img in tqdm(X_train_gray):\n",
    "    img_hog = getHOGfeat(img)\n",
    "    X_train_hog.append(img_hog)\n",
    "\n",
    "for img in tqdm(X_test_gray):\n",
    "    img_hog = getHOGfeat(img)\n",
    "    X_test_hog.append(img_hog)\n",
    "    \n",
    "X_train_hog_array = np.asarray(X_train_hog)\n",
    "X_test_hog_array = np.asarray(X_test_hog)"
   ]
  },
  {
   "cell_type": "markdown",
   "metadata": {},
   "source": [
    "### K Nearest Neighbors (KNN) on CIFAR-10"
   ]
  },
  {
   "cell_type": "code",
   "execution_count": 24,
   "metadata": {},
   "outputs": [
    {
     "name": "stdout",
     "output_type": "stream",
     "text": [
      "[KNN]\n",
      "Misclassified samples: 5334\n",
      "Accuracy: 0.47\n"
     ]
    }
   ],
   "source": [
    "# KNN\n",
    "from sklearn.neighbors import KNeighborsClassifier \n",
    "from sklearn.metrics import accuracy_score\n",
    "\n",
    "# p=2 and metric='minkowski' means the Euclidean Distance\n",
    "knn = KNeighborsClassifier(n_neighbors=11, p=2, metric='minkowski')\n",
    "\n",
    "knn.fit(X_train_hog_array, y_train.ravel())\n",
    "y_pred = knn.predict(X_test_hog_array)\n",
    "print('[KNN]')\n",
    "print('Misclassified samples: %d' % (y_test.ravel() != y_pred).sum())\n",
    "print('Accuracy: %.2f' % accuracy_score(y_test, y_pred))"
   ]
  },
  {
   "cell_type": "markdown",
   "metadata": {},
   "source": [
    "#### Support Vector Machine (SVM) on CIFAR-10"
   ]
  },
  {
   "cell_type": "code",
   "execution_count": 25,
   "metadata": {},
   "outputs": [
    {
     "name": "stdout",
     "output_type": "stream",
     "text": [
      "This will take some minutes.\n",
      "[Linear SVC]\n",
      "Misclassified samples: 4940\n",
      "Accuracy: 0.51\n",
      "829.84 sec.\n"
     ]
    }
   ],
   "source": [
    "# SVM\n",
    "from sklearn.svm import SVC \n",
    "\n",
    "print('This will take some minutes.')\n",
    "start_time = time.time()\n",
    "\n",
    "# C is the hyperparameter for the error penalty term\n",
    "# gamma is the hyperparameter for the rbf kernel\n",
    "svm_linear = SVC(kernel='linear', random_state=0, gamma=0.2, C=10.0)\n",
    "\n",
    "svm_linear.fit(X_train_hog_array, y_train.ravel())\n",
    "y_pred = svm_linear.predict(X_test_hog_array)\n",
    "print('[Linear SVC]')\n",
    "print('Misclassified samples: %d' % (y_test.ravel() != y_pred).sum())\n",
    "print('Accuracy: %.2f' % accuracy_score(y_test.ravel(), y_pred))\n",
    "\n",
    "print('{:.2f} sec.'.format(time.time()-start_time))"
   ]
  },
  {
   "cell_type": "markdown",
   "metadata": {},
   "source": [
    "#### CNN on CIFAR-10"
   ]
  },
  {
   "cell_type": "code",
   "execution_count": 26,
   "metadata": {},
   "outputs": [
    {
     "name": "stdout",
     "output_type": "stream",
     "text": [
      "Model: \"sequential_2\"\n",
      "_________________________________________________________________\n",
      "Layer (type)                 Output Shape              Param #   \n",
      "=================================================================\n",
      "conv2d_3 (Conv2D)            (None, 32, 32, 64)        4864      \n",
      "_________________________________________________________________\n",
      "max_pooling2d_2 (MaxPooling2 (None, 16, 16, 64)        0         \n",
      "_________________________________________________________________\n",
      "batch_normalization (BatchNo (None, 16, 16, 64)        256       \n",
      "_________________________________________________________________\n",
      "conv2d_4 (Conv2D)            (None, 16, 16, 64)        102464    \n",
      "_________________________________________________________________\n",
      "max_pooling2d_3 (MaxPooling2 (None, 8, 8, 64)          0         \n",
      "_________________________________________________________________\n",
      "batch_normalization_1 (Batch (None, 8, 8, 64)          256       \n",
      "_________________________________________________________________\n",
      "flatten_1 (Flatten)          (None, 4096)              0         \n",
      "_________________________________________________________________\n",
      "dense_3 (Dense)              (None, 384)               1573248   \n",
      "_________________________________________________________________\n",
      "dropout_1 (Dropout)          (None, 384)               0         \n",
      "_________________________________________________________________\n",
      "dense_4 (Dense)              (None, 192)               73920     \n",
      "_________________________________________________________________\n",
      "dense_5 (Dense)              (None, 10)                1930      \n",
      "=================================================================\n",
      "Total params: 1,756,938\n",
      "Trainable params: 1,756,682\n",
      "Non-trainable params: 256\n",
      "_________________________________________________________________\n"
     ]
    }
   ],
   "source": [
    "model_3 = models.Sequential()\n",
    "\n",
    "#The 6 lines of code below define the convolutional base using a common pattern: a stack of Conv2D and MaxPooling2D layers.\n",
    "model_3.add(layers.Conv2D(64, (5, 5), padding='same', activation='relu', input_shape=(32, 32, 3)))\n",
    "model_3.add(layers.MaxPool2D(pool_size=3,strides=2,padding='same'))\n",
    "model_3.add(layers.BatchNormalization())\n",
    "model_3.add(layers.Conv2D(64, (5, 5), padding='same', activation='relu'))\n",
    "model_3.add(layers.MaxPool2D(pool_size=3,strides=2,padding='same'))\n",
    "model_3.add(layers.BatchNormalization())\n",
    "                \n",
    "model_3.add(layers.Flatten())\n",
    "model_3.add(layers.Dense(384, activation='relu'))\n",
    "model_3.add(layers.Dropout(0.5))\n",
    "model_3.add(layers.Dense(192, activation='relu'))\n",
    "model_3.add(layers.Dense(10, activation='softmax'))\n",
    "model_3.compile(optimizer='adam',\n",
    "              loss='sparse_categorical_crossentropy',\n",
    "              metrics=['accuracy'])\n",
    "\n",
    "model_3.summary()"
   ]
  },
  {
   "cell_type": "code",
   "execution_count": 27,
   "metadata": {},
   "outputs": [
    {
     "name": "stdout",
     "output_type": "stream",
     "text": [
      "Epoch 1/5\n",
      "1563/1563 [==============================] - 12s 7ms/step - loss: 1.5842 - accuracy: 0.4405 - val_loss: 1.2480 - val_accuracy: 0.5696\n",
      "Epoch 2/5\n",
      "1563/1563 [==============================] - 9s 6ms/step - loss: 1.1180 - accuracy: 0.6065 - val_loss: 1.0655 - val_accuracy: 0.6276\n",
      "Epoch 3/5\n",
      "1563/1563 [==============================] - 11s 7ms/step - loss: 0.9373 - accuracy: 0.6756 - val_loss: 0.8441 - val_accuracy: 0.7072\n",
      "Epoch 4/5\n",
      "1563/1563 [==============================] - 12s 8ms/step - loss: 0.8198 - accuracy: 0.7170 - val_loss: 0.9551 - val_accuracy: 0.6781\n",
      "Epoch 5/5\n",
      "1563/1563 [==============================] - 10s 7ms/step - loss: 0.7327 - accuracy: 0.7465 - val_loss: 0.9600 - val_accuracy: 0.6793\n",
      "Testing Accuracy : 0.6793\n"
     ]
    }
   ],
   "source": [
    "model_3.fit(X_train, y_train, epochs=5, validation_data=(X_test, y_test), verbose=1)\n",
    "_, test_acc_3 = model_3.evaluate(X_test, y_test, verbose=0)\n",
    "print('Testing Accuracy : %.4f'%test_acc_3)"
   ]
  },
  {
   "cell_type": "markdown",
   "metadata": {},
   "source": [
    "### Input Pipeline"
   ]
  },
  {
   "cell_type": "markdown",
   "metadata": {},
   "source": [
    "#### Structure of an input pipeline\n",
    "\n",
    "A typical TensorFlow training input pipeline can be framed as an ETL process:\n",
    "\n",
    "1. Extract: Read data from memory (NumPy) or persistent storage -- either local (HDD or SSD) or remote (e.g. GCS or HDFS).\n",
    "2. Transform: Use CPU to parse and perform preprocessing operations on the data such as shuffling, batching, and domain specific transformations such as image decompression and augmentation, text vectorization, or video temporal sampling.\n",
    "3. Load: Load the transformed data onto the accelerator device(s) (e.g. GPU(s) or TPU(s)) that execute the machine learning model.\n",
    "\n",
    "This pattern effectively utilizes the CPU, while reserving the accelerator for the heavy lifting of training your model. In addition, viewing input pipelines as an ETL process provides a framework that facilitates the application of performance optimizations.\n",
    "\n",
    "\n",
    "#### tf.data API\n",
    "To build a data input pipeline with tf.data, here are the steps that you can follow:\n",
    "\n",
    "1. Define data source and initialize your Dataset object\n",
    "2. Apply transformations on the dataset, following are some common useful techniques\n",
    "    - map\n",
    "    - shuffle\n",
    "    - batch\n",
    "    - repeat\n",
    "    - prefetch\n",
    "3. Create iterator\n"
   ]
  },
  {
   "cell_type": "markdown",
   "metadata": {},
   "source": [
    "#### Construct your Dataset"
   ]
  },
  {
   "cell_type": "code",
   "execution_count": 28,
   "metadata": {},
   "outputs": [
    {
     "name": "stdout",
     "output_type": "stream",
     "text": [
      "(200, 5) (200,)\n"
     ]
    }
   ],
   "source": [
    "# number of samples\n",
    "n_samples = 200\n",
    "\n",
    "# an array with shape (n_samples, 5)\n",
    "raw_data_a = np.random.rand(n_samples, 5)\n",
    "# a list with length of n_samples from 0 to n_samples-1\n",
    "raw_data_b = np.arange(n_samples)\n",
    "print(raw_data_a.shape, raw_data_b.shape)"
   ]
  },
  {
   "cell_type": "code",
   "execution_count": 29,
   "metadata": {},
   "outputs": [],
   "source": [
    "# this tells the dataset that each row of raw_data_a is corresponding to each element of raw_data_b\n",
    "raw_dataset = tf.data.Dataset.from_tensor_slices((raw_data_a, raw_data_b))"
   ]
  },
  {
   "cell_type": "markdown",
   "metadata": {},
   "source": [
    "#### Consume elements"
   ]
  },
  {
   "cell_type": "code",
   "execution_count": 30,
   "metadata": {},
   "outputs": [
    {
     "name": "stdout",
     "output_type": "stream",
     "text": [
      "Batch  0 , b are  (<tf.Tensor: shape=(5,), dtype=float64, numpy=array([0.01365423, 0.85581462, 0.51040292, 0.31045467, 0.38540368])>, <tf.Tensor: shape=(), dtype=int32, numpy=0>)\n",
      "Batch  1 , b are  (<tf.Tensor: shape=(5,), dtype=float64, numpy=array([0.10791608, 0.48917603, 0.1926033 , 0.13803773, 0.72875232])>, <tf.Tensor: shape=(), dtype=int32, numpy=1>)\n",
      "Batch  2 , b are  (<tf.Tensor: shape=(5,), dtype=float64, numpy=array([0.72704881, 0.92856542, 0.2038931 , 0.36001462, 0.14057212])>, <tf.Tensor: shape=(), dtype=int32, numpy=2>)\n",
      "Batch  3 , b are  (<tf.Tensor: shape=(5,), dtype=float64, numpy=array([0.6723939 , 0.28275128, 0.1835762 , 0.58160727, 0.92447781])>, <tf.Tensor: shape=(), dtype=int32, numpy=3>)\n",
      "Batch  4 , b are  (<tf.Tensor: shape=(5,), dtype=float64, numpy=array([0.07473727, 0.4235206 , 0.69584754, 0.09818716, 0.37283048])>, <tf.Tensor: shape=(), dtype=int32, numpy=4>)\n",
      "Batch  5 , b are  (<tf.Tensor: shape=(5,), dtype=float64, numpy=array([0.56477512, 0.66249414, 0.88847749, 0.41797584, 0.35359155])>, <tf.Tensor: shape=(), dtype=int32, numpy=5>)\n",
      "Batch  6 , b are  (<tf.Tensor: shape=(5,), dtype=float64, numpy=array([0.78933091, 0.45331705, 0.45392884, 0.49704428, 0.39560576])>, <tf.Tensor: shape=(), dtype=int32, numpy=6>)\n",
      "Batch  7 , b are  (<tf.Tensor: shape=(5,), dtype=float64, numpy=array([0.30782572, 0.97554516, 0.82836022, 0.48526022, 0.40009522])>, <tf.Tensor: shape=(), dtype=int32, numpy=7>)\n"
     ]
    }
   ],
   "source": [
    "# Here, we print the first 8 batches.\n",
    "for i,elem in enumerate(raw_dataset):\n",
    "    print(\"Batch \", i, \", b are \", elem)\n",
    "    if i==7:\n",
    "        break"
   ]
  },
  {
   "cell_type": "code",
   "execution_count": 31,
   "metadata": {},
   "outputs": [
    {
     "name": "stdout",
     "output_type": "stream",
     "text": [
      "Batch  0 , b are  (<tf.Tensor: shape=(5,), dtype=float64, numpy=array([0.01365423, 0.85581462, 0.51040292, 0.31045467, 0.38540368])>, <tf.Tensor: shape=(), dtype=int32, numpy=0>)\n",
      "Batch  1 , b are  (<tf.Tensor: shape=(5,), dtype=float64, numpy=array([0.10791608, 0.48917603, 0.1926033 , 0.13803773, 0.72875232])>, <tf.Tensor: shape=(), dtype=int32, numpy=1>)\n",
      "Batch  2 , b are  (<tf.Tensor: shape=(5,), dtype=float64, numpy=array([0.72704881, 0.92856542, 0.2038931 , 0.36001462, 0.14057212])>, <tf.Tensor: shape=(), dtype=int32, numpy=2>)\n",
      "Batch  3 , b are  (<tf.Tensor: shape=(5,), dtype=float64, numpy=array([0.6723939 , 0.28275128, 0.1835762 , 0.58160727, 0.92447781])>, <tf.Tensor: shape=(), dtype=int32, numpy=3>)\n",
      "Batch  4 , b are  (<tf.Tensor: shape=(5,), dtype=float64, numpy=array([0.07473727, 0.4235206 , 0.69584754, 0.09818716, 0.37283048])>, <tf.Tensor: shape=(), dtype=int32, numpy=4>)\n",
      "Batch  5 , b are  (<tf.Tensor: shape=(5,), dtype=float64, numpy=array([0.56477512, 0.66249414, 0.88847749, 0.41797584, 0.35359155])>, <tf.Tensor: shape=(), dtype=int32, numpy=5>)\n",
      "Batch  6 , b are  (<tf.Tensor: shape=(5,), dtype=float64, numpy=array([0.78933091, 0.45331705, 0.45392884, 0.49704428, 0.39560576])>, <tf.Tensor: shape=(), dtype=int32, numpy=6>)\n",
      "Batch  7 , b are  (<tf.Tensor: shape=(5,), dtype=float64, numpy=array([0.30782572, 0.97554516, 0.82836022, 0.48526022, 0.40009522])>, <tf.Tensor: shape=(), dtype=int32, numpy=7>)\n"
     ]
    }
   ],
   "source": [
    "# Here, we print the first 8 batches.\n",
    "it = iter(raw_dataset)\n",
    "for i in range(8):\n",
    "    print(\"Batch \", i, \", b are \", next(it))"
   ]
  },
  {
   "cell_type": "markdown",
   "metadata": {},
   "source": [
    "#### Apply transformations"
   ]
  },
  {
   "cell_type": "code",
   "execution_count": 32,
   "metadata": {},
   "outputs": [],
   "source": [
    "def preprocess_function(one_row_a, one_b):\n",
    "    \"\"\"\n",
    "        Input: one slice of the dataset\n",
    "        Output: modified slice\n",
    "    \"\"\"\n",
    "    # Do some data preprocessing, you can also input filenames and load data in here\n",
    "    # Here, we transform each row of raw_data_a to its sum and mean\n",
    "    one_row_a = [tf.reduce_sum(one_row_a), tf.reduce_mean(one_row_a)]\n",
    "\n",
    "    return one_row_a, one_b\n",
    "\n",
    "raw_dataset = raw_dataset.map(preprocess_function, num_parallel_calls=tf.data.experimental.AUTOTUNE)"
   ]
  },
  {
   "cell_type": "code",
   "execution_count": 33,
   "metadata": {},
   "outputs": [
    {
     "name": "stdout",
     "output_type": "stream",
     "text": [
      "Batch  0 , b are  (<tf.Tensor: shape=(2,), dtype=float64, numpy=array([2.07573013, 0.41514603])>, <tf.Tensor: shape=(), dtype=int32, numpy=0>)\n",
      "Batch  1 , b are  (<tf.Tensor: shape=(2,), dtype=float64, numpy=array([1.65648546, 0.33129709])>, <tf.Tensor: shape=(), dtype=int32, numpy=1>)\n",
      "Batch  2 , b are  (<tf.Tensor: shape=(2,), dtype=float64, numpy=array([2.36009408, 0.47201882])>, <tf.Tensor: shape=(), dtype=int32, numpy=2>)\n",
      "Batch  3 , b are  (<tf.Tensor: shape=(2,), dtype=float64, numpy=array([2.64480645, 0.52896129])>, <tf.Tensor: shape=(), dtype=int32, numpy=3>)\n",
      "Batch  4 , b are  (<tf.Tensor: shape=(2,), dtype=float64, numpy=array([1.66512305, 0.33302461])>, <tf.Tensor: shape=(), dtype=int32, numpy=4>)\n",
      "Batch  5 , b are  (<tf.Tensor: shape=(2,), dtype=float64, numpy=array([2.88731413, 0.57746283])>, <tf.Tensor: shape=(), dtype=int32, numpy=5>)\n",
      "Batch  6 , b are  (<tf.Tensor: shape=(2,), dtype=float64, numpy=array([2.58922683, 0.51784537])>, <tf.Tensor: shape=(), dtype=int32, numpy=6>)\n",
      "Batch  7 , b are  (<tf.Tensor: shape=(2,), dtype=float64, numpy=array([2.99708653, 0.59941731])>, <tf.Tensor: shape=(), dtype=int32, numpy=7>)\n"
     ]
    }
   ],
   "source": [
    "it = iter(raw_dataset)\n",
    "for i in range(8):\n",
    "    print(\"Batch \", i, \", b are \", next(it))"
   ]
  },
  {
   "cell_type": "code",
   "execution_count": 34,
   "metadata": {},
   "outputs": [],
   "source": [
    "# shuffle\n",
    "dataset = raw_dataset.shuffle(16)"
   ]
  },
  {
   "cell_type": "code",
   "execution_count": 35,
   "metadata": {},
   "outputs": [
    {
     "name": "stdout",
     "output_type": "stream",
     "text": [
      "Batch  0 , b are  (<tf.Tensor: shape=(2,), dtype=float64, numpy=array([1.99459138, 0.39891828])>, <tf.Tensor: shape=(), dtype=int32, numpy=13>)\n",
      "Batch  1 , b are  (<tf.Tensor: shape=(2,), dtype=float64, numpy=array([3.49343738, 0.69868748])>, <tf.Tensor: shape=(), dtype=int32, numpy=14>)\n",
      "Batch  2 , b are  (<tf.Tensor: shape=(2,), dtype=float64, numpy=array([2.58922683, 0.51784537])>, <tf.Tensor: shape=(), dtype=int32, numpy=6>)\n",
      "Batch  3 , b are  (<tf.Tensor: shape=(2,), dtype=float64, numpy=array([2.11846222, 0.42369244])>, <tf.Tensor: shape=(), dtype=int32, numpy=12>)\n",
      "Batch  4 , b are  (<tf.Tensor: shape=(2,), dtype=float64, numpy=array([1.74006139, 0.34801228])>, <tf.Tensor: shape=(), dtype=int32, numpy=15>)\n",
      "Batch  5 , b are  (<tf.Tensor: shape=(2,), dtype=float64, numpy=array([3.11697928, 0.62339586])>, <tf.Tensor: shape=(), dtype=int32, numpy=10>)\n",
      "Batch  6 , b are  (<tf.Tensor: shape=(2,), dtype=float64, numpy=array([2.99708653, 0.59941731])>, <tf.Tensor: shape=(), dtype=int32, numpy=7>)\n",
      "Batch  7 , b are  (<tf.Tensor: shape=(2,), dtype=float64, numpy=array([4.09369826, 0.81873965])>, <tf.Tensor: shape=(), dtype=int32, numpy=9>)\n",
      "\n",
      "The order of the first 8 shuffle from [0, 1, 2, 3, 4, 5, 6, 7] to  [13, 14, 6, 12, 15, 10, 7, 9]\n"
     ]
    }
   ],
   "source": [
    "idxs = []\n",
    "for i,elem in enumerate(dataset):\n",
    "    print(\"Batch \", i, \", b are \", elem)\n",
    "    idxs.append(elem[1].numpy())\n",
    "    if i==7:\n",
    "        break\n",
    "        \n",
    "print(\"\\nThe order of the first 8 shuffle from [0, 1, 2, 3, 4, 5, 6, 7] to \",idxs)"
   ]
  },
  {
   "cell_type": "code",
   "execution_count": 36,
   "metadata": {},
   "outputs": [],
   "source": [
    "# batch\n",
    "dataset = dataset.batch(2, drop_remainder=False)"
   ]
  },
  {
   "cell_type": "code",
   "execution_count": 37,
   "metadata": {},
   "outputs": [
    {
     "name": "stdout",
     "output_type": "stream",
     "text": [
      "Batch  0 , b are  (<tf.Tensor: shape=(2, 2), dtype=float64, numpy=\n",
      "array([[2.58922683, 0.51784537],\n",
      "       [4.09369826, 0.81873965]])>, <tf.Tensor: shape=(2,), dtype=int32, numpy=array([6, 9])>)\n",
      "\n",
      "Batch  1 , b are  (<tf.Tensor: shape=(2, 2), dtype=float64, numpy=\n",
      "array([[2.64480645, 0.52896129],\n",
      "       [2.11846222, 0.42369244]])>, <tf.Tensor: shape=(2,), dtype=int32, numpy=array([ 3, 12])>)\n",
      "\n",
      "Batch  2 , b are  (<tf.Tensor: shape=(2, 2), dtype=float64, numpy=\n",
      "array([[2.07573013, 0.41514603],\n",
      "       [2.06169511, 0.41233902]])>, <tf.Tensor: shape=(2,), dtype=int32, numpy=array([ 0, 17])>)\n",
      "\n",
      "Batch  3 , b are  (<tf.Tensor: shape=(2, 2), dtype=float64, numpy=\n",
      "array([[2.99708653, 0.59941731],\n",
      "       [3.10802273, 0.62160455]])>, <tf.Tensor: shape=(2,), dtype=int32, numpy=array([ 7, 18])>)\n",
      "\n",
      "Batch  4 , b are  (<tf.Tensor: shape=(2, 2), dtype=float64, numpy=\n",
      "array([[1.99459138, 0.39891828],\n",
      "       [2.57278687, 0.51455737]])>, <tf.Tensor: shape=(2,), dtype=int32, numpy=array([13, 19])>)\n",
      "\n",
      "Batch  5 , b are  (<tf.Tensor: shape=(2, 2), dtype=float64, numpy=\n",
      "array([[2.44700223, 0.48940045],\n",
      "       [2.73820802, 0.5476416 ]])>, <tf.Tensor: shape=(2,), dtype=int32, numpy=array([11, 16])>)\n",
      "\n",
      "Batch  6 , b are  (<tf.Tensor: shape=(2, 2), dtype=float64, numpy=\n",
      "array([[2.39377416, 0.47875483],\n",
      "       [3.27482687, 0.65496537]])>, <tf.Tensor: shape=(2,), dtype=int32, numpy=array([22, 27])>)\n",
      "\n",
      "Batch  7 , b are  (<tf.Tensor: shape=(2, 2), dtype=float64, numpy=\n",
      "array([[2.88731413, 0.57746283],\n",
      "       [2.49907026, 0.49981405]])>, <tf.Tensor: shape=(2,), dtype=int32, numpy=array([ 5, 26])>)\n",
      "\n",
      "\n",
      "After `dataset.batch(2)`,\n",
      "Batch 0 is combined by 6th and 9th,\n",
      "Batch 1 is combined by 3th and 12th,\n",
      "Batch 2 is combined by 0th and 17th, etc.\n"
     ]
    }
   ],
   "source": [
    "idxs = []\n",
    "for i,elem in enumerate(dataset):\n",
    "    print(\"Batch \", i, \", b are \", elem)\n",
    "    print(\"\")\n",
    "    idxs.append(elem[1].numpy())\n",
    "    if i==7:\n",
    "        break\n",
    "        \n",
    "print(\"\\nAfter `dataset.batch(2)`,\\nBatch 0 is combined by %dth and %dth,\\nBatch 1 is combined by %dth and %dth,\\nBatch 2 is combined by %dth and %dth, etc.\"%(idxs[0][0],idxs[0][1],idxs[1][0],idxs[1][1],idxs[2][0],idxs[2][1]))"
   ]
  },
  {
   "cell_type": "code",
   "execution_count": 38,
   "metadata": {},
   "outputs": [],
   "source": [
    "# repeat\n",
    "dataset = dataset.repeat(2)"
   ]
  },
  {
   "cell_type": "code",
   "execution_count": 39,
   "metadata": {},
   "outputs": [
    {
     "name": "stdout",
     "output_type": "stream",
     "text": [
      "End of epoch 0: Total 200 batches in this epoch with 400 pieces of data\n",
      "End of epoch 1: Total 200 batches in this epoch with 400 pieces of data\n",
      "End of epoch 2: Total 200 batches in this epoch with 400 pieces of data\n"
     ]
    }
   ],
   "source": [
    "epochs = 3\n",
    "\n",
    "for epoch in range(epochs):\n",
    "    size = 0\n",
    "    n_batch = 0\n",
    "    for batch in dataset:\n",
    "        size += len(batch[1])\n",
    "        n_batch += 1\n",
    "    print(\"End of epoch %d: Total %d batches in this epoch with %d pieces of data\"%(epoch, n_batch, size))"
   ]
  },
  {
   "cell_type": "code",
   "execution_count": 40,
   "metadata": {},
   "outputs": [],
   "source": [
    "# prefetch\n",
    "dataset = dataset.prefetch(buffer_size=tf.data.experimental.AUTOTUNE)"
   ]
  },
  {
   "cell_type": "code",
   "execution_count": 41,
   "metadata": {},
   "outputs": [],
   "source": [
    "# use this function to plot the size of each batch.\n",
    "def plot_batch_sizes(ds,title):\n",
    "    batch_sizes = [batch[1].shape[0] for batch in ds]\n",
    "    plt.bar(range(len(batch_sizes)), batch_sizes)\n",
    "    plt.xlabel('Batch number')\n",
    "    plt.ylabel('Batch size')\n",
    "    plt.title(title)\n",
    "    plt.show()"
   ]
  },
  {
   "cell_type": "code",
   "execution_count": 42,
   "metadata": {},
   "outputs": [
    {
     "data": {
      "image/png": "[encoded data removed]",
      "text/plain": [
       "<Figure size 640x480 with 1 Axes>"
      ]
     },
     "metadata": {},
     "output_type": "display_data"
    }
   ],
   "source": [
    "# plot the bar diagram of repeat+batch\n",
    "repeat_batch_ds = raw_dataset.repeat(3).batch(32)\n",
    "plot_batch_sizes(repeat_batch_ds,'repeat+batch')"
   ]
  },
  {
   "cell_type": "code",
   "execution_count": 43,
   "metadata": {},
   "outputs": [
    {
     "data": {
      "image/png": "[encoded data removed]",
      "text/plain": [
       "<Figure size 640x480 with 1 Axes>"
      ]
     },
     "metadata": {},
     "output_type": "display_data"
    }
   ],
   "source": [
    "# plot the bar diagram of batch+repeat\n",
    "batch_repeat_ds = raw_dataset.batch(32).repeat(3)\n",
    "plot_batch_sizes(batch_repeat_ds,'batch+repeat')"
   ]
  },
  {
   "cell_type": "code",
   "execution_count": 44,
   "metadata": {},
   "outputs": [
    {
     "data": {
      "text/plain": [
       "<matplotlib.legend.Legend at 0x1ee1b336df0>"
      ]
     },
     "execution_count": 44,
     "metadata": {},
     "output_type": "execute_result"
    },
    {
     "data": {
      "image/png": "[encoded data removed]",
      "text/plain": [
       "<Figure size 640x480 with 1 Axes>"
      ]
     },
     "metadata": {},
     "output_type": "display_data"
    }
   ],
   "source": [
    "# shuffle + repeat / repeat + shuffle\n",
    "# You can find that a repeat before a shuffle mixes the epoch boundaries in this graph.\n",
    "shuffle_repeat_ds = raw_dataset.shuffle(32).repeat(3).batch(16)\n",
    "repeat_shuffle_ds = raw_dataset.repeat(3).shuffle(32).batch(16)\n",
    "\n",
    "shuffle_repeat = [batch[1].numpy().mean() for batch in shuffle_repeat_ds]\n",
    "repeat_shuffle = [batch[1].numpy().mean() for batch in repeat_shuffle_ds]\n",
    "\n",
    "plt.plot(shuffle_repeat, label=\"shuffle().repeat()\")\n",
    "plt.plot(repeat_shuffle, label=\"repeat().shuffle()\")\n",
    "plt.xlabel('Batch number')\n",
    "plt.ylabel(\"Mean of b in each batch\")\n",
    "plt.legend()"
   ]
  },
  {
   "cell_type": "markdown",
   "metadata": {},
   "source": [
    "### CNN Model for CIFAR 10"
   ]
  },
  {
   "cell_type": "markdown",
   "metadata": {},
   "source": [
    "#### Loading Data Manually"
   ]
  },
  {
   "cell_type": "code",
   "execution_count": 45,
   "metadata": {},
   "outputs": [],
   "source": [
    "# the url to download CIFAR-10 dataset (binary version)\n",
    "# see format and details here: http://www.cs.toronto.edu/~kriz/cifar.html\n",
    "DATA_URL = 'https://www.cs.toronto.edu/~kriz/cifar-10-python.tar.gz'\n",
    "# the image size we want to keep\n",
    "IMAGE_SIZE_CROPPED = 24\n",
    "IMAGE_HEIGHT = 32\n",
    "IMAGE_WIDTH = 32\n",
    "IMAGE_DEPTH = 3"
   ]
  },
  {
   "cell_type": "code",
   "execution_count": 46,
   "metadata": {},
   "outputs": [
    {
     "name": "stdout",
     "output_type": "stream",
     "text": [
      "Downloading data from https://www.cs.toronto.edu/~kriz/cifar-10-python.tar.gz\n",
      "170500096/170498071 [==============================] - 16s 0us/step\n"
     ]
    }
   ],
   "source": [
    "# donwnload data\n",
    "if not os.path.exists(\"cifar-10-batches-py/\"): \n",
    "    cifar10 = utils.get_file('cifar-10-python.tar.gz',\n",
    "                                      cache_subdir=os.path.abspath('.'),\n",
    "                                      origin = DATA_URL,\n",
    "                                      extract = True)\n",
    "\n"
   ]
  },
  {
   "cell_type": "code",
   "execution_count": 47,
   "metadata": {},
   "outputs": [],
   "source": [
    "DEST_DIRECTORY = 'cifar-10-batches-py'\n",
    "filenames_train = [os.path.join(DEST_DIRECTORY,'data_batch_%d' % i) for i in range(1,6)]\n",
    "filenames_test = [os.path.join(DEST_DIRECTORY,'test_batch')]"
   ]
  },
  {
   "cell_type": "code",
   "execution_count": 48,
   "metadata": {},
   "outputs": [],
   "source": [
    "# save (img_path, label) pairs\n",
    "with open('cifar10_train.csv', 'w', newline='') as csvfile:\n",
    "    writer = csv.writer(csvfile)\n",
    "    writer.writerow(['filenames'])\n",
    "    writer.writerows(np.array(filenames_train).reshape(-1,1))\n",
    "        \n",
    "with open('cifar10_test.csv', 'w', newline='') as csvfile:\n",
    "    writer = csv.writer(csvfile)\n",
    "    writer.writerow(['filenames'])\n",
    "    writer.writerows(np.array(filenames_test).reshape(-1,1))"
   ]
  },
  {
   "cell_type": "code",
   "execution_count": 49,
   "metadata": {},
   "outputs": [],
   "source": [
    "# read data\n",
    "def read_file(file):\n",
    "    with open(file, 'rb') as fo:\n",
    "        raw_data = pickle.load(fo, encoding='bytes')\n",
    "    return raw_data[b'data'],raw_data[b'labels']\n",
    "\n",
    "# parse training data\n",
    "@tf.function\n",
    "def map_fun(image,label):\n",
    "    image = tf.reshape(image,[IMAGE_DEPTH,IMAGE_HEIGHT,IMAGE_WIDTH])\n",
    "    image = tf.divide(tf.cast(tf.transpose(image,[1,2,0]),tf.float32),255.0)\n",
    "    label = tf.one_hot(label,10)\n",
    "    distorted_image = tf.image.resize_with_crop_or_pad(image, IMAGE_SIZE_CROPPED,IMAGE_SIZE_CROPPED)\n",
    "    distorted_image = tf.image.random_flip_left_right(distorted_image)\n",
    "    distorted_image = tf.image.random_brightness(distorted_image, max_delta=63)\n",
    "    distorted_image = tf.image.random_contrast(distorted_image, lower=0.2, upper=1.8)\n",
    "    distorted_image = tf.image.per_image_standardization(distorted_image)\n",
    "    return distorted_image, label\n",
    "\n",
    "# parse testing data\n",
    "@tf.function\n",
    "def map_fun_test(image,label):\n",
    "    image = tf.reshape(image,[IMAGE_DEPTH,IMAGE_HEIGHT,IMAGE_WIDTH])\n",
    "    image = tf.divide(tf.cast(tf.transpose(image,[1,2,0]),tf.float32),255.0)\n",
    "    label = tf.one_hot(label,10)\n",
    "    distorted_image = tf.image.resize_with_crop_or_pad(image, IMAGE_SIZE_CROPPED,IMAGE_SIZE_CROPPED)\n",
    "    distorted_image = tf.image.per_image_standardization(distorted_image)\n",
    "    return distorted_image, label"
   ]
  },
  {
   "cell_type": "code",
   "execution_count": 50,
   "metadata": {},
   "outputs": [],
   "source": [
    "X_train = None\n",
    "Y_train = None\n",
    "X_test = None\n",
    "Y_test = None\n",
    "\n",
    "for filename in filenames_train:\n",
    "    image,label = read_file(filename)\n",
    "    X_train = image if X_train is None else np.concatenate((X_train,image))\n",
    "    Y_train = label if Y_train is None else np.concatenate((Y_train,label))\n",
    "\n",
    "for filename in filenames_test:\n",
    "    image,label = read_file(filename)\n",
    "    X_test = image if X_test is None else np.concatenate((X_test,image))\n",
    "    Y_test = label if Y_test is None else np.concatenate((Y_test,label))\n",
    "\n",
    "# Construct training Dataset\n",
    "dataset = tf.data.Dataset.from_tensor_slices((X_train,Y_train)).map(map_fun).shuffle(10000).batch(64)\n",
    "\n",
    "# # Construct testing Dataset\n",
    "dataset_test = tf.data.Dataset.from_tensor_slices((X_test,Y_test)).map(map_fun_test).batch(64)"
   ]
  },
  {
   "cell_type": "code",
   "execution_count": 51,
   "metadata": {},
   "outputs": [],
   "source": [
    "model_cifar = models.Sequential()\n",
    "\n",
    "model_cifar.add(layers.Conv2D(64, (5, 5), padding='same', activation='relu', input_shape=(24, 24, 3)))\n",
    "model_cifar.add(layers.MaxPool2D(pool_size=3,strides=2,padding='same'))\n",
    "model_cifar.add(layers.BatchNormalization())\n",
    "                \n",
    "model_cifar.add(layers.Conv2D(64, (5, 5), padding='same', activation='relu'))\n",
    "model_cifar.add(layers.MaxPool2D(pool_size=3,strides=2,padding='same'))\n",
    "model_cifar.add(layers.BatchNormalization())\n",
    "                \n",
    "model_cifar.add(layers.Flatten())\n",
    "model_cifar.add(layers.Dense(384, activation='relu'))\n",
    "model_cifar.add(layers.Dropout(0.5))\n",
    "model_cifar.add(layers.Dense(192, activation='relu'))\n",
    "model_cifar.add(layers.Dropout(0.5))\n",
    "model_cifar.add(layers.Dense(10, activation='softmax'))"
   ]
  },
  {
   "cell_type": "code",
   "execution_count": 52,
   "metadata": {},
   "outputs": [
    {
     "name": "stdout",
     "output_type": "stream",
     "text": [
      "Model: \"sequential_3\"\n",
      "_________________________________________________________________\n",
      "Layer (type)                 Output Shape              Param #   \n",
      "=================================================================\n",
      "conv2d_5 (Conv2D)            (None, 24, 24, 64)        4864      \n",
      "_________________________________________________________________\n",
      "max_pooling2d_4 (MaxPooling2 (None, 12, 12, 64)        0         \n",
      "_________________________________________________________________\n",
      "batch_normalization_2 (Batch (None, 12, 12, 64)        256       \n",
      "_________________________________________________________________\n",
      "conv2d_6 (Conv2D)            (None, 12, 12, 64)        102464    \n",
      "_________________________________________________________________\n",
      "max_pooling2d_5 (MaxPooling2 (None, 6, 6, 64)          0         \n",
      "_________________________________________________________________\n",
      "batch_normalization_3 (Batch (None, 6, 6, 64)          256       \n",
      "_________________________________________________________________\n",
      "flatten_2 (Flatten)          (None, 2304)              0         \n",
      "_________________________________________________________________\n",
      "dense_6 (Dense)              (None, 384)               885120    \n",
      "_________________________________________________________________\n",
      "dropout_2 (Dropout)          (None, 384)               0         \n",
      "_________________________________________________________________\n",
      "dense_7 (Dense)              (None, 192)               73920     \n",
      "_________________________________________________________________\n",
      "dropout_3 (Dropout)          (None, 192)               0         \n",
      "_________________________________________________________________\n",
      "dense_8 (Dense)              (None, 10)                1930      \n",
      "=================================================================\n",
      "Total params: 1,068,810\n",
      "Trainable params: 1,068,554\n",
      "Non-trainable params: 256\n",
      "_________________________________________________________________\n"
     ]
    }
   ],
   "source": [
    "model_cifar.compile(optimizer='adam',\n",
    "              loss='categorical_crossentropy',\n",
    "              metrics=['accuracy'])\n",
    "model_cifar.summary()"
   ]
  },
  {
   "cell_type": "code",
   "execution_count": 53,
   "metadata": {},
   "outputs": [
    {
     "name": "stdout",
     "output_type": "stream",
     "text": [
      "Epoch 1/5\n",
      "782/782 [==============================] - 13s 14ms/step - loss: 1.7853 - accuracy: 0.3712 - val_loss: 1.3321 - val_accuracy: 0.5306\n",
      "Epoch 2/5\n",
      "782/782 [==============================] - 11s 13ms/step - loss: 1.3525 - accuracy: 0.5251 - val_loss: 1.1171 - val_accuracy: 0.6146\n",
      "Epoch 3/5\n",
      "782/782 [==============================] - 11s 13ms/step - loss: 1.1901 - accuracy: 0.5909 - val_loss: 1.0273 - val_accuracy: 0.6487\n",
      "Epoch 4/5\n",
      "782/782 [==============================] - 11s 13ms/step - loss: 1.0830 - accuracy: 0.6285 - val_loss: 0.9080 - val_accuracy: 0.6933\n",
      "Epoch 5/5\n",
      "782/782 [==============================] - 11s 13ms/step - loss: 1.0031 - accuracy: 0.6605 - val_loss: 0.8487 - val_accuracy: 0.7130\n",
      "test accuracy: 0.7129999995231628\n"
     ]
    }
   ],
   "source": [
    "model_cifar.fit(dataset, epochs=5, validation_data=dataset_test, verbose=1)\n",
    "_, test_acc = model_cifar.evaluate(dataset_test, verbose=0)\n",
    "print('test accuracy:',test_acc)"
   ]
  },
  {
   "cell_type": "markdown",
   "metadata": {},
   "source": [
    "### Optimization for input pipeline"
   ]
  },
  {
   "cell_type": "markdown",
   "metadata": {},
   "source": [
    "#### Dataset with time"
   ]
  },
  {
   "cell_type": "code",
   "execution_count": 54,
   "metadata": {},
   "outputs": [],
   "source": [
    "# construct a new dataset with time informantion\n",
    "class TimeMeasuredDataset(tf.data.Dataset):\n",
    "    # OUTPUT: (steps, timings, counters, img, label)\n",
    "    OUTPUT_SIGNATURE=(\n",
    "        tf.TensorSpec(shape=(2, 1), dtype=tf.string), # steps: [(\"Open\",), (\"Read\",)]\n",
    "        tf.TensorSpec(shape=(2, 2), dtype=tf.float32), # timings: [(open_enter, open_elapsed), (read_enter, read_elapsed)]\n",
    "        tf.TensorSpec(shape=(2, 3), dtype=tf.int32), # counters: [(instance_idx, epoch_idx, -1), (instance_idx, epoch_idx, example_idx)]\n",
    "        tf.TensorSpec(shape=(3072), dtype=tf.float32), # img: 32*32*3\n",
    "        tf.TensorSpec(shape=(), dtype=tf.int32) # label\n",
    "    )\n",
    "\n",
    "    _INSTANCES_COUNTER = itertools.count()  # Number of datasets generated\n",
    "    _EPOCHS_COUNTER = defaultdict(itertools.count)  # Number of epochs done for each dataset\n",
    "\n",
    "    def _generator(instance_idx, filename, open_file, read_file):\n",
    "        epoch_idx = next(TimeMeasuredDataset._EPOCHS_COUNTER[instance_idx])\n",
    "\n",
    "        # Opening the file\n",
    "        open_enter = time.perf_counter()\n",
    "        filenames = open_file(filename)\n",
    "        open_elapsed = time.perf_counter() - open_enter\n",
    "        # ----------------\n",
    "        \n",
    "        # Reading the file\n",
    "        read_enter = time.perf_counter()\n",
    "        imgs, label = [], []\n",
    "        for filename in filenames:\n",
    "            tmp_imgs, tmp_label = read_file(filename)\n",
    "            imgs.append(tmp_imgs)\n",
    "            label.append(tmp_label)\n",
    "        imgs = tf.concat(imgs, axis=0)\n",
    "        label = tf.concat(label, axis=0)\n",
    "        read_elapsed = (time.perf_counter() - read_enter) / imgs.shape[0]\n",
    "        \n",
    "        for sample_idx in range(imgs.shape[0]):\n",
    "            read_enter = read_enter if sample_idx == 0 else time.perf_counter()\n",
    "            \n",
    "            yield (\n",
    "                [(\"Open\",), (\"Read\",)],\n",
    "                [(open_enter, open_elapsed), (read_enter, read_elapsed)],\n",
    "                [(instance_idx, epoch_idx, -1), (instance_idx, epoch_idx, sample_idx)],\n",
    "                imgs[sample_idx],\n",
    "                label[sample_idx]\n",
    "            )\n",
    "            open_enter, open_elapsed = -1., -1.  # Negative values will be filtered\n",
    "\n",
    "\n",
    "    def __new__(cls, filename, open_file, read_file):\n",
    "        def generator_func(instance_idx, filename):\n",
    "            return cls._generator(instance_idx, filename, open_file, read_file)\n",
    "\n",
    "        return tf.data.Dataset.from_generator(\n",
    "            generator_func,\n",
    "            output_signature=cls.OUTPUT_SIGNATURE,\n",
    "            args=(next(cls._INSTANCES_COUNTER), filename)\n",
    "        )"
   ]
  },
  {
   "cell_type": "code",
   "execution_count": 55,
   "metadata": {},
   "outputs": [
    {
     "name": "stdout",
     "output_type": "stream",
     "text": [
      "(<tf.Tensor: shape=(2, 1), dtype=string, numpy=\n",
      "array([[b'Open'],\n",
      "       [b'Read']], dtype=object)>, <tf.Tensor: shape=(2, 2), dtype=float32, numpy=\n",
      "array([[2.0811821e+03, 1.8042700e-02],\n",
      "       [2.0812002e+03, 4.7666281e-06]], dtype=float32)>, <tf.Tensor: shape=(2, 3), dtype=int32, numpy=\n",
      "array([[ 0,  0, -1],\n",
      "       [ 0,  0,  0]])>, <tf.Tensor: shape=(3072,), dtype=float32, numpy=array([ 59.,  43.,  50., ..., 140.,  84.,  72.], dtype=float32)>, <tf.Tensor: shape=(), dtype=int32, numpy=6>)\n",
      "now time 2081.4417155\n",
      "-------------------------------------------------------------------------------\n",
      "(<tf.Tensor: shape=(2, 1), dtype=string, numpy=\n",
      "array([[b'Open'],\n",
      "       [b'Read']], dtype=object)>, <tf.Tensor: shape=(2, 2), dtype=float32, numpy=\n",
      "array([[-1.0000000e+00, -1.0000000e+00],\n",
      "       [ 2.0814421e+03,  4.7666281e-06]], dtype=float32)>, <tf.Tensor: shape=(2, 3), dtype=int32, numpy=\n",
      "array([[ 0,  0, -1],\n",
      "       [ 0,  0,  1]])>, <tf.Tensor: shape=(3072,), dtype=float32, numpy=array([154., 126., 105., ..., 139., 142., 144.], dtype=float32)>, <tf.Tensor: shape=(), dtype=int32, numpy=9>)\n",
      "now time 2081.443597\n",
      "-------------------------------------------------------------------------------\n"
     ]
    }
   ],
   "source": [
    "def open_file(filename):\n",
    "    rows = pd.read_csv(filename.decode(\"utf-8\"))\n",
    "    filenames = rows['filenames']\n",
    "    return filenames\n",
    "\n",
    "def read_file(filename):\n",
    "    with open(filename, 'rb') as fo:\n",
    "        raw_data = pickle.load(fo, encoding='bytes')\n",
    "    return raw_data[b'data'], raw_data[b'labels']\n",
    "\n",
    "def dataset_generator_fun_train(*args):\n",
    "    return TimeMeasuredDataset('cifar10_train.csv', open_file, read_file)\n",
    "\n",
    "def dataset_generator_fun_test(*args):\n",
    "    return TimeMeasuredDataset('cifar10_test.csv', open_file, read_file)\n",
    "\n",
    "for i in tf.data.Dataset.range(1).flat_map(dataset_generator_fun_train).take(2):\n",
    "    print(i)\n",
    "    print(\"now time\", time.perf_counter())\n",
    "    print(\"-------------------------------------------------------------------------------\")"
   ]
  },
  {
   "cell_type": "markdown",
   "metadata": {},
   "source": [
    "### Map function with time"
   ]
  },
  {
   "cell_type": "code",
   "execution_count": 56,
   "metadata": {},
   "outputs": [],
   "source": [
    "IMAGE_SIZE_CROPPED = 24\n",
    "IMAGE_HEIGHT = 32\n",
    "IMAGE_WIDTH = 32\n",
    "IMAGE_DEPTH = 3\n",
    "\n",
    "def map_decorator(func):\n",
    "    def wrapper(steps, times, values, image, label):\n",
    "        # Use a tf.py_function to prevent auto-graph from compiling the method\n",
    "        return tf.py_function(\n",
    "            func,\n",
    "            inp=(steps, times, values, image, label),\n",
    "            Tout=(steps.dtype, times.dtype, values.dtype, image.dtype, tf.float32)\n",
    "        )\n",
    "    return wrapper\n",
    "\n",
    "@map_decorator\n",
    "def map_fun_with_time(steps, times, values, image, label):\n",
    "    # sleep to avoid concurrency issue\n",
    "    time.sleep(0.05)\n",
    "    \n",
    "    # record the enter time into map_fun()\n",
    "    map_enter = time.perf_counter()\n",
    "    \n",
    "    image = tf.reshape(image,[IMAGE_DEPTH, IMAGE_HEIGHT, IMAGE_WIDTH])\n",
    "    image = tf.divide(tf.cast(tf.transpose(image,[1, 2, 0]),tf.float32),255.0)\n",
    "    label = tf.one_hot(label, 10)\n",
    "    distorted_image = tf.image.random_crop(image, [IMAGE_SIZE_CROPPED,IMAGE_SIZE_CROPPED,IMAGE_DEPTH])\n",
    "    # distorted_image = tf.image.resize(image, [IMAGE_SIZE_CROPPED,IMAGE_SIZE_CROPPED])\n",
    "    distorted_image = tf.image.random_flip_left_right(distorted_image)\n",
    "    distorted_image = tf.image.random_brightness(distorted_image, max_delta=63)\n",
    "    distorted_image = tf.image.random_contrast(distorted_image, lower=0.2, upper=1.8)\n",
    "    distorted_image = tf.image.per_image_standardization(distorted_image)\n",
    "    \n",
    "    map_elapsed = time.perf_counter() - map_enter\n",
    "    # ----------------\n",
    "    \n",
    "    return tf.concat((steps, [[\"Map\"]]), axis=0),\\\n",
    "           tf.concat((times, [[map_enter, map_elapsed]]), axis=0),\\\n",
    "           tf.concat((values, [values[-1]]), axis=0),\\\n",
    "           distorted_image,\\\n",
    "           label\n",
    "\n",
    "@map_decorator\n",
    "def map_fun_test_with_time(steps, times, values, image, label):\n",
    "    # sleep to avoid concurrency issue\n",
    "    time.sleep(0.05)\n",
    "    \n",
    "    # record the enter time into map_fun_test()\n",
    "    map_enter = time.perf_counter()\n",
    "    \n",
    "    image = tf.reshape(image,[IMAGE_DEPTH,IMAGE_HEIGHT,IMAGE_WIDTH])\n",
    "    image = tf.divide(tf.cast(tf.transpose(image,[1,2,0]),tf.float32),255.0)\n",
    "    label = tf.one_hot(label,10)\n",
    "    distorted_image = tf.image.resize(image, [IMAGE_SIZE_CROPPED,IMAGE_SIZE_CROPPED])\n",
    "    distorted_image = tf.image.per_image_standardization(distorted_image)\n",
    "    \n",
    "    map_elapsed = time.perf_counter() - map_enter\n",
    "    # ----------------\n",
    "    \n",
    "    return tf.concat((steps, [[\"Map\"]]), axis=0),\\\n",
    "           tf.concat((times, [[map_enter, map_elapsed]]), axis=0),\\\n",
    "           tf.concat((values, [values[-1]]), axis=0),\\\n",
    "           distorted_image,\\\n",
    "           label"
   ]
  },
  {
   "cell_type": "code",
   "execution_count": 57,
   "metadata": {},
   "outputs": [
    {
     "name": "stdout",
     "output_type": "stream",
     "text": [
      "(<tf.Tensor: shape=(3, 1), dtype=string, numpy=\n",
      "array([[b'Open'],\n",
      "       [b'Read'],\n",
      "       [b'Map']], dtype=object)>, <tf.Tensor: shape=(3, 2), dtype=float32, numpy=\n",
      "array([[2.0816919e+03, 2.9648000e-03],\n",
      "       [2.0816948e+03, 5.3871941e-06],\n",
      "       [2.0820259e+03, 2.4970001e-02]], dtype=float32)>, <tf.Tensor: shape=(3, 3), dtype=int32, numpy=\n",
      "array([[ 1,  0, -1],\n",
      "       [ 1,  0,  0],\n",
      "       [ 1,  0,  0]])>, <tf.Tensor: shape=(24, 24, 3), dtype=float32, numpy=\n",
      "array([[[ 0.49025875, -0.35376313, -1.1997801 ],\n",
      "        [ 0.54795456, -0.28164047, -1.1276574 ],\n",
      "        [ 0.6921884 , -0.16626036, -1.0555463 ],\n",
      "        ...,\n",
      "        [ 0.44698977, -0.41145894, -1.2863296 ],\n",
      "        [ 0.59122354, -0.2960673 , -1.1997801 ],\n",
      "        [ 0.6056504 , -0.31049415, -1.2863296 ]],\n",
      "\n",
      "       [[ 0.5046856 , -0.33933628, -1.1997801 ],\n",
      "        [ 0.47583193, -0.33933628, -1.1997801 ],\n",
      "        [ 0.6489194 , -0.19510251, -1.0843885 ],\n",
      "        ...,\n",
      "        [ 0.38929397, -0.42588577, -1.2863296 ],\n",
      "        [ 0.4037208 , -0.44031262, -1.3007565 ],\n",
      "        [ 0.5191009 , -0.36818996, -1.2430606 ]],\n",
      "\n",
      "       [[ 0.5191009 , -0.32490945, -1.2286222 ],\n",
      "        [ 0.5767967 , -0.2960673 , -1.1997801 ],\n",
      "        [ 0.6489194 , -0.25279832, -1.1997801 ],\n",
      "        ...,\n",
      "        [ 0.5191009 , -0.33933628, -1.2719028 ],\n",
      "        [ 0.3171713 , -0.57011956, -1.4449902 ],\n",
      "        [ 0.28831765, -0.6566575 , -1.4449902 ]],\n",
      "\n",
      "       ...,\n",
      "\n",
      "       [[ 0.9085448 ,  0.41069782, -1.2863296 ],\n",
      "        [ 0.4037208 ,  0.20876822, -1.7767383 ],\n",
      "        [ 0.33158663,  0.3674173 , -1.8055804 ],\n",
      "        ...,\n",
      "        [ 1.269135  ,  0.41069782, -0.37763488],\n",
      "        [ 1.2979887 ,  0.41069782, -0.42090386],\n",
      "        [ 0.73545736, -0.15183353, -1.0411195 ]],\n",
      "\n",
      "       [[ 1.0672054 ,  0.59820056, -1.0122774 ],\n",
      "        [ 0.24504866,  0.07894974, -1.7911536 ],\n",
      "        [ 0.1585107 ,  0.19434138, -1.8632762 ],\n",
      "        ...,\n",
      "        [ 1.182597  ,  0.22318353, -0.6661024 ],\n",
      "        [ 1.2114393 ,  0.19434138, -0.75264037],\n",
      "        [ 0.95181376, -0.05086873, -1.0988153 ]],\n",
      "\n",
      "       [[ 1.4710761 ,  0.82898384, -0.6084066 ],\n",
      "        [ 0.79315317,  0.19434138, -1.3151717 ],\n",
      "        [ 0.4037208 , -0.12297985, -1.5747972 ],\n",
      "        ...,\n",
      "        [ 1.5143452 ,  0.5405163 , -0.37763488],\n",
      "        [ 1.2979887 ,  0.33857515, -0.53628397],\n",
      "        [ 1.1104743 ,  0.13664556, -0.7959209 ]]], dtype=float32)>, <tf.Tensor: shape=(10,), dtype=float32, numpy=array([0., 0., 0., 0., 0., 0., 1., 0., 0., 0.], dtype=float32)>)\n",
      "now time 2082.0552947\n",
      "-------------------------------------------------------------------------------\n",
      "(<tf.Tensor: shape=(3, 1), dtype=string, numpy=\n",
      "array([[b'Open'],\n",
      "       [b'Read'],\n",
      "       [b'Map']], dtype=object)>, <tf.Tensor: shape=(3, 2), dtype=float32, numpy=\n",
      "array([[-1.0000000e+00, -1.0000000e+00],\n",
      "       [ 2.0820557e+03,  5.3871941e-06],\n",
      "       [ 2.0821184e+03,  5.7768999e-03]], dtype=float32)>, <tf.Tensor: shape=(3, 3), dtype=int32, numpy=\n",
      "array([[ 1,  0, -1],\n",
      "       [ 1,  0,  1],\n",
      "       [ 1,  0,  1]])>, <tf.Tensor: shape=(24, 24, 3), dtype=float32, numpy=\n",
      "array([[[ 0.64297384,  0.7981797 ,  0.77123487],\n",
      "        [ 0.5290956 ,  0.5866871 ,  0.4946863 ],\n",
      "        [ 0.87073046,  0.895794  ,  0.72244287],\n",
      "        ...,\n",
      "        [-0.78862154, -0.76355803, -1.1321074 ],\n",
      "        [-0.9675558 , -0.94249225, -1.3110416 ],\n",
      "        [-1.1464901 , -1.1376905 , -1.4574479 ]],\n",
      "\n",
      "       [[ 1.1310151 ,  1.4163631 ,  1.3894182 ],\n",
      "        [ 1.1310151 ,  1.3513072 ,  1.3080983 ],\n",
      "        [ 1.0496647 ,  1.2862208 ,  1.1779257 ],\n",
      "        ...,\n",
      "        [-0.8211495 , -0.796086  , -1.2134577 ],\n",
      "        [-1.0163478 , -1.0075482 , -1.3110416 ],\n",
      "        [-1.2115763 , -1.2027768 , -1.4900062 ]],\n",
      "\n",
      "       [[ 0.18746072,  0.6192454 ,  0.65735656],\n",
      "        [-0.00773753,  0.35896087,  0.39707202],\n",
      "        [-0.3168444 ,  0.09864597,  0.08799548],\n",
      "        ...,\n",
      "        [-1.1302261 , -1.0888985 , -1.5387982 ],\n",
      "        [-1.0976981 , -1.0888985 , -1.376128  ],\n",
      "        [-1.1464901 , -1.1376905 , -1.42492   ]],\n",
      "\n",
      "       ...,\n",
      "\n",
      "       [[-1.6507952 , -1.6907877 , -1.6038542 ],\n",
      "        [-1.4393026 , -1.4305334 , -1.42492   ],\n",
      "        [-1.3417187 , -1.3491831 , -1.3110416 ],\n",
      "        ...,\n",
      "        [-1.3417187 , -1.5443814 , -1.7828188 ],\n",
      "        [-1.1302261 , -1.365447  , -1.7014685 ],\n",
      "        [-0.67471296, -0.861142  , -1.1808994 ]],\n",
      "\n",
      "       [[-1.0976981 , -1.0563706 , -0.8555588 ],\n",
      "        [-1.0976981 , -0.97502023, -0.7253862 ],\n",
      "        [-0.67471296, -0.5520351 , -0.28616738],\n",
      "        ...,\n",
      "        [-1.8622878 , -2.0324225 , -2.1407175 ],\n",
      "        [-1.9436381 , -2.0649807 , -2.1244535 ],\n",
      "        [-1.536917  , -1.6257317 , -1.6364125 ]],\n",
      "\n",
      "       [[ 0.46403962,  0.47283915,  0.6899149 ],\n",
      "        [ 0.3826893 ,  0.37522486,  0.6410926 ],\n",
      "        [ 0.23628303,  0.27761057,  0.4784223 ],\n",
      "        ...,\n",
      "        [-1.8460238 , -1.9511025 , -2.0105753 ],\n",
      "        [-1.6182672 , -1.6257317 , -1.4900062 ],\n",
      "        [-1.6995872 , -1.7070819 , -1.5225343 ]]], dtype=float32)>, <tf.Tensor: shape=(10,), dtype=float32, numpy=array([0., 0., 0., 0., 0., 0., 0., 0., 0., 1.], dtype=float32)>)\n",
      "now time 2082.1288361\n",
      "-------------------------------------------------------------------------------\n"
     ]
    }
   ],
   "source": [
    "for i in tf.data.Dataset.range(1).flat_map(dataset_generator_fun_train).map(map_fun_with_time).take(2):\n",
    "    print(i)\n",
    "    print(\"now time\", time.perf_counter())\n",
    "    print(\"-------------------------------------------------------------------------------\")"
   ]
  },
  {
   "cell_type": "code",
   "execution_count": 58,
   "metadata": {},
   "outputs": [
    {
     "name": "stdout",
     "output_type": "stream",
     "text": [
      "start time:  2082.1636733\n"
     ]
    },
    {
     "name": "stderr",
     "output_type": "stream",
     "text": [
      "10it [00:02,  4.80it/s]"
     ]
    },
    {
     "name": "stdout",
     "output_type": "stream",
     "text": [
      "Execution time: 2.1371367000001555\n"
     ]
    },
    {
     "name": "stderr",
     "output_type": "stream",
     "text": [
      "\n"
     ]
    }
   ],
   "source": [
    "steps_acc = tf.zeros([0, 1], dtype=tf.dtypes.string)\n",
    "times_acc = tf.zeros([0, 2], dtype=tf.dtypes.float32)\n",
    "values_acc = tf.zeros([0, 3], dtype=tf.dtypes.int32)\n",
    "\n",
    "start_time = time.perf_counter()\n",
    "print(\"start time: \", start_time)\n",
    "\n",
    "for steps, times, values, image, label in tqdm(tf.data.Dataset.range(1).flat_map(dataset_generator_fun_train).map(map_fun_with_time).take(10)):    \n",
    "    steps_acc = tf.concat((steps_acc, steps), axis=0)\n",
    "    times_acc = tf.concat((times_acc, times), axis=0)\n",
    "    values_acc = tf.concat((values_acc, values), axis=0)\n",
    "\n",
    "    # simulate training time\n",
    "    train_enter = time.perf_counter()\n",
    "    time.sleep(0.1)\n",
    "    train_elapsed = time.perf_counter() - train_enter\n",
    "    \n",
    "    steps_acc = tf.concat((steps_acc, [[\"Train\"]]), axis=0)\n",
    "    times_acc = tf.concat((times_acc, [(train_enter, train_elapsed)]), axis=0)\n",
    "    values_acc = tf.concat((values_acc, [values[-1]]), axis=0)\n",
    "\n",
    "tf.print(\"Execution time:\", time.perf_counter() - start_time)\n",
    "timeline = {\"steps\": steps_acc, \"times\": times_acc, \"values\": values_acc}"
   ]
  },
  {
   "cell_type": "code",
   "execution_count": 59,
   "metadata": {},
   "outputs": [
    {
     "data": {
      "image/png": "[encoded data removed]",
      "text/plain": [
       "<Figure size 1700x400 with 4 Axes>"
      ]
     },
     "metadata": {},
     "output_type": "display_data"
    }
   ],
   "source": [
    "from lab11_1_lib import draw_timeline\n",
    "\n",
    "draw_timeline(timeline=timeline, title=\"test\", min_width=1, annotate=True)"
   ]
  },
  {
   "cell_type": "code",
   "execution_count": 60,
   "metadata": {},
   "outputs": [
    {
     "name": "stdout",
     "output_type": "stream",
     "text": [
      "start time:  2084.8020439\n"
     ]
    },
    {
     "name": "stderr",
     "output_type": "stream",
     "text": [
      "2it [00:08,  4.36s/it]"
     ]
    },
    {
     "name": "stdout",
     "output_type": "stream",
     "text": [
      "Execution time: 8.78581579999991\n"
     ]
    },
    {
     "name": "stderr",
     "output_type": "stream",
     "text": [
      "\n"
     ]
    }
   ],
   "source": [
    "steps_acc = tf.zeros([0, 1], dtype=tf.dtypes.string)\n",
    "times_acc = tf.zeros([0, 2], dtype=tf.dtypes.float32)\n",
    "values_acc = tf.zeros([0, 3], dtype=tf.dtypes.int32)\n",
    "\n",
    "start_time = time.perf_counter()\n",
    "print(\"start time: \", start_time)\n",
    "\n",
    "for steps, times, values, image, label in tqdm(tf.data.Dataset.range(1).flat_map(dataset_generator_fun_train).map(map_fun_with_time).batch(64).take(2)):\n",
    "    '''\n",
    "        steps: shape=(64, 3, 1)\n",
    "        times: shape=(64, 3, 2)\n",
    "        vaules: shape=(64, 3, 3)\n",
    "        image: shape=(64, 24, 24, 3)\n",
    "        label: shape=(64, 10)\n",
    "    '''\n",
    "    \n",
    "    steps_acc = tf.concat([steps_acc, tf.reshape(steps, (steps.shape[0]*steps.shape[1], 1))], axis=0)\n",
    "    times_acc = tf.concat([times_acc, tf.reshape(times, (times.shape[0]*times.shape[1], 2))], axis=0)\n",
    "    values_acc = tf.concat([values_acc, tf.reshape(values, (values.shape[0]*values.shape[1], 3))], axis=0)\n",
    "\n",
    "    train_enter = time.perf_counter()\n",
    "    time.sleep(0.5) # simulate training time\n",
    "    train_elapsed = time.perf_counter() - train_enter\n",
    "    \n",
    "    train_time = tf.concat([tf.fill([times.shape[0], 1], train_enter), tf.fill([times.shape[0], 1], train_elapsed)], axis=1) # shape=(times.shape[0], 2)\n",
    "    \n",
    "    steps_acc = tf.concat([steps_acc, tf.fill([steps.shape[0], 1], \"Train\")], axis=0)\n",
    "    times_acc = tf.concat([times_acc, train_time], axis=0)\n",
    "    values_acc = tf.concat([values_acc, values[:,-1,:]], axis=0)\n",
    "\n",
    "tf.print(\"Execution time:\", time.perf_counter() - start_time)\n",
    "timeline = {\"steps\": steps_acc, \"times\": times_acc, \"values\": values_acc}"
   ]
  },
  {
   "cell_type": "code",
   "execution_count": 61,
   "metadata": {},
   "outputs": [
    {
     "data": {
      "image/png": "[encoded data removed]",
      "text/plain": [
       "<Figure size 1700x400 with 4 Axes>"
      ]
     },
     "metadata": {},
     "output_type": "display_data"
    }
   ],
   "source": [
    "draw_timeline(timeline=timeline, title=\"test_batch\", min_width=1, annotate=True)"
   ]
  },
  {
   "cell_type": "markdown",
   "metadata": {},
   "source": [
    "### Re-train CNN with time"
   ]
  },
  {
   "cell_type": "code",
   "execution_count": 62,
   "metadata": {},
   "outputs": [
    {
     "name": "stdout",
     "output_type": "stream",
     "text": [
      "Model: \"sequential_4\"\n",
      "_________________________________________________________________\n",
      "Layer (type)                 Output Shape              Param #   \n",
      "=================================================================\n",
      "conv2d_7 (Conv2D)            (None, 24, 24, 64)        4864      \n",
      "_________________________________________________________________\n",
      "max_pooling2d_6 (MaxPooling2 (None, 12, 12, 64)        0         \n",
      "_________________________________________________________________\n",
      "batch_normalization_4 (Batch (None, 12, 12, 64)        256       \n",
      "_________________________________________________________________\n",
      "conv2d_8 (Conv2D)            (None, 12, 12, 64)        102464    \n",
      "_________________________________________________________________\n",
      "max_pooling2d_7 (MaxPooling2 (None, 6, 6, 64)          0         \n",
      "_________________________________________________________________\n",
      "batch_normalization_5 (Batch (None, 6, 6, 64)          256       \n",
      "_________________________________________________________________\n",
      "flatten_3 (Flatten)          (None, 2304)              0         \n",
      "_________________________________________________________________\n",
      "dense_9 (Dense)              (None, 384)               885120    \n",
      "_________________________________________________________________\n",
      "dropout_4 (Dropout)          (None, 384)               0         \n",
      "_________________________________________________________________\n",
      "dense_10 (Dense)             (None, 192)               73920     \n",
      "_________________________________________________________________\n",
      "dropout_5 (Dropout)          (None, 192)               0         \n",
      "_________________________________________________________________\n",
      "dense_11 (Dense)             (None, 10)                1930      \n",
      "=================================================================\n",
      "Total params: 1,068,810\n",
      "Trainable params: 1,068,554\n",
      "Non-trainable params: 256\n",
      "_________________________________________________________________\n"
     ]
    }
   ],
   "source": [
    "# re-construct a same model\n",
    "model_cifar_op = models.Sequential()\n",
    "\n",
    "model_cifar_op.add(layers.Conv2D(64, (5, 5), padding='same', activation='relu', input_shape=(24, 24, 3)))\n",
    "model_cifar_op.add(layers.MaxPool2D(pool_size=3,strides=2,padding='same'))\n",
    "model_cifar_op.add(layers.BatchNormalization())\n",
    "                \n",
    "model_cifar_op.add(layers.Conv2D(64, (5, 5), padding='same', activation='relu'))\n",
    "model_cifar_op.add(layers.MaxPool2D(pool_size=3,strides=2,padding='same'))\n",
    "model_cifar_op.add(layers.BatchNormalization())\n",
    "                \n",
    "model_cifar_op.add(layers.Flatten())\n",
    "model_cifar_op.add(layers.Dense(384, activation='relu'))\n",
    "model_cifar_op.add(layers.Dropout(0.5))\n",
    "model_cifar_op.add(layers.Dense(192, activation='relu'))\n",
    "model_cifar_op.add(layers.Dropout(0.5))\n",
    "model_cifar_op.add(layers.Dense(10, activation='softmax'))\n",
    "model_cifar_op.build()\n",
    "model_cifar_op.summary()"
   ]
  },
  {
   "cell_type": "code",
   "execution_count": 63,
   "metadata": {},
   "outputs": [],
   "source": [
    "# save the initialization of weights \n",
    "model_cifar_op.save_weights('model_cifar_op.h5')"
   ]
  },
  {
   "cell_type": "code",
   "execution_count": 64,
   "metadata": {},
   "outputs": [],
   "source": [
    "# define loss and optimizer\n",
    "loss_object = tf.keras.losses.CategoricalCrossentropy(from_logits=True)\n",
    "optimizer = tf.keras.optimizers.Adam()\n",
    "\n",
    "train_loss = tf.keras.metrics.Mean(name='train_loss')\n",
    "train_accuracy = tf.keras.metrics.SparseCategoricalAccuracy(name='train_accuracy')\n",
    "\n",
    "test_loss = tf.keras.metrics.Mean(name='test_loss')\n",
    "test_accuracy = tf.keras.metrics.SparseCategoricalAccuracy(name='test_accuracy')"
   ]
  },
  {
   "cell_type": "code",
   "execution_count": 65,
   "metadata": {},
   "outputs": [],
   "source": [
    "@tf.function\n",
    "def train_step(image, label):\n",
    "    with tf.GradientTape() as tape:\n",
    "        predictions = model_cifar_op(image, training=True)\n",
    "        loss = loss_object(label, predictions)\n",
    "    gradients = tape.gradient(loss, model_cifar_op.trainable_variables)\n",
    "    optimizer.apply_gradients(zip(gradients, model_cifar_op.trainable_variables))\n",
    "\n",
    "    train_loss(loss)\n",
    "    train_accuracy(tf.argmax(label,axis=1), predictions)\n",
    "    \n",
    "@tf.function\n",
    "def test_step(image, label):\n",
    "    predictions = model_cifar_op(image, training=False)\n",
    "    t_loss = loss_object(label, predictions)\n",
    "\n",
    "    test_loss(t_loss)\n",
    "    test_accuracy(tf.argmax(label,axis=1), predictions)"
   ]
  },
  {
   "cell_type": "code",
   "execution_count": 66,
   "metadata": {},
   "outputs": [],
   "source": [
    "def timelined_benchmark(dataset_train, dataset_test, EPOCHS):\n",
    "    steps_acc = tf.zeros([0, 1], dtype=tf.dtypes.string)\n",
    "    times_acc = tf.zeros([0, 2], dtype=tf.dtypes.float32)\n",
    "    values_acc = tf.zeros([0, 3], dtype=tf.dtypes.int32)\n",
    "\n",
    "    start_time = time.perf_counter()\n",
    "    print(\"start time: \", start_time)\n",
    "    for epoch in range(EPOCHS):\n",
    "        epoch_enter = time.perf_counter()\n",
    "\n",
    "        # Reset the metrics at the start of the next epoch\n",
    "        train_loss.reset_states()\n",
    "        train_accuracy.reset_states()\n",
    "        test_loss.reset_states()\n",
    "        test_accuracy.reset_states()\n",
    "\n",
    "        tf.print(\"training:\")\n",
    "        for steps, times, values, image, label in tqdm(dataset_train, total=math.floor(50000/BATCH_SIZE)):\n",
    "            # sleep to avoid concurrency issue\n",
    "            time.sleep(0.05)\n",
    "            \n",
    "            steps_acc = tf.concat([steps_acc, tf.reshape(steps, (steps.shape[0]*steps.shape[1], 1))], axis=0)\n",
    "            times_acc = tf.concat([times_acc, tf.reshape(times, (times.shape[0]*times.shape[1], 2))], axis=0)\n",
    "            values_acc = tf.concat([values_acc, tf.reshape(values, (values.shape[0]*values.shape[1], 3))], axis=0)\n",
    "\n",
    "            # record training time\n",
    "            train_enter = time.perf_counter()\n",
    "            train_step(image, label)\n",
    "            train_elapsed = time.perf_counter() - train_enter\n",
    "            \n",
    "            # sleep to avoid concurrency issue\n",
    "            time.sleep(0.05)\n",
    "            \n",
    "            train_time = tf.concat([tf.fill([times.shape[0], 1], train_enter), tf.fill([times.shape[0], 1], train_elapsed)], axis=1) # shape=(times.shape[0], 2)\n",
    "            steps_acc = tf.concat([steps_acc, tf.fill([steps.shape[0], 1], \"Train\")], axis=0)\n",
    "            times_acc = tf.concat([times_acc, train_time], axis=0)\n",
    "            values_acc = tf.concat([values_acc, values[:,-1,:]], axis=0)\n",
    "\n",
    "        tf.print(\"testing:\")\n",
    "        for steps, times, values, image, label in tqdm(dataset_test, total=math.floor(10000/BATCH_SIZE)):\n",
    "            # sleep to avoid concurrency issue\n",
    "            time.sleep(0.05)\n",
    "            \n",
    "            steps_acc = tf.concat([steps_acc, tf.reshape(steps, (steps.shape[0]*steps.shape[1], 1))], axis=0)\n",
    "            times_acc = tf.concat([times_acc, tf.reshape(times, (times.shape[0]*times.shape[1], 2))], axis=0)\n",
    "            values_acc = tf.concat([values_acc, tf.reshape(values, (values.shape[0]*values.shape[1], 3))], axis=0)\n",
    "\n",
    "            test_enter = time.perf_counter()\n",
    "            test_step(image, label)\n",
    "            test_elapsed = time.perf_counter() - test_enter\n",
    "            \n",
    "            # sleep to avoid concurrency issue\n",
    "            time.sleep(0.05)\n",
    "            \n",
    "            test_time = tf.concat([tf.fill([times.shape[0], 1], test_enter), tf.fill([times.shape[0], 1], test_elapsed)], axis=1) # shape=(times.shape[0], 2)\n",
    "            steps_acc = tf.concat([steps_acc, tf.fill([steps.shape[0], 1], \"Test\")], axis=0)\n",
    "            times_acc = tf.concat([times_acc, test_time], axis=0)\n",
    "            values_acc = tf.concat([values_acc, values[:,-1,:]], axis=0)\n",
    "            \n",
    "        template = 'Epoch {:0}, Loss: {:.4f}, Accuracy: {:.4f}, test Loss: {:.4f}, test Accuracy: {:.4f}'\n",
    "        tf.print (template.format(epoch+1,\n",
    "                               train_loss.result(),\n",
    "                               train_accuracy.result()*100,\n",
    "                               test_loss.result(),\n",
    "                               test_accuracy.result()*100))\n",
    "\n",
    "        epoch_elapsed = time.perf_counter() - epoch_enter\n",
    "        steps_acc = tf.concat([steps_acc, [[\"Epoch\"]]], axis=0)\n",
    "        times_acc = tf.concat([times_acc, [(epoch_enter, epoch_elapsed)]], axis=0)\n",
    "        values_acc = tf.concat([values_acc, [[-1, epoch, -1]]], axis=0)\n",
    "\n",
    "    tf.print(\"Execution time:\", time.perf_counter() - start_time)\n",
    "    return {\"steps\": steps_acc, \"times\": times_acc, \"values\": values_acc}"
   ]
  },
  {
   "cell_type": "code",
   "execution_count": null,
   "metadata": {},
   "outputs": [],
   "source": [
    "# feel free to modify these two Settings.\n",
    "BUFFER_SIZE = 10000\n",
    "BATCH_SIZE = 64\n",
    "\n",
    "# Construct training Dataset with similar steps\n",
    "dataset_train = tf.data.Dataset.range(1).flat_map(dataset_generator_fun_train)\\\n",
    "                                        .map(map_fun_with_time)\\\n",
    "                                        .shuffle(10000)\\\n",
    "                                        .batch(BATCH_SIZE, drop_remainder=True)\n",
    "                                        \n",
    "# Construct testing Dataset with similar steps\n",
    "dataset_test = tf.data.Dataset.range(1).flat_map(dataset_generator_fun_test)\\\n",
    "                                       .map(map_fun_test_with_time)\\\n",
    "                                       .batch(BATCH_SIZE, drop_remainder=True)\n",
    "\n",
    "timeline_Naive = timelined_benchmark(dataset_train, dataset_test, EPOCHS=2)"
   ]
  },
  {
   "cell_type": "code",
   "execution_count": null,
   "metadata": {},
   "outputs": [],
   "source": [
    "draw_timeline(timeline=timeline_Naive, title=\"Naive\", min_width=8500)"
   ]
  },
  {
   "cell_type": "markdown",
   "metadata": {},
   "source": [
    "#### optimization dataset pipeline"
   ]
  },
  {
   "cell_type": "code",
   "execution_count": 68,
   "metadata": {},
   "outputs": [],
   "source": [
    "@map_decorator\n",
    "def map_fun_with_time_batchwise(steps, times, values, image, label):\n",
    "    # sleep to avoid concurrency issue\n",
    "    time.sleep(0.05)\n",
    "    \n",
    "    map_enter = time.perf_counter()\n",
    "    \n",
    "    image = tf.reshape(image,[tf.shape(image)[0], IMAGE_DEPTH, IMAGE_HEIGHT, IMAGE_WIDTH])\n",
    "    image = tf.divide(tf.cast(tf.transpose(image,[0, 2, 3, 1]),tf.float32),255.0)\n",
    "    label = tf.one_hot(label, 10)\n",
    "    distorted_image = tf.image.random_crop(image, [tf.shape(image)[0], IMAGE_SIZE_CROPPED,IMAGE_SIZE_CROPPED,IMAGE_DEPTH])\n",
    "    distorted_image = tf.image.random_flip_left_right(distorted_image)\n",
    "    distorted_image = tf.image.random_brightness(distorted_image, max_delta=63)\n",
    "    distorted_image = tf.image.random_contrast(distorted_image, lower=0.2, upper=1.8)\n",
    "    distorted_image = tf.image.per_image_standardization(distorted_image)\n",
    "    \n",
    "    map_elapsed = time.perf_counter() - map_enter\n",
    "\n",
    "    return tf.concat((steps, tf.tile([[[\"Map\"]]], [BATCH_SIZE, 1, 1])), axis=1),\\\n",
    "           tf.concat((times, tf.tile([[[map_enter, map_elapsed]]], [BATCH_SIZE, 1, 1])), axis=1),\\\n",
    "           tf.concat((values, tf.tile([[values[:][-1][0]]], [BATCH_SIZE, 1, 1])), axis=1),\\\n",
    "           distorted_image,\\\n",
    "           label\n",
    "\n",
    "@map_decorator\n",
    "def map_fun_test_with_time_batchwise(steps, times, values, image, label):\n",
    "    # sleep to avoid concurrency issue\n",
    "    time.sleep(0.05)\n",
    "    \n",
    "    map_enter = time.perf_counter()\n",
    "    \n",
    "    image = tf.reshape(image,[tf.shape(image)[0],IMAGE_DEPTH,IMAGE_HEIGHT,IMAGE_WIDTH])\n",
    "    image = tf.divide(tf.cast(tf.transpose(image,[0, 2, 3, 1]),tf.float32),255.0)\n",
    "    label = tf.one_hot(label,10)\n",
    "    distorted_image = tf.image.resize(image, [IMAGE_SIZE_CROPPED,IMAGE_SIZE_CROPPED])\n",
    "    distorted_image = tf.image.per_image_standardization(distorted_image)\n",
    "    \n",
    "    map_elapsed = time.perf_counter() - map_enter\n",
    "    \n",
    "    return tf.concat((steps, tf.tile([[[\"Map\"]]], [BATCH_SIZE, 1, 1])), axis=1),\\\n",
    "           tf.concat((times, tf.tile([[[map_enter, map_elapsed]]], [BATCH_SIZE, 1, 1])), axis=1),\\\n",
    "           tf.concat((values, tf.tile([[values[:][-1][0]]], [BATCH_SIZE, 1, 1])), axis=1),\\\n",
    "           distorted_image,\\\n",
    "           label"
   ]
  },
  {
   "cell_type": "code",
   "execution_count": 69,
   "metadata": {},
   "outputs": [
    {
     "name": "stdout",
     "output_type": "stream",
     "text": [
      "start time:  3250.2534517\n",
      "training:\n"
     ]
    },
    {
     "name": "stderr",
     "output_type": "stream",
     "text": [
      "100%|██████████| 781/781 [01:43<00:00,  7.51it/s]"
     ]
    },
    {
     "name": "stdout",
     "output_type": "stream",
     "text": [
      "testing:\n"
     ]
    },
    {
     "name": "stderr",
     "output_type": "stream",
     "text": [
      "\n",
      "100%|██████████| 156/156 [00:19<00:00,  7.83it/s]"
     ]
    },
    {
     "name": "stdout",
     "output_type": "stream",
     "text": [
      "Epoch 1, Loss: 1.8882, Accuracy: 32.2143, test Loss: 1.5047, test Accuracy: 45.8033\n",
      "training:\n"
     ]
    },
    {
     "name": "stderr",
     "output_type": "stream",
     "text": [
      "\n",
      "100%|██████████| 781/781 [01:37<00:00,  7.98it/s]"
     ]
    },
    {
     "name": "stdout",
     "output_type": "stream",
     "text": [
      "testing:\n"
     ]
    },
    {
     "name": "stderr",
     "output_type": "stream",
     "text": [
      "\n",
      "100%|██████████| 156/156 [00:20<00:00,  7.78it/s]"
     ]
    },
    {
     "name": "stdout",
     "output_type": "stream",
     "text": [
      "Epoch 2, Loss: 1.5077, Accuracy: 46.2188, test Loss: 1.2460, test Accuracy: 56.5304\n",
      "Execution time: 241.8322373000001\n"
     ]
    },
    {
     "name": "stderr",
     "output_type": "stream",
     "text": [
      "\n"
     ]
    }
   ],
   "source": [
    "dataset_train_optimized = tf.data.Dataset.range(1).interleave(dataset_generator_fun_train, num_parallel_calls=tf.data.AUTOTUNE)\\\n",
    "                                                  .shuffle(BUFFER_SIZE)\\\n",
    "                                                  .batch(BATCH_SIZE, drop_remainder=True)\\\n",
    "                                                  .map(map_fun_with_time_batchwise, num_parallel_calls=tf.data.AUTOTUNE)\\\n",
    "                                                  .cache()\\\n",
    "                                                  .prefetch(tf.data.AUTOTUNE)\n",
    "dataset_test_optimized = tf.data.Dataset.range(1).interleave(dataset_generator_fun_test, num_parallel_calls=tf.data.AUTOTUNE)\\\n",
    "                                                 .batch(BATCH_SIZE, drop_remainder=True)\\\n",
    "                                                 .map(map_fun_test_with_time_batchwise, num_parallel_calls=tf.data.AUTOTUNE)\\\n",
    "                                                 .cache()\\\n",
    "                                                 .prefetch(tf.data.AUTOTUNE)\n",
    "\n",
    "# load the same initialization of weights and re-train with optimized input pipeline\n",
    "model_cifar_op.load_weights('model_cifar_op.h5')\n",
    "timeline_Optimized = timelined_benchmark(dataset_train_optimized, dataset_test_optimized, EPOCHS=2)"
   ]
  },
  {
   "cell_type": "code",
   "execution_count": 70,
   "metadata": {},
   "outputs": [
    {
     "data": {
      "image/png": "[encoded data removed]",
      "text/plain": [
       "<Figure size 1700x600 with 6 Axes>"
      ]
     },
     "metadata": {},
     "output_type": "display_data"
    }
   ],
   "source": [
    "draw_timeline(timeline_Optimized, \"Optimized\", min_width=8500)"
   ]
  },
  {
   "cell_type": "markdown",
   "metadata": {},
   "source": [
    "#### In practical use (a simple demo)"
   ]
  },
  {
   "cell_type": "code",
   "execution_count": null,
   "metadata": {},
   "outputs": [],
   "source": [
    "# if files have been opened and read into memory\n",
    "dataset_train_example = tf.data.Dataset.from_tensor_slices((image, label))\\\n",
    "                                       .shuffle(BUFFER_SIZE)\\\n",
    "                                       .batch(BATCH_SIZE, drop_remainder=True)\\\n",
    "                                       .map(map_fun_batchwise, num_parallel_calls=tf.data.AUTOTUNE)\\\n",
    "                                       .cache()\\\n",
    "                                       .prefetch(tf.data.AUTOTUNE)\n",
    "\n",
    "# or giving file path with `ImageDataGenerator()`, e.g.\n",
    "flowers_file_path = tf.keras.utils.get_file('flower_photos', 'https://storage.googleapis.com/download.tensorflow.org/example_image/flower_photos.tgz', untar=True)\n",
    "img_gen = tf.keras.preprocessing.image.ImageDataGenerator(rescale=1./255, rotation_range=20)\n",
    "dataset_train_example = tf.data.Dataset.from_generator(\n",
    "                            lambda: img_gen.flow_from_directory(flowers_file_path),\n",
    "                            output_types=(tf.float32, tf.float32),\n",
    "                            output_shapes=([32,256,256,3], [32,5])\n",
    "                        )\n",
    "dataset_train_example = dataset_train_example.shuffle(BUFFER_SIZE)\\\n",
    "                                             .batch(BATCH_SIZE, drop_remainder=True)\\\n",
    "                                             .map(map_fun_batchwise, num_parallel_calls=tf.data.AUTOTUNE)\\\n",
    "                                             .cache()\\\n",
    "                                             .prefetch(tf.data.AUTOTUNE)\n",
    "\n",
    "# or tf.data.Dataset.list_files()\n",
    "dataset_train_example = tf.data.Dataset.list_files(flowers_file_path+\"/*/*.jpg\")\\\n",
    "                                       .shuffle(BUFFER_SIZE)\\\n",
    "                                       .batch(BATCH_SIZE, drop_remainder=True)\\\n",
    "                                       .map(map_fun_batchwise, num_parallel_calls=tf.data.AUTOTUNE)\\\n",
    "                                       .cache()\\\n",
    "                                       .prefetch(tf.data.AUTOTUNE)"
   ]
  },
  {
   "cell_type": "markdown",
   "metadata": {},
   "source": [
    "### <center>Assignment</center>"
   ]
  },
  {
   "cell_type": "markdown",
   "metadata": {},
   "source": [
    "In this assignment, you have to implement the input pipeline of the CNN model and try to write/read tfrecord with the **Oregon Wildlife** dataset.\n",
    "\n",
    "We provide you with the complete code for the image classification task of the CNN model, but remove the part of the input pipeline. What you need to do is completing this part and training the model for at least 5 epochs.\n",
    "\n",
    "**Description of Dataset:**\n",
    "\n",
    "1. The raw data is from [kaggle](https://www.kaggle.com/virtualdvid/oregon-wildlife), which consists of 20 class image of wildlife.\n",
    "2. We have filtered the raw data. You need to download the filtered image from [here](https://drive.google.com/file/d/1HncttRdMHeNjde8xQCjQQtTLG8dcaTJx/view?usp=sharing) and use them to complete the image classification task.\n",
    "3. In the dataset we prepared for you, there are nearly 7,200 image, which contain **10 kinds** of wildlife.\n",
    "\n",
    "The sample image is shown below:\n",
    "\n",
    "![](https://nthu-datalab.github.io/ml/labs/11-1_CNN/imgsrc/red_fox.png)"
   ]
  },
  {
   "cell_type": "markdown",
   "metadata": {},
   "source": [
    "#### Requirement:\n",
    "\n",
    "- Try some the input transfromation mentioned above (e.g. shuffle, batch, repeat, map(random_crop, random_flip_left_right, ...)) but without optimization terms (e.g. prefetch, cache, num_parallel_calls)\n",
    "    - Compare the performance and time consumption to the Naive one.\n",
    "    - Note that it's important to take some examples and plot the image like block [84] to make sure theat the map function does as you desired\n",
    "- Retrain your model with optimized terms, comparing the performance and time consumption.\n",
    "- Training both models above for at least 3 epochs.\n",
    "- Briefly summarize what you did and explain the performance results (accuracy and time consuming).\n",
    "    - It's fine if you get worse performace after applying input transfromation, or get longer time consumption after applying data pipeline optimization. Just try to analyze the result and propose your assumption, e.g.\n",
    "        - Is it possible that the more difficult training data after input transfromation may need more epochs to train to get better performance?\n",
    "        - Which step is the bottleneck on your device? Why? Any other steps cost more time than your expect?\n"
   ]
  },
  {
   "cell_type": "markdown",
   "metadata": {},
   "source": [
    "#### Note:\n",
    "\n",
    "The `time.sleep(0.05)` in the example is to avoid concurrency issues that TAs are unable to solve at short notice. However, the duration **depends on devices** (the throughput between CPU and GPU maybe). For example, in our lab servers, 0.05 is enough for one newer computer while another computer still sometimes meet the error even we increase to 0.1. Therefore, if you meet strange errors like below and **not always meets the error when re-run the same code**, setting higher sleep time may help though it's slower. Errors that TA meets:\n",
    "\n",
    "- `Expected size[1] in [0, 101], but got 224 [Op:Slice]` when `tf.image.random_crop(image, [tf.shape(image)[0],IMAGE_SIZE_CROPPED,IMAGE_SIZE_CROPPED,IMAGE_DEPTH])`\n",
    "- `ConcatOp : Dimension 0 in both shapes must be equal: shape[0] = [196,3] vs. shape[1] = [3,3] [Op:ConcatV2] name: concat` when `tf.concat([values_acc, tf.reshape(values, (values.shape[0]*values.shape[1], 3))], axis=0)`\n",
    "- `Expected multiples argument to be a vector of length 1 but got length 3 [Op:Tile]` when `values_acc = tf.concat([values_acc, values[:,-1,:]], axis=0)`\n",
    "\n",
    "#### Notification:\n",
    "\n",
    "- Submit to **eeclass** with your ipynb (Lab11-1_{student_id}.ipynb)\n",
    "- Deadline: 2023-11-9 (Thr) 23:59\n"
   ]
  },
  {
   "cell_type": "code",
   "execution_count": null,
   "metadata": {},
   "outputs": [],
   "source": [
    "import os\n",
    "import warnings\n",
    "warnings.filterwarnings(\"ignore\")\n",
    "os.environ['TF_CPP_MIN_LOG_LEVEL'] = '2' \n",
    "\n",
    "import tensorflow as tf\n",
    "from tensorflow.keras import utils, datasets, layers, models\n",
    "from tensorflow.keras.applications.vgg16 import VGG16\n",
    "from sklearn.utils import shuffle\n",
    "from sklearn.model_selection import train_test_split\n",
    "import IPython.display as display\n",
    "import matplotlib.pyplot as plt\n",
    "import pathlib\n",
    "import random\n",
    "import numpy as np\n",
    "import matplotlib as mpl\n",
    "import time\n",
    "\n",
    "import csv\n",
    "import pandas as pd\n",
    "import math\n",
    "from tqdm import tqdm\n",
    "\n",
    "import itertools\n",
    "from collections import defaultdict"
   ]
  },
  {
   "cell_type": "code",
   "execution_count": null,
   "metadata": {},
   "outputs": [],
   "source": [
    "# You need to download the prepared data and unzip the file in current path('./')\n",
    "data_root = pathlib.Path('./oregon_wildlife')\n",
    "\n",
    "# print the subfolders.\n",
    "print('classes:')\n",
    "for item in data_root.iterdir():\n",
    "    print(item)\n",
    "    \n",
    "all_image_paths = list(data_root.glob('*/*'))\n",
    "all_image_paths = [str(path) for path in all_image_paths]\n",
    "all_image_paths = shuffle(all_image_paths, random_state=1)\n",
    "all_image_paths = [path for path in all_image_paths if path[-3:] not in ('gif','bmp')]\n",
    "image_count = len(all_image_paths)\n",
    "print('\\ntotal img num:', image_count)"
   ]
  },
  {
   "cell_type": "code",
   "execution_count": null,
   "metadata": {},
   "outputs": [],
   "source": [
    "# random showing 3 iamges for you\n",
    "for n in range(3):\n",
    "    image_path = random.choice(all_image_paths)\n",
    "    display.display(display.Image(image_path, width=200, height=200))\n",
    "    print(image_path.split('/')[-2])"
   ]
  },
  {
   "cell_type": "code",
   "execution_count": null,
   "metadata": {},
   "outputs": [],
   "source": [
    "# get the label\n",
    "label_names = sorted(item.name for item in data_root.glob('*/') if item.is_dir())\n",
    "# total label\n",
    "n_classes = len(label_names)\n",
    "print(label_names)"
   ]
  },
  {
   "cell_type": "code",
   "execution_count": null,
   "metadata": {},
   "outputs": [],
   "source": [
    "# get the mapping dict\n",
    "label_to_index = dict((name, index) for index,name in enumerate(label_names))\n",
    "index_to_label = dict((index, name) for index,name in enumerate(label_names))\n",
    "print(label_to_index)"
   ]
  },
  {
   "cell_type": "code",
   "execution_count": null,
   "metadata": {},
   "outputs": [],
   "source": [
    "# get the label data\n",
    "all_image_label = [label_to_index[pathlib.Path(path).parent.name] for path in all_image_paths]\n",
    "print(\"First 10 label indices: \", all_image_label[:10])"
   ]
  },
  {
   "cell_type": "code",
   "execution_count": null,
   "metadata": {},
   "outputs": [],
   "source": [
    "# Create training and testing sets using an 80-20 split\n",
    "img_path_train, img_path_test, label_train, label_test = train_test_split(all_image_paths,\n",
    "                                all_image_label,test_size=0.2,random_state=0)\n",
    "print('training data: %d'%(len(img_path_train)))\n",
    "print('testing data: %d'%(len(img_path_test)))"
   ]
  },
  {
   "cell_type": "code",
   "execution_count": null,
   "metadata": {},
   "outputs": [],
   "source": [
    "# save (img_path, label) pairs\n",
    "with open('train.csv', 'w', newline='') as csvfile:\n",
    "    writer = csv.writer(csvfile)\n",
    "    writer.writerow(['img_path', 'label'])\n",
    "    for img_path, label in zip(img_path_train, label_train):\n",
    "        writer.writerow([img_path, label])\n",
    "        \n",
    "with open('test.csv', 'w', newline='') as csvfile:\n",
    "    writer = csv.writer(csvfile)\n",
    "    writer.writerow(['img_path', 'label'])\n",
    "    for img_path, label in zip(img_path_test, label_test):\n",
    "        writer.writerow([img_path, label])"
   ]
  },
  {
   "cell_type": "code",
   "execution_count": null,
   "metadata": {},
   "outputs": [],
   "source": [
    "# Feel free to change IMAGE_SIZE_CROPPED if using random_crop in your data augmentation process, but make sure the input resize back to (300,300,3) before feed into VGG16\n",
    "IMAGE_SIZE_CROPPED = 224\n",
    "IMAGE_HEIGHT = 300\n",
    "IMAGE_WIDTH = 300\n",
    "IMAGE_DEPTH = 3"
   ]
  },
  {
   "cell_type": "code",
   "execution_count": null,
   "metadata": {},
   "outputs": [],
   "source": [
    "# construct a new dataset with time informantion\n",
    "class TimeMeasuredDataset(tf.data.Dataset):\n",
    "    # OUTPUT: (steps, timings, counters, img, label)\n",
    "    OUTPUT_SIGNATURE=(\n",
    "        tf.TensorSpec(shape=(2, 1), dtype=tf.string), # steps: [(\"Open\",), (\"Read\",)]\n",
    "        tf.TensorSpec(shape=(2, 2), dtype=tf.float32), # timings: [(open_enter, open_elapsed), (read_enter, read_elapsed)]\n",
    "        tf.TensorSpec(shape=(2, 3), dtype=tf.int32), # counters: [(instance_idx, epoch_idx, -1), (instance_idx, epoch_idx, example_idx)]\n",
    "        tf.TensorSpec(shape=(300,300,3), dtype=tf.float32),\n",
    "        tf.TensorSpec(shape=(), dtype=tf.int32) # label\n",
    "    )\n",
    "\n",
    "    _INSTANCES_COUNTER = itertools.count()  # Number of datasets generated\n",
    "    _EPOCHS_COUNTER = defaultdict(itertools.count)  # Number of epochs done for each dataset\n",
    "\n",
    "    def _generator(instance_idx, filename, open_file, read_file):\n",
    "        epoch_idx = next(TimeMeasuredDataset._EPOCHS_COUNTER[instance_idx])\n",
    "\n",
    "        # Opening the file\n",
    "        open_enter = time.perf_counter()\n",
    "        img_paths, label = open_file(filename)\n",
    "        open_elapsed = time.perf_counter() - open_enter\n",
    "        # ----------------\n",
    "        \n",
    "        # Reading the file        \n",
    "        for sample_idx in range(len(img_paths)):\n",
    "            # Reading data (line, record) from the file\n",
    "            read_enter = time.perf_counter()\n",
    "            img = read_file(img_paths[sample_idx])\n",
    "            read_elapsed = time.perf_counter() - read_enter\n",
    "\n",
    "            yield (\n",
    "                [(\"Open\",), (\"Read\",)],\n",
    "                [(open_enter, open_elapsed), (read_enter, read_elapsed)],\n",
    "                [(instance_idx, epoch_idx, -1), (instance_idx, epoch_idx, sample_idx)],\n",
    "                img,\n",
    "                label[sample_idx]\n",
    "            )\n",
    "            open_enter, open_elapsed = -1., -1.  # Negative values will be filtered\n",
    "\n",
    "\n",
    "    def __new__(cls, filename, open_file, read_file):\n",
    "        def generator_func(instance_idx, filename):\n",
    "            return cls._generator(instance_idx, filename, open_file, read_file)\n",
    "\n",
    "        return tf.data.Dataset.from_generator(\n",
    "            generator_func,\n",
    "            output_signature=cls.OUTPUT_SIGNATURE,\n",
    "            args=(next(cls._INSTANCES_COUNTER), filename)\n",
    "        )"
   ]
  },
  {
   "cell_type": "code",
   "execution_count": null,
   "metadata": {},
   "outputs": [],
   "source": [
    "def open_file(filename):\n",
    "    rows = pd.read_csv(filename.decode(\"utf-8\"))\n",
    "    img_paths = rows['img_path'].tolist()\n",
    "    label = rows['label'].tolist()\n",
    "    return img_paths, label\n",
    "\n",
    "def read_file(image_path):\n",
    "    img = tf.io.read_file(image_path)\n",
    "    img = tf.image.decode_jpeg(img, channels=IMAGE_DEPTH)\n",
    "    img = tf.image.resize(img, (IMAGE_HEIGHT, IMAGE_WIDTH))\n",
    "    img = tf.cast(img, tf.float32)\n",
    "    img = tf.divide(img,255.0)\n",
    "    return img\n",
    "\n",
    "def dataset_generator_fun_train(*args):\n",
    "    return TimeMeasuredDataset('train.csv', open_file, read_file)\n",
    "\n",
    "def dataset_generator_fun_test(*args):\n",
    "    return TimeMeasuredDataset('test.csv', open_file, read_file)"
   ]
  },
  {
   "cell_type": "code",
   "execution_count": null,
   "metadata": {},
   "outputs": [],
   "source": [
    "# feel free to modify these two Settings.\n",
    "BUFFER_SIZE = 10000\n",
    "BATCH_SIZE = 1\n",
    "\n",
    "dataset_train = tf.data.Dataset.range(1).flat_map(dataset_generator_fun_train).batch(BATCH_SIZE, drop_remainder=True)\n",
    "dataset_test = tf.data.Dataset.range(1).flat_map(dataset_generator_fun_test).batch(BATCH_SIZE, drop_remainder=True)"
   ]
  },
  {
   "cell_type": "code",
   "execution_count": null,
   "metadata": {},
   "outputs": [],
   "source": [
    "for steps, timings, counters, img, label in dataset_train.take(1):\n",
    "    print(steps[0], timings[0], counters[0])\n",
    "    print(img[0].shape)\n",
    "    plt.imshow(img[0]) \n",
    "    plt.axis('off') \n",
    "    plt.show()\n",
    "    print(index_to_label[label[0].numpy()])"
   ]
  },
  {
   "cell_type": "code",
   "execution_count": null,
   "metadata": {},
   "outputs": [],
   "source": [
    "base_model = VGG16(\n",
    "    include_top=False,\n",
    "    weights='imagenet',\n",
    "    input_shape=(300, 300, 3),\n",
    "    pooling=None,\n",
    ")\n",
    "for layer in base_model.layers:\n",
    "    layer.trainable = False\n",
    "\n",
    "top_model = models.Sequential()\n",
    "top_model.add(layers.Flatten())\n",
    "top_model.add(layers.Dense(4096, activation='relu'))\n",
    "top_model.add(layers.Dropout(0.5))\n",
    "top_model.add(layers.Dense(1024, activation='relu'))\n",
    "top_model.add(layers.Dropout(0.5))\n",
    "top_model.add(layers.Dense(n_classes, activation='softmax'))\n",
    "\n",
    "wild_model = tf.keras.Model(inputs=base_model.input, outputs=top_model(base_model.output)) "
   ]
  },
  {
   "cell_type": "code",
   "execution_count": null,
   "metadata": {},
   "outputs": [],
   "source": [
    "wild_model.summary()"
   ]
  },
  {
   "cell_type": "code",
   "execution_count": null,
   "metadata": {},
   "outputs": [],
   "source": [
    "# save the initialization of weights \n",
    "wild_model.save_weights('wild_model.h5')"
   ]
  },
  {
   "cell_type": "code",
   "execution_count": null,
   "metadata": {},
   "outputs": [],
   "source": [
    "loss_object = tf.keras.losses.SparseCategoricalCrossentropy(from_logits=True)\n",
    "optimizer = tf.keras.optimizers.Adam()\n",
    "\n",
    "train_loss = tf.keras.metrics.Mean(name='train_loss')\n",
    "train_accuracy = tf.keras.metrics.SparseCategoricalAccuracy(name='train_accuracy')\n",
    "\n",
    "test_loss = tf.keras.metrics.Mean(name='test_loss')\n",
    "test_accuracy = tf.keras.metrics.SparseCategoricalAccuracy(name='test_accuracy')"
   ]
  },
  {
   "cell_type": "code",
   "execution_count": null,
   "metadata": {},
   "outputs": [],
   "source": [
    "@tf.function\n",
    "def train_step(image, label):\n",
    "    with tf.GradientTape() as tape:\n",
    "        predictions = wild_model(image, training=True)\n",
    "        loss = loss_object(label, predictions)\n",
    "    gradients = tape.gradient(loss, wild_model.trainable_variables)\n",
    "    optimizer.apply_gradients(zip(gradients, wild_model.trainable_variables))\n",
    "\n",
    "    train_loss(loss)\n",
    "    train_accuracy(label, predictions)\n",
    "    \n",
    "@tf.function\n",
    "def test_step(image, label):\n",
    "    predictions = wild_model(image, training=False)\n",
    "    loss = loss_object(label, predictions)\n",
    "\n",
    "    test_loss(loss)\n",
    "    test_accuracy(label, predictions)"
   ]
  },
  {
   "cell_type": "code",
   "execution_count": null,
   "metadata": {},
   "outputs": [],
   "source": [
    "def timelined_benchmark(dataset_train, dataset_test, EPOCHS):\n",
    "    steps_acc = tf.zeros([0, 1], dtype=tf.dtypes.string)\n",
    "    times_acc = tf.zeros([0, 2], dtype=tf.dtypes.float32)\n",
    "    values_acc = tf.zeros([0, 3], dtype=tf.dtypes.int32)\n",
    "\n",
    "    start_time = time.perf_counter()\n",
    "    print(\"start time: \", start_time)\n",
    "    for epoch in range(EPOCHS):\n",
    "        epoch_enter = time.perf_counter()\n",
    "\n",
    "        # Reset the metrics at the start of the next epoch\n",
    "        train_loss.reset_states()\n",
    "        train_accuracy.reset_states()\n",
    "        test_loss.reset_states()\n",
    "        test_accuracy.reset_states()\n",
    "\n",
    "        tf.print(\"training:\")\n",
    "        for steps, times, values, image, label in tqdm(dataset_train, total=math.floor(len(img_path_train)/BATCH_SIZE)):\n",
    "            time.sleep(0.05)\n",
    "            \n",
    "            steps_acc = tf.concat([steps_acc, tf.reshape(steps, (steps.shape[0]*steps.shape[1], 1))], axis=0)\n",
    "            times_acc = tf.concat([times_acc, tf.reshape(times, (times.shape[0]*times.shape[1], 2))], axis=0)\n",
    "            values_acc = tf.concat([values_acc, tf.reshape(values, (values.shape[0]*values.shape[1], 3))], axis=0)\n",
    "\n",
    "            # record training time\n",
    "            train_enter = time.perf_counter()\n",
    "            train_step(image, label)\n",
    "            train_elapsed = time.perf_counter() - train_enter\n",
    "            \n",
    "            time.sleep(0.05)\n",
    "            \n",
    "            train_time = tf.concat([tf.fill([times.shape[0], 1], train_enter), tf.fill([times.shape[0], 1], train_elapsed)], axis=1) # shape=(times.shape[0], 2)\n",
    "            steps_acc = tf.concat([steps_acc, tf.fill([steps.shape[0], 1], \"Train\")], axis=0)\n",
    "            times_acc = tf.concat([times_acc, train_time], axis=0)\n",
    "            values_acc = tf.concat([values_acc, values[:,-1,:]], axis=0)\n",
    "\n",
    "        tf.print(\"testing:\")\n",
    "        for steps, times, values, image, label in tqdm(dataset_test, total=math.floor(len(img_path_test)/BATCH_SIZE)):\n",
    "            time.sleep(0.05)\n",
    "            \n",
    "            steps_acc = tf.concat([steps_acc, tf.reshape(steps, (steps.shape[0]*steps.shape[1], 1))], axis=0)\n",
    "            times_acc = tf.concat([times_acc, tf.reshape(times, (times.shape[0]*times.shape[1], 2))], axis=0)\n",
    "            values_acc = tf.concat([values_acc, tf.reshape(values, (values.shape[0]*values.shape[1], 3))], axis=0)\n",
    "\n",
    "            test_enter = time.perf_counter()\n",
    "            test_step(image, label)\n",
    "            test_elapsed = time.perf_counter() - test_enter\n",
    "            \n",
    "            time.sleep(0.05)\n",
    "            \n",
    "            test_time = tf.concat([tf.fill([times.shape[0], 1], test_enter), tf.fill([times.shape[0], 1], test_elapsed)], axis=1) # shape=(times.shape[0], 2)\n",
    "            steps_acc = tf.concat([steps_acc, tf.fill([steps.shape[0], 1], \"Test\")], axis=0)\n",
    "            times_acc = tf.concat([times_acc, test_time], axis=0)\n",
    "            values_acc = tf.concat([values_acc, values[:,-1,:]], axis=0)\n",
    "            \n",
    "        template = 'Epoch {:0}, Loss: {:.4f}, Accuracy: {:.4f}, test Loss: {:.4f}, test Accuracy: {:.4f}'\n",
    "        tf.print (template.format(epoch+1,\n",
    "                               train_loss.result(),\n",
    "                               train_accuracy.result()*100,\n",
    "                               test_loss.result(),\n",
    "                               test_accuracy.result()*100))\n",
    "\n",
    "        epoch_elapsed = time.perf_counter() - epoch_enter\n",
    "        steps_acc = tf.concat([steps_acc, [[\"Epoch\"]]], axis=0)\n",
    "        times_acc = tf.concat([times_acc, [(epoch_enter, epoch_elapsed)]], axis=0)\n",
    "        values_acc = tf.concat([values_acc, [[-1, epoch, -1]]], axis=0)\n",
    "\n",
    "    tf.print(\"Execution time:\", time.perf_counter() - start_time)\n",
    "    return {\"steps\": steps_acc, \"times\": times_acc, \"values\": values_acc}"
   ]
  },
  {
   "cell_type": "code",
   "execution_count": null,
   "metadata": {},
   "outputs": [],
   "source": [
    "draw_timeline(timeline=timeline_Naive, title=\"Naive\", min_width=3000)"
   ]
  },
  {
   "cell_type": "code",
   "execution_count": null,
   "metadata": {},
   "outputs": [],
   "source": [
    "## TODO: build `dataset_train_augmentation` and `dataset_test_augmentation` with transformation\n",
    "## Remember to define your own map functions with map_decorator before calling map\n",
    "\n",
    "# dataset_train_augmentation = tf.data.Dataset.range(1). ...\n",
    "# dataset_test_augmentation = tf.data.Dataset.range(1). ..."
   ]
  },
  {
   "cell_type": "code",
   "execution_count": null,
   "metadata": {},
   "outputs": [],
   "source": [
    "# load the same initialization of weights and re-train with optimized input pipeline\n",
    "wild_model.load_weights('wild_model.h5')\n",
    "timeline_Augmentation = timelined_benchmark(dataset_train_augmentation, dataset_test_augmentation, EPOCHS=3)"
   ]
  },
  {
   "cell_type": "code",
   "execution_count": null,
   "metadata": {},
   "outputs": [],
   "source": [
    "draw_timeline(timeline=timeline_Augmentation, title=\"Augmentation\", min_width=3000)"
   ]
  },
  {
   "cell_type": "code",
   "execution_count": null,
   "metadata": {},
   "outputs": [],
   "source": [
    "## TODO: build `dataset_train_optimized` and `dataset_test_optimized` with transformation and optimzation\n",
    "## Remember to re-define your own map functions again to make mapping time re-calculated\n",
    "\n",
    "# dataset_train_optimized = tf.data.Dataset.range(1). ...\n",
    "# dataset_test_optimized = tf.data.Dataset.range(1). ..."
   ]
  },
  {
   "cell_type": "code",
   "execution_count": null,
   "metadata": {},
   "outputs": [],
   "source": [
    "# load the same initialization of weights and re-train with optimized input pipeline\n",
    "wild_model.load_weights('wild_model.h5')\n",
    "timeline_Optimized = timelined_benchmark(dataset_train_optimized, dataset_test_optimized, EPOCHS=3)"
   ]
  },
  {
   "cell_type": "code",
   "execution_count": null,
   "metadata": {},
   "outputs": [],
   "source": [
    "draw_timeline(timeline=timeline_Optimized, title=\"Optimized\", min_width=3000)"
   ]
  }
 ],
 "metadata": {
  "kernelspec": {
   "display_name": "tensorflow",
   "language": "python",
   "name": "python3"
  },
  "language_info": {
   "codemirror_mode": {
    "name": "ipython",
    "version": 3
   },
   "file_extension": ".py",
   "mimetype": "text/x-python",
   "name": "python",
   "nbconvert_exporter": "python",
   "pygments_lexer": "ipython3",
   "version": "3.8.15"
  }
 },
 "nbformat": 4,
 "nbformat_minor": 2
}
