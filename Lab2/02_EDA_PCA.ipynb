{
 "cells": [
  {
   "cell_type": "code",
   "execution_count": null,
   "metadata": {},
   "outputs": [],
   "source": [
    "# inline plotting instead of popping out\n",
    "%matplotlib inline\n",
    "\n",
    "import os\n",
    "import numpy as np # numpy 1.26.0\n",
    "import pandas as pd # pandas 2.1.1\n",
    "import matplotlib.pyplot as plt # matplotlib 3.8.0\n",
    "import seaborn as sns # seaborn 0.13.0\n",
    "from sklearn.preprocessing import StandardScaler # scikit-learn 1.3.1"
   ]
  }
 ],
 "metadata": {
  "language_info": {
   "name": "python"
  }
 },
 "nbformat": 4,
 "nbformat_minor": 2
}
