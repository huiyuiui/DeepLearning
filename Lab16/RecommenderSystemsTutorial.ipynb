{
 "cells": [
  {
   "cell_type": "markdown",
   "metadata": {},
   "source": [
    "## <center>Recommender Systems Tutorial</center>\n",
    "\n",
    "<center>Shan-Hung Wu & DataLab</center>\n",
    "<center>Fall 2023</center>"
   ]
  },
  {
   "cell_type": "markdown",
   "metadata": {},
   "source": [
    "### Overview\n",
    "\n",
    "In this tutorial, you would design a recommender system that recommends movies to users. When a user queries your system with **(UserID,Timestamp)**\n",
    ", your system should **return a list of 10 movies in their MovieIDs (MovieID1,MovieID2,⋯,MovieID10)** which the user might be interested in."
   ]
  },
  {
   "cell_type": "markdown",
   "metadata": {},
   "source": [
    "## Dataset\n",
    "\n",
    "**Please download the dataset [here](https://drive.google.com/drive/folders/12AvmiJiqrR81Yjo9yvY-DtAp7Pd0r9QT?usp=sharing).**\n",
    "\n",
    "The dataset used in this tutorial is a modified version of the [MovieLens Dataset](https://grouplens.org/datasets/movielens/).\n",
    "\n",
    "The provided dataset consists of three files: `ratings_train.csv`, `users.csv`, and `movies.csv`.\n",
    "\n",
    "`ratings_train.csv`:\n",
    "\n",
    "Interactions between users and movies in format **(UserID,MovieID,Rating,Timestamp)**.\n",
    "\n",
    "- UserID: ID of the user.\n",
    "- \n",
    "- MovieID: ID of the movie.\n",
    "- \n",
    "- Rating: Rating score that the user gives to the movie.\n",
    "- \n",
    "- Timestamp: Timestamp of when the user rated the movie.\n",
    "\n",
    "`users.csv:`\n",
    "\n",
    "Features of all users in format **(UserID,Gender,Age,Occupation,ZipCode)**.\n",
    "\n",
    "- UserID: ID of the user.\n",
    "\n",
    "- Gender: Gender of the user.\n",
    "\n",
    "- Age: Age interval to which the user belongs. The number represents the starting age of the interval.\n",
    "\n",
    "- Occupation: Occupation class number of the user.\n",
    "\n",
    "- ZipCode: ZIP code string of the user.\n",
    "\n",
    "`movies.csv:`\n",
    "\n",
    "Features of all movies in format **(MovieID,Title,Genres)**.\n",
    "\n",
    "- MovieID: ID of the movie.\n",
    "\n",
    "- Title: Title of the movie.\n",
    "\n",
    "- Genres: Genres of the movie. Multiple genres are separated by `|`.\n",
    "\n",
    "In this tutorial, we provide an example model which implements the simplified version of Funk-SVD mentioned in class."
   ]
  },
  {
   "cell_type": "code",
   "execution_count": 1,
   "metadata": {},
   "outputs": [],
   "source": [
    "import os\n",
    "import numpy as np\n",
    "import pandas as pd\n",
    "import matplotlib.pyplot as plt\n",
    "import tensorflow as tf\n",
    "from tqdm import tqdm"
   ]
  },
  {
   "cell_type": "code",
   "execution_count": 2,
   "metadata": {},
   "outputs": [
    {
     "name": "stdout",
     "output_type": "stream",
     "text": [
      "1 Physical GPUs, 1 Logical GPUs\n"
     ]
    }
   ],
   "source": [
    "gpus = tf.config.experimental.list_physical_devices('GPU')\n",
    "if gpus:\n",
    "    try:\n",
    "        # Currently, memory growth needs to be the same across GPUs\n",
    "        for gpu in gpus:\n",
    "            tf.config.experimental.set_memory_growth(gpu, True)\n",
    "        # Select GPU number 1\n",
    "        tf.config.experimental.set_visible_devices(gpus[0], 'GPU')\n",
    "        logical_gpus = tf.config.experimental.list_logical_devices('GPU')\n",
    "        print(len(gpus), \"Physical GPUs,\", len(logical_gpus), \"Logical GPUs\")\n",
    "    except RuntimeError as e:\n",
    "        # Memory growth must be set before GPUs have been initialized\n",
    "        print(e)"
   ]
  },
  {
   "cell_type": "markdown",
   "metadata": {},
   "source": [
    "### Inspect the dataset\n",
    "\n",
    "Let's load and inspect the three files `ratings_train.csv`, `users.csv`, and `movies.csv` in the dataset."
   ]
  },
  {
   "cell_type": "code",
   "execution_count": 3,
   "metadata": {},
   "outputs": [],
   "source": [
    "DATASET_PATH = 'datasets'\n",
    "USERS_PATH = os.path.join(DATASET_PATH, 'users.csv')\n",
    "MOVIES_PATH = os.path.join(DATASET_PATH, 'movies.csv')\n",
    "RATINGS_PATH = os.path.join(DATASET_PATH, 'ratings_train.csv')"
   ]
  },
  {
   "cell_type": "code",
   "execution_count": 4,
   "metadata": {},
   "outputs": [
    {
     "data": {
      "text/html": [
       "<div>\n",
       "<style scoped>\n",
       "    .dataframe tbody tr th:only-of-type {\n",
       "        vertical-align: middle;\n",
       "    }\n",
       "\n",
       "    .dataframe tbody tr th {\n",
       "        vertical-align: top;\n",
       "    }\n",
       "\n",
       "    .dataframe thead th {\n",
       "        text-align: right;\n",
       "    }\n",
       "</style>\n",
       "<table border=\"1\" class=\"dataframe\">\n",
       "  <thead>\n",
       "    <tr style=\"text-align: right;\">\n",
       "      <th></th>\n",
       "      <th>UserID</th>\n",
       "      <th>Gender</th>\n",
       "      <th>Age</th>\n",
       "      <th>Occupation</th>\n",
       "      <th>ZipCode</th>\n",
       "    </tr>\n",
       "  </thead>\n",
       "  <tbody>\n",
       "    <tr>\n",
       "      <th>0</th>\n",
       "      <td>0</td>\n",
       "      <td>F</td>\n",
       "      <td>1</td>\n",
       "      <td>10</td>\n",
       "      <td>48067</td>\n",
       "    </tr>\n",
       "    <tr>\n",
       "      <th>1</th>\n",
       "      <td>1</td>\n",
       "      <td>M</td>\n",
       "      <td>56</td>\n",
       "      <td>16</td>\n",
       "      <td>70072</td>\n",
       "    </tr>\n",
       "    <tr>\n",
       "      <th>2</th>\n",
       "      <td>2</td>\n",
       "      <td>M</td>\n",
       "      <td>25</td>\n",
       "      <td>15</td>\n",
       "      <td>55117</td>\n",
       "    </tr>\n",
       "    <tr>\n",
       "      <th>3</th>\n",
       "      <td>3</td>\n",
       "      <td>M</td>\n",
       "      <td>45</td>\n",
       "      <td>7</td>\n",
       "      <td>02460</td>\n",
       "    </tr>\n",
       "    <tr>\n",
       "      <th>4</th>\n",
       "      <td>4</td>\n",
       "      <td>M</td>\n",
       "      <td>25</td>\n",
       "      <td>20</td>\n",
       "      <td>55455</td>\n",
       "    </tr>\n",
       "    <tr>\n",
       "      <th>...</th>\n",
       "      <td>...</td>\n",
       "      <td>...</td>\n",
       "      <td>...</td>\n",
       "      <td>...</td>\n",
       "      <td>...</td>\n",
       "    </tr>\n",
       "    <tr>\n",
       "      <th>6035</th>\n",
       "      <td>6035</td>\n",
       "      <td>F</td>\n",
       "      <td>25</td>\n",
       "      <td>15</td>\n",
       "      <td>32603</td>\n",
       "    </tr>\n",
       "    <tr>\n",
       "      <th>6036</th>\n",
       "      <td>6036</td>\n",
       "      <td>F</td>\n",
       "      <td>45</td>\n",
       "      <td>1</td>\n",
       "      <td>76006</td>\n",
       "    </tr>\n",
       "    <tr>\n",
       "      <th>6037</th>\n",
       "      <td>6037</td>\n",
       "      <td>F</td>\n",
       "      <td>56</td>\n",
       "      <td>1</td>\n",
       "      <td>14706</td>\n",
       "    </tr>\n",
       "    <tr>\n",
       "      <th>6038</th>\n",
       "      <td>6038</td>\n",
       "      <td>F</td>\n",
       "      <td>45</td>\n",
       "      <td>0</td>\n",
       "      <td>01060</td>\n",
       "    </tr>\n",
       "    <tr>\n",
       "      <th>6039</th>\n",
       "      <td>6039</td>\n",
       "      <td>M</td>\n",
       "      <td>25</td>\n",
       "      <td>6</td>\n",
       "      <td>11106</td>\n",
       "    </tr>\n",
       "  </tbody>\n",
       "</table>\n",
       "<p>6040 rows × 5 columns</p>\n",
       "</div>"
      ],
      "text/plain": [
       "      UserID Gender  Age  Occupation ZipCode\n",
       "0          0      F    1          10   48067\n",
       "1          1      M   56          16   70072\n",
       "2          2      M   25          15   55117\n",
       "3          3      M   45           7   02460\n",
       "4          4      M   25          20   55455\n",
       "...      ...    ...  ...         ...     ...\n",
       "6035    6035      F   25          15   32603\n",
       "6036    6036      F   45           1   76006\n",
       "6037    6037      F   56           1   14706\n",
       "6038    6038      F   45           0   01060\n",
       "6039    6039      M   25           6   11106\n",
       "\n",
       "[6040 rows x 5 columns]"
      ]
     },
     "execution_count": 4,
     "metadata": {},
     "output_type": "execute_result"
    }
   ],
   "source": [
    "df_users = pd.read_csv(USERS_PATH)\n",
    "df_users"
   ]
  },
  {
   "cell_type": "code",
   "execution_count": 5,
   "metadata": {},
   "outputs": [
    {
     "data": {
      "text/html": [
       "<div>\n",
       "<style scoped>\n",
       "    .dataframe tbody tr th:only-of-type {\n",
       "        vertical-align: middle;\n",
       "    }\n",
       "\n",
       "    .dataframe tbody tr th {\n",
       "        vertical-align: top;\n",
       "    }\n",
       "\n",
       "    .dataframe thead th {\n",
       "        text-align: right;\n",
       "    }\n",
       "</style>\n",
       "<table border=\"1\" class=\"dataframe\">\n",
       "  <thead>\n",
       "    <tr style=\"text-align: right;\">\n",
       "      <th></th>\n",
       "      <th>MovieID</th>\n",
       "      <th>Title</th>\n",
       "      <th>Genres</th>\n",
       "    </tr>\n",
       "  </thead>\n",
       "  <tbody>\n",
       "    <tr>\n",
       "      <th>0</th>\n",
       "      <td>0</td>\n",
       "      <td>Toy Story (1995)</td>\n",
       "      <td>Animation|Children's|Comedy</td>\n",
       "    </tr>\n",
       "    <tr>\n",
       "      <th>1</th>\n",
       "      <td>1</td>\n",
       "      <td>Jumanji (1995)</td>\n",
       "      <td>Adventure|Children's|Fantasy</td>\n",
       "    </tr>\n",
       "    <tr>\n",
       "      <th>2</th>\n",
       "      <td>2</td>\n",
       "      <td>Grumpier Old Men (1995)</td>\n",
       "      <td>Comedy|Romance</td>\n",
       "    </tr>\n",
       "    <tr>\n",
       "      <th>3</th>\n",
       "      <td>3</td>\n",
       "      <td>Waiting to Exhale (1995)</td>\n",
       "      <td>Comedy|Drama</td>\n",
       "    </tr>\n",
       "    <tr>\n",
       "      <th>4</th>\n",
       "      <td>4</td>\n",
       "      <td>Father of the Bride Part II (1995)</td>\n",
       "      <td>Comedy</td>\n",
       "    </tr>\n",
       "    <tr>\n",
       "      <th>...</th>\n",
       "      <td>...</td>\n",
       "      <td>...</td>\n",
       "      <td>...</td>\n",
       "    </tr>\n",
       "    <tr>\n",
       "      <th>3878</th>\n",
       "      <td>3947</td>\n",
       "      <td>Meet the Parents (2000)</td>\n",
       "      <td>Comedy</td>\n",
       "    </tr>\n",
       "    <tr>\n",
       "      <th>3879</th>\n",
       "      <td>3948</td>\n",
       "      <td>Requiem for a Dream (2000)</td>\n",
       "      <td>Drama</td>\n",
       "    </tr>\n",
       "    <tr>\n",
       "      <th>3880</th>\n",
       "      <td>3949</td>\n",
       "      <td>Tigerland (2000)</td>\n",
       "      <td>Drama</td>\n",
       "    </tr>\n",
       "    <tr>\n",
       "      <th>3881</th>\n",
       "      <td>3950</td>\n",
       "      <td>Two Family House (2000)</td>\n",
       "      <td>Drama</td>\n",
       "    </tr>\n",
       "    <tr>\n",
       "      <th>3882</th>\n",
       "      <td>3951</td>\n",
       "      <td>Contender, The (2000)</td>\n",
       "      <td>Drama|Thriller</td>\n",
       "    </tr>\n",
       "  </tbody>\n",
       "</table>\n",
       "<p>3883 rows × 3 columns</p>\n",
       "</div>"
      ],
      "text/plain": [
       "      MovieID                               Title  \\\n",
       "0           0                    Toy Story (1995)   \n",
       "1           1                      Jumanji (1995)   \n",
       "2           2             Grumpier Old Men (1995)   \n",
       "3           3            Waiting to Exhale (1995)   \n",
       "4           4  Father of the Bride Part II (1995)   \n",
       "...       ...                                 ...   \n",
       "3878     3947             Meet the Parents (2000)   \n",
       "3879     3948          Requiem for a Dream (2000)   \n",
       "3880     3949                    Tigerland (2000)   \n",
       "3881     3950             Two Family House (2000)   \n",
       "3882     3951               Contender, The (2000)   \n",
       "\n",
       "                            Genres  \n",
       "0      Animation|Children's|Comedy  \n",
       "1     Adventure|Children's|Fantasy  \n",
       "2                   Comedy|Romance  \n",
       "3                     Comedy|Drama  \n",
       "4                           Comedy  \n",
       "...                            ...  \n",
       "3878                        Comedy  \n",
       "3879                         Drama  \n",
       "3880                         Drama  \n",
       "3881                         Drama  \n",
       "3882                Drama|Thriller  \n",
       "\n",
       "[3883 rows x 3 columns]"
      ]
     },
     "execution_count": 5,
     "metadata": {},
     "output_type": "execute_result"
    }
   ],
   "source": [
    "df_movies = pd.read_csv(MOVIES_PATH)\n",
    "df_movies"
   ]
  },
  {
   "cell_type": "code",
   "execution_count": 6,
   "metadata": {},
   "outputs": [
    {
     "data": {
      "text/html": [
       "<div>\n",
       "<style scoped>\n",
       "    .dataframe tbody tr th:only-of-type {\n",
       "        vertical-align: middle;\n",
       "    }\n",
       "\n",
       "    .dataframe tbody tr th {\n",
       "        vertical-align: top;\n",
       "    }\n",
       "\n",
       "    .dataframe thead th {\n",
       "        text-align: right;\n",
       "    }\n",
       "</style>\n",
       "<table border=\"1\" class=\"dataframe\">\n",
       "  <thead>\n",
       "    <tr style=\"text-align: right;\">\n",
       "      <th></th>\n",
       "      <th>UserID</th>\n",
       "      <th>MovieID</th>\n",
       "      <th>Rating</th>\n",
       "      <th>Timestamp</th>\n",
       "    </tr>\n",
       "  </thead>\n",
       "  <tbody>\n",
       "    <tr>\n",
       "      <th>0</th>\n",
       "      <td>6039</td>\n",
       "      <td>857</td>\n",
       "      <td>4</td>\n",
       "      <td>956703932</td>\n",
       "    </tr>\n",
       "    <tr>\n",
       "      <th>1</th>\n",
       "      <td>6039</td>\n",
       "      <td>2383</td>\n",
       "      <td>4</td>\n",
       "      <td>956703954</td>\n",
       "    </tr>\n",
       "    <tr>\n",
       "      <th>2</th>\n",
       "      <td>6039</td>\n",
       "      <td>592</td>\n",
       "      <td>5</td>\n",
       "      <td>956703954</td>\n",
       "    </tr>\n",
       "    <tr>\n",
       "      <th>3</th>\n",
       "      <td>6039</td>\n",
       "      <td>1960</td>\n",
       "      <td>4</td>\n",
       "      <td>956703977</td>\n",
       "    </tr>\n",
       "    <tr>\n",
       "      <th>4</th>\n",
       "      <td>6039</td>\n",
       "      <td>2018</td>\n",
       "      <td>5</td>\n",
       "      <td>956703977</td>\n",
       "    </tr>\n",
       "    <tr>\n",
       "      <th>...</th>\n",
       "      <td>...</td>\n",
       "      <td>...</td>\n",
       "      <td>...</td>\n",
       "      <td>...</td>\n",
       "    </tr>\n",
       "    <tr>\n",
       "      <th>939757</th>\n",
       "      <td>5949</td>\n",
       "      <td>1996</td>\n",
       "      <td>3</td>\n",
       "      <td>1046368734</td>\n",
       "    </tr>\n",
       "    <tr>\n",
       "      <th>939758</th>\n",
       "      <td>5949</td>\n",
       "      <td>1260</td>\n",
       "      <td>4</td>\n",
       "      <td>1046368750</td>\n",
       "    </tr>\n",
       "    <tr>\n",
       "      <th>939759</th>\n",
       "      <td>5949</td>\n",
       "      <td>3151</td>\n",
       "      <td>3</td>\n",
       "      <td>1046368831</td>\n",
       "    </tr>\n",
       "    <tr>\n",
       "      <th>939760</th>\n",
       "      <td>5949</td>\n",
       "      <td>3910</td>\n",
       "      <td>4</td>\n",
       "      <td>1046369026</td>\n",
       "    </tr>\n",
       "    <tr>\n",
       "      <th>939761</th>\n",
       "      <td>4957</td>\n",
       "      <td>2452</td>\n",
       "      <td>4</td>\n",
       "      <td>1046454260</td>\n",
       "    </tr>\n",
       "  </tbody>\n",
       "</table>\n",
       "<p>939762 rows × 4 columns</p>\n",
       "</div>"
      ],
      "text/plain": [
       "        UserID  MovieID  Rating   Timestamp\n",
       "0         6039      857       4   956703932\n",
       "1         6039     2383       4   956703954\n",
       "2         6039      592       5   956703954\n",
       "3         6039     1960       4   956703977\n",
       "4         6039     2018       5   956703977\n",
       "...        ...      ...     ...         ...\n",
       "939757    5949     1996       3  1046368734\n",
       "939758    5949     1260       4  1046368750\n",
       "939759    5949     3151       3  1046368831\n",
       "939760    5949     3910       4  1046369026\n",
       "939761    4957     2452       4  1046454260\n",
       "\n",
       "[939762 rows x 4 columns]"
      ]
     },
     "execution_count": 6,
     "metadata": {},
     "output_type": "execute_result"
    }
   ],
   "source": [
    "df_ratings = pd.read_csv(RATINGS_PATH)\n",
    "df_ratings"
   ]
  },
  {
   "cell_type": "markdown",
   "metadata": {},
   "source": [
    "Let's calculate how many users and movies are in the dataset. There are some **MovieIDs** that do not correspond to any movie, however, we will just ignore this fact."
   ]
  },
  {
   "cell_type": "code",
   "execution_count": 7,
   "metadata": {},
   "outputs": [
    {
     "name": "stdout",
     "output_type": "stream",
     "text": [
      "# of users: 6040, # of movies: 3952\n"
     ]
    }
   ],
   "source": [
    "M_USERS = max(len(df_users['UserID'].unique()), df_users['UserID'].max() + 1)\n",
    "N_ITEMS = max(len(df_movies['MovieID'].unique()), df_movies['MovieID'].max() + 1)\n",
    "print(f'# of users: {M_USERS}, # of movies: {N_ITEMS}')"
   ]
  },
  {
   "cell_type": "markdown",
   "metadata": {},
   "source": [
    "### Model\n",
    "\n",
    "Here we provide an implementation of a simplified version of the Funk-SVD model"
   ]
  },
  {
   "cell_type": "code",
   "execution_count": 8,
   "metadata": {},
   "outputs": [],
   "source": [
    "class FunkSVDRecommender(tf.keras.Model):\n",
    "    '''\n",
    "    Simplified Funk-SVD recommender model\n",
    "    '''\n",
    "\n",
    "    def __init__(self, m_users: int, n_items: int, embedding_size: int, learning_rate: float):\n",
    "        '''\n",
    "        Constructor of the model\n",
    "        '''\n",
    "        super().__init__()\n",
    "        self.m = m_users\n",
    "        self.n = n_items\n",
    "        self.k = embedding_size\n",
    "        self.lr = learning_rate\n",
    "\n",
    "        # user embeddings P\n",
    "        self.P = tf.Variable(tf.keras.initializers.RandomNormal()(shape=(self.m, self.k)))\n",
    "\n",
    "        # item embeddings Q\n",
    "        self.Q = tf.Variable(tf.keras.initializers.RandomNormal()(shape=(self.n, self.k)))\n",
    "\n",
    "        # optimizer\n",
    "        self.optimizer = tf.optimizers.Adam(learning_rate=self.lr)\n",
    "\n",
    "    @tf.function\n",
    "    def call(self, user_ids: tf.Tensor, item_ids: tf.Tensor) -> tf.Tensor:\n",
    "        '''\n",
    "        Forward pass used in training and validating\n",
    "        '''\n",
    "        # dot product the user and item embeddings corresponding to the observed interaction pairs to produce predictions\n",
    "        y_pred = tf.reduce_sum(tf.gather(self.P, indices=user_ids) * tf.gather(self.Q, indices=item_ids), axis=1)\n",
    "\n",
    "        return y_pred\n",
    "\n",
    "    @tf.function\n",
    "    def compute_loss(self, y_true: tf.Tensor, y_pred: tf.Tensor) -> tf.Tensor:\n",
    "        '''\n",
    "        Compute the MSE loss of the model\n",
    "        '''\n",
    "        loss = tf.losses.mean_squared_error(y_true, y_pred)\n",
    "\n",
    "        return loss\n",
    "\n",
    "    @tf.function\n",
    "    def train_step(self, data: tf.Tensor) -> tf.Tensor:\n",
    "        '''\n",
    "        Train the model with one batch\n",
    "        data: batched user-item interactions\n",
    "        each record in data is in the format [UserID, MovieID, Rating, Timestamp]\n",
    "        '''\n",
    "        user_ids = tf.cast(data[:, 0], dtype=tf.int32)\n",
    "        item_ids = tf.cast(data[:, 1], dtype=tf.int32)\n",
    "        y_true = tf.cast(data[:, 2], dtype=tf.float32)\n",
    "\n",
    "        # compute loss\n",
    "        with tf.GradientTape() as tape:\n",
    "            y_pred = self(user_ids, item_ids)\n",
    "            loss = self.compute_loss(y_true, y_pred)\n",
    "\n",
    "        # compute gradients\n",
    "        gradients = tape.gradient(loss, self.trainable_variables)\n",
    "\n",
    "        # update weights\n",
    "        self.optimizer.apply_gradients(zip(gradients, self.trainable_variables))\n",
    "\n",
    "        return loss\n",
    "\n",
    "    @tf.function\n",
    "    def val_step(self, data: tf.Tensor) -> tf.Tensor:\n",
    "        '''\n",
    "        Validate the model with one batch\n",
    "        data: batched user-item interactions\n",
    "        each record in data is in the format [UserID, MovieID, Rating, Timestamp]\n",
    "        '''\n",
    "        user_ids = tf.cast(data[:, 0], dtype=tf.int32)\n",
    "        item_ids = tf.cast(data[:, 1], dtype=tf.int32)\n",
    "        y_true = tf.cast(data[:, 2], dtype=tf.float32)\n",
    "\n",
    "        # compute loss\n",
    "        y_pred = self(user_ids, item_ids)\n",
    "        loss = self.compute_loss(y_true, y_pred)\n",
    "\n",
    "        return loss\n",
    "\n",
    "    @tf.function\n",
    "    def eval_predict_onestep(self, query: tf.Tensor) -> tf.Tensor:\n",
    "        '''\n",
    "        Retrieve and return the MovieIDs of the 10 recommended movies given a query\n",
    "        You should return a tf.Tensor with shape=(10,)\n",
    "        query will be a tf.Tensor with shape=(2,) and dtype=tf.int64\n",
    "        query[0] is the UserID of the query\n",
    "        query[1] is the Timestamp of the query\n",
    "        '''\n",
    "        # dot product the selected user and all item embeddings to produce predictions\n",
    "        user_id = tf.cast(query[0], tf.int32)\n",
    "        y_pred = tf.reduce_sum(tf.gather(self.P, user_id) * self.Q, axis=1)\n",
    "\n",
    "        # select the top 10 items with highest scores in y_pred\n",
    "        y_top_10 = tf.math.top_k(y_pred, k=10).indices\n",
    "\n",
    "        return y_top_10"
   ]
  },
  {
   "cell_type": "markdown",
   "metadata": {},
   "source": [
    "### Split datasets\n",
    "\n",
    "First, we create per-user validation sets with the latest interactions of each user (should also contain sufficient positive interactions). Then, we join all the small validation sets to form a complete validation set."
   ]
  },
  {
   "cell_type": "code",
   "execution_count": 9,
   "metadata": {},
   "outputs": [
    {
     "name": "stderr",
     "output_type": "stream",
     "text": [
      "100%|██████████| 6040/6040 [00:09<00:00, 611.39it/s]\n"
     ]
    }
   ],
   "source": [
    "# let interactions with rating >= 4 be positive interactions\n",
    "POSITIVE_THRESHOLD = 4 \n",
    "\n",
    "# each per-user validation set should contain at least 5 positive interactions\n",
    "POSITIVE_PER_USER = 5\n",
    "\n",
    "train_dataframes = []\n",
    "val_dataframes = []\n",
    "\n",
    "for i in tqdm(range(M_USERS)):\n",
    "    user_all = df_ratings[df_ratings['UserID'] == i]\n",
    "    user_positive = user_all[user_all['Rating'] >= POSITIVE_THRESHOLD]\n",
    "\n",
    "    # check if there are enough positive interactions to build a validation set for this user\n",
    "    if len(user_positive) >= POSITIVE_PER_USER:\n",
    "        split_idx = user_positive.iloc[-POSITIVE_PER_USER].name\n",
    "        user_train = user_all.loc[:split_idx]\n",
    "        user_test = user_all.loc[split_idx:]\n",
    "        assert user_train['Timestamp'].max() <= user_test['Timestamp'].min()\n",
    "        train_dataframes.append(user_train)\n",
    "        val_dataframes.append(user_test)\n",
    "    else:\n",
    "        train_dataframes.append(user_all)\n",
    "\n",
    "# concat all per-user training sets\n",
    "df_train = pd.concat(train_dataframes).sort_values(by='Timestamp', ascending=True, ignore_index=True)\n",
    "\n",
    "# normalize the ratings (may be beneficial to some models)\n",
    "df_train_norm = df_train\n",
    "df_train_norm['Rating'] -= 3\n",
    "df_train_norm['Rating'] /= 2\n",
    "\n",
    "# concat all per-user validation sets\n",
    "df_val = pd.concat(val_dataframes).sort_values(by='Timestamp', ascending=True, ignore_index=True)\n",
    "\n",
    "# normalize the ratings (may be beneficial to some models)\n",
    "# here we make a copy of the un-normalized validation set for evaluation\n",
    "df_val_norm = df_val.copy(deep=True)\n",
    "df_val_norm['Rating'] -= 3\n",
    "df_val_norm['Rating'] /= 2"
   ]
  },
  {
   "cell_type": "code",
   "execution_count": 10,
   "metadata": {},
   "outputs": [
    {
     "data": {
      "text/html": [
       "<div>\n",
       "<style scoped>\n",
       "    .dataframe tbody tr th:only-of-type {\n",
       "        vertical-align: middle;\n",
       "    }\n",
       "\n",
       "    .dataframe tbody tr th {\n",
       "        vertical-align: top;\n",
       "    }\n",
       "\n",
       "    .dataframe thead th {\n",
       "        text-align: right;\n",
       "    }\n",
       "</style>\n",
       "<table border=\"1\" class=\"dataframe\">\n",
       "  <thead>\n",
       "    <tr style=\"text-align: right;\">\n",
       "      <th></th>\n",
       "      <th>UserID</th>\n",
       "      <th>MovieID</th>\n",
       "      <th>Rating</th>\n",
       "      <th>Timestamp</th>\n",
       "    </tr>\n",
       "  </thead>\n",
       "  <tbody>\n",
       "    <tr>\n",
       "      <th>0</th>\n",
       "      <td>6039</td>\n",
       "      <td>857</td>\n",
       "      <td>0.5</td>\n",
       "      <td>956703932</td>\n",
       "    </tr>\n",
       "    <tr>\n",
       "      <th>1</th>\n",
       "      <td>6039</td>\n",
       "      <td>592</td>\n",
       "      <td>1.0</td>\n",
       "      <td>956703954</td>\n",
       "    </tr>\n",
       "    <tr>\n",
       "      <th>2</th>\n",
       "      <td>6039</td>\n",
       "      <td>2383</td>\n",
       "      <td>0.5</td>\n",
       "      <td>956703954</td>\n",
       "    </tr>\n",
       "    <tr>\n",
       "      <th>3</th>\n",
       "      <td>6039</td>\n",
       "      <td>2018</td>\n",
       "      <td>1.0</td>\n",
       "      <td>956703977</td>\n",
       "    </tr>\n",
       "    <tr>\n",
       "      <th>4</th>\n",
       "      <td>6039</td>\n",
       "      <td>1960</td>\n",
       "      <td>0.5</td>\n",
       "      <td>956703977</td>\n",
       "    </tr>\n",
       "    <tr>\n",
       "      <th>...</th>\n",
       "      <td>...</td>\n",
       "      <td>...</td>\n",
       "      <td>...</td>\n",
       "      <td>...</td>\n",
       "    </tr>\n",
       "    <tr>\n",
       "      <th>893652</th>\n",
       "      <td>5949</td>\n",
       "      <td>2857</td>\n",
       "      <td>0.0</td>\n",
       "      <td>1046368290</td>\n",
       "    </tr>\n",
       "    <tr>\n",
       "      <th>893653</th>\n",
       "      <td>5949</td>\n",
       "      <td>2663</td>\n",
       "      <td>0.0</td>\n",
       "      <td>1046368398</td>\n",
       "    </tr>\n",
       "    <tr>\n",
       "      <th>893654</th>\n",
       "      <td>5949</td>\n",
       "      <td>1299</td>\n",
       "      <td>0.5</td>\n",
       "      <td>1046368398</td>\n",
       "    </tr>\n",
       "    <tr>\n",
       "      <th>893655</th>\n",
       "      <td>5949</td>\n",
       "      <td>1195</td>\n",
       "      <td>0.5</td>\n",
       "      <td>1046368417</td>\n",
       "    </tr>\n",
       "    <tr>\n",
       "      <th>893656</th>\n",
       "      <td>5949</td>\n",
       "      <td>1357</td>\n",
       "      <td>0.5</td>\n",
       "      <td>1046368429</td>\n",
       "    </tr>\n",
       "  </tbody>\n",
       "</table>\n",
       "<p>893657 rows × 4 columns</p>\n",
       "</div>"
      ],
      "text/plain": [
       "        UserID  MovieID  Rating   Timestamp\n",
       "0         6039      857     0.5   956703932\n",
       "1         6039      592     1.0   956703954\n",
       "2         6039     2383     0.5   956703954\n",
       "3         6039     2018     1.0   956703977\n",
       "4         6039     1960     0.5   956703977\n",
       "...        ...      ...     ...         ...\n",
       "893652    5949     2857     0.0  1046368290\n",
       "893653    5949     2663     0.0  1046368398\n",
       "893654    5949     1299     0.5  1046368398\n",
       "893655    5949     1195     0.5  1046368417\n",
       "893656    5949     1357     0.5  1046368429\n",
       "\n",
       "[893657 rows x 4 columns]"
      ]
     },
     "execution_count": 10,
     "metadata": {},
     "output_type": "execute_result"
    }
   ],
   "source": [
    "df_train_norm"
   ]
  },
  {
   "cell_type": "code",
   "execution_count": 11,
   "metadata": {},
   "outputs": [
    {
     "data": {
      "text/html": [
       "<div>\n",
       "<style scoped>\n",
       "    .dataframe tbody tr th:only-of-type {\n",
       "        vertical-align: middle;\n",
       "    }\n",
       "\n",
       "    .dataframe tbody tr th {\n",
       "        vertical-align: top;\n",
       "    }\n",
       "\n",
       "    .dataframe thead th {\n",
       "        text-align: right;\n",
       "    }\n",
       "</style>\n",
       "<table border=\"1\" class=\"dataframe\">\n",
       "  <thead>\n",
       "    <tr style=\"text-align: right;\">\n",
       "      <th></th>\n",
       "      <th>UserID</th>\n",
       "      <th>MovieID</th>\n",
       "      <th>Rating</th>\n",
       "      <th>Timestamp</th>\n",
       "    </tr>\n",
       "  </thead>\n",
       "  <tbody>\n",
       "    <tr>\n",
       "      <th>0</th>\n",
       "      <td>6038</td>\n",
       "      <td>2018</td>\n",
       "      <td>0.5</td>\n",
       "      <td>956706538</td>\n",
       "    </tr>\n",
       "    <tr>\n",
       "      <th>1</th>\n",
       "      <td>6038</td>\n",
       "      <td>1251</td>\n",
       "      <td>0.5</td>\n",
       "      <td>956706538</td>\n",
       "    </tr>\n",
       "    <tr>\n",
       "      <th>2</th>\n",
       "      <td>6038</td>\n",
       "      <td>922</td>\n",
       "      <td>0.5</td>\n",
       "      <td>956706538</td>\n",
       "    </tr>\n",
       "    <tr>\n",
       "      <th>3</th>\n",
       "      <td>6037</td>\n",
       "      <td>2715</td>\n",
       "      <td>0.0</td>\n",
       "      <td>956707604</td>\n",
       "    </tr>\n",
       "    <tr>\n",
       "      <th>4</th>\n",
       "      <td>6037</td>\n",
       "      <td>3547</td>\n",
       "      <td>0.5</td>\n",
       "      <td>956707604</td>\n",
       "    </tr>\n",
       "    <tr>\n",
       "      <th>...</th>\n",
       "      <td>...</td>\n",
       "      <td>...</td>\n",
       "      <td>...</td>\n",
       "      <td>...</td>\n",
       "    </tr>\n",
       "    <tr>\n",
       "      <th>52084</th>\n",
       "      <td>5949</td>\n",
       "      <td>1996</td>\n",
       "      <td>0.0</td>\n",
       "      <td>1046368734</td>\n",
       "    </tr>\n",
       "    <tr>\n",
       "      <th>52085</th>\n",
       "      <td>5949</td>\n",
       "      <td>1260</td>\n",
       "      <td>0.5</td>\n",
       "      <td>1046368750</td>\n",
       "    </tr>\n",
       "    <tr>\n",
       "      <th>52086</th>\n",
       "      <td>5949</td>\n",
       "      <td>3151</td>\n",
       "      <td>0.0</td>\n",
       "      <td>1046368831</td>\n",
       "    </tr>\n",
       "    <tr>\n",
       "      <th>52087</th>\n",
       "      <td>5949</td>\n",
       "      <td>3910</td>\n",
       "      <td>0.5</td>\n",
       "      <td>1046369026</td>\n",
       "    </tr>\n",
       "    <tr>\n",
       "      <th>52088</th>\n",
       "      <td>4957</td>\n",
       "      <td>2452</td>\n",
       "      <td>0.5</td>\n",
       "      <td>1046454260</td>\n",
       "    </tr>\n",
       "  </tbody>\n",
       "</table>\n",
       "<p>52089 rows × 4 columns</p>\n",
       "</div>"
      ],
      "text/plain": [
       "       UserID  MovieID  Rating   Timestamp\n",
       "0        6038     2018     0.5   956706538\n",
       "1        6038     1251     0.5   956706538\n",
       "2        6038      922     0.5   956706538\n",
       "3        6037     2715     0.0   956707604\n",
       "4        6037     3547     0.5   956707604\n",
       "...       ...      ...     ...         ...\n",
       "52084    5949     1996     0.0  1046368734\n",
       "52085    5949     1260     0.5  1046368750\n",
       "52086    5949     3151     0.0  1046368831\n",
       "52087    5949     3910     0.5  1046369026\n",
       "52088    4957     2452     0.5  1046454260\n",
       "\n",
       "[52089 rows x 4 columns]"
      ]
     },
     "execution_count": 11,
     "metadata": {},
     "output_type": "execute_result"
    }
   ],
   "source": [
    "df_val_norm"
   ]
  },
  {
   "cell_type": "markdown",
   "metadata": {},
   "source": [
    "### Evaluation metric\n",
    "\n",
    "For the evaluation metric, we will use a modified version of **NDCG@10**\n",
    "\n",
    "specifically for this task.\n",
    "\n",
    "$$\n",
    "NDCG@10 =\n",
    "    \\begin{cases}\n",
    "        \\frac{1}{log_2(i_A+1)}, & \\text{if $A \\in \\textbf{Y}$, where $A$ is the ground truth item, $\\textbf{Y}$ is the predicted items, and $i_A$ is the index of $A$ in $\\textbf{Y}$}\\\\\n",
    "        0, & \\text{otherwise}\\\\\n",
    "    \\end{cases}\n",
    "$$\n",
    "\n",
    "**Recall@10** (same as **HitRate@10** in this task) will also be calculated."
   ]
  },
  {
   "cell_type": "code",
   "execution_count": 12,
   "metadata": {},
   "outputs": [],
   "source": [
    "@tf.function\n",
    "def log2(x: tf.Tensor) -> tf.Tensor:\n",
    "    return tf.math.log(tf.cast(x, tf.float32)) / tf.math.log(2.)\n",
    "\n",
    "@tf.function\n",
    "def ndcg_at_10(y_true: tf.Tensor, y_pred: tf.Tensor) -> tf.Tensor:\n",
    "    y_pred = y_pred[:10]\n",
    "    idx = tf.equal(tf.cast(y_pred, tf.int32), tf.cast(y_true, tf.int32))\n",
    "    if tf.reduce_sum(tf.cast(idx, tf.int32)) > 0:\n",
    "        return 1. / log2(2 + tf.argmax(idx))\n",
    "    else:\n",
    "        return tf.constant(0.)\n",
    "\n",
    "@tf.function\n",
    "def recall_at_10(y_true: tf.Tensor, y_pred: tf.Tensor) -> tf.Tensor:\n",
    "    y_pred = y_pred[:10]\n",
    "    idx = tf.equal(tf.cast(y_pred, tf.int32), tf.cast(y_true, tf.int32))\n",
    "    if tf.reduce_sum(tf.cast(idx, tf.int32)) > 0:\n",
    "        return tf.constant(1.)\n",
    "    else:\n",
    "        return tf.constant(0.)\n",
    "\n",
    "def evaluate(model: tf.keras.Model, dataset: tf.data.Dataset) -> tuple:\n",
    "    '''\n",
    "    For each data point in the dataset:\n",
    "    data[0] is the UserID\n",
    "    data[1] is the MovieID \n",
    "    data[2] is the Rating\n",
    "    data[3] is the Timestamp\n",
    "    '''\n",
    "    ndcg_scores = []\n",
    "    recall_scores = []\n",
    "\n",
    "    for data in tqdm(dataset, desc='Evaluating'):\n",
    "        # query the model to make predictions if the observed event is a positive interaction (ratings >= 4)\n",
    "        if data[2] >= 4:\n",
    "            y_pred = model.eval_predict_onestep(tf.gather(data, (0, 3)))\n",
    "            y_true = tf.gather(data, 1)\n",
    "            ndcg = ndcg_at_10(y_true, y_pred)\n",
    "            recall = recall_at_10(y_true, y_pred)\n",
    "            ndcg_scores.append(ndcg)\n",
    "            recall_scores.append(recall)\n",
    "\n",
    "    ndcg_result = tf.reduce_mean(ndcg_scores).numpy()\n",
    "    recall_result = tf.reduce_mean(recall_scores).numpy()\n",
    "\n",
    "    return ndcg_result, recall_result"
   ]
  },
  {
   "cell_type": "code",
   "execution_count": 13,
   "metadata": {},
   "outputs": [],
   "source": [
    "# hyperparameters\n",
    "EMBEDDING_SIZE = 256\n",
    "BATCH_SIZE = 512\n",
    "N_EPOCHS = 25\n",
    "LEARNING_RATE = 1e-4"
   ]
  },
  {
   "cell_type": "code",
   "execution_count": 14,
   "metadata": {},
   "outputs": [
    {
     "name": "stdout",
     "output_type": "stream",
     "text": [
      "Epoch 1:\n"
     ]
    },
    {
     "name": "stderr",
     "output_type": "stream",
     "text": [
      "Training: 100%|██████████| 1746/1746 [00:07<00:00, 244.59it/s]\n",
      "Validating: 100%|██████████| 102/102 [00:00<00:00, 394.60it/s]\n"
     ]
    },
    {
     "name": "stdout",
     "output_type": "stream",
     "text": [
      "Epoch 1 train_loss: 0.4016, val_loss: 0.3955\n",
      "\n",
      "Epoch 2:\n"
     ]
    },
    {
     "name": "stderr",
     "output_type": "stream",
     "text": [
      "Training: 100%|██████████| 1746/1746 [00:06<00:00, 290.41it/s]\n",
      "Validating: 100%|██████████| 102/102 [00:00<00:00, 953.27it/s]\n"
     ]
    },
    {
     "name": "stdout",
     "output_type": "stream",
     "text": [
      "Epoch 2 train_loss: 0.3950, val_loss: 0.3926\n",
      "\n",
      "Epoch 3:\n"
     ]
    },
    {
     "name": "stderr",
     "output_type": "stream",
     "text": [
      "Training: 100%|██████████| 1746/1746 [00:06<00:00, 277.16it/s]\n",
      "Validating: 100%|██████████| 102/102 [00:00<00:00, 603.18it/s]\n"
     ]
    },
    {
     "name": "stdout",
     "output_type": "stream",
     "text": [
      "Epoch 3 train_loss: 0.3833, val_loss: 0.3844\n",
      "\n",
      "Epoch 4:\n"
     ]
    },
    {
     "name": "stderr",
     "output_type": "stream",
     "text": [
      "Training: 100%|██████████| 1746/1746 [00:06<00:00, 289.54it/s]\n",
      "Validating: 100%|██████████| 102/102 [00:00<00:00, 985.51it/s] \n"
     ]
    },
    {
     "name": "stdout",
     "output_type": "stream",
     "text": [
      "Epoch 4 train_loss: 0.3594, val_loss: 0.3650\n",
      "\n",
      "Epoch 5:\n"
     ]
    },
    {
     "name": "stderr",
     "output_type": "stream",
     "text": [
      "Training: 100%|██████████| 1746/1746 [00:06<00:00, 290.47it/s]\n",
      "Validating: 100%|██████████| 102/102 [00:00<00:00, 637.50it/s]\n"
     ]
    },
    {
     "name": "stdout",
     "output_type": "stream",
     "text": [
      "Epoch 5 train_loss: 0.3187, val_loss: 0.3340\n",
      "\n",
      "Epoch 6:\n"
     ]
    },
    {
     "name": "stderr",
     "output_type": "stream",
     "text": [
      "Training: 100%|██████████| 1746/1746 [00:05<00:00, 292.46it/s]\n",
      "Validating: 100%|██████████| 102/102 [00:00<00:00, 962.26it/s]\n"
     ]
    },
    {
     "name": "stdout",
     "output_type": "stream",
     "text": [
      "Epoch 6 train_loss: 0.2721, val_loss: 0.3015\n",
      "\n",
      "Epoch 7:\n"
     ]
    },
    {
     "name": "stderr",
     "output_type": "stream",
     "text": [
      "Training: 100%|██████████| 1746/1746 [00:05<00:00, 298.41it/s]\n",
      "Validating: 100%|██████████| 102/102 [00:00<00:00, 1004.94it/s]\n"
     ]
    },
    {
     "name": "stdout",
     "output_type": "stream",
     "text": [
      "Epoch 7 train_loss: 0.2361, val_loss: 0.2767\n",
      "\n",
      "Epoch 8:\n"
     ]
    },
    {
     "name": "stderr",
     "output_type": "stream",
     "text": [
      "Training: 100%|██████████| 1746/1746 [00:05<00:00, 299.64it/s]\n",
      "Validating: 100%|██████████| 102/102 [00:00<00:00, 966.86it/s]\n"
     ]
    },
    {
     "name": "stdout",
     "output_type": "stream",
     "text": [
      "Epoch 8 train_loss: 0.2130, val_loss: 0.2597\n",
      "\n",
      "Epoch 9:\n"
     ]
    },
    {
     "name": "stderr",
     "output_type": "stream",
     "text": [
      "Training: 100%|██████████| 1746/1746 [00:05<00:00, 301.45it/s]\n",
      "Validating: 100%|██████████| 102/102 [00:00<00:00, 957.73it/s]\n"
     ]
    },
    {
     "name": "stdout",
     "output_type": "stream",
     "text": [
      "Epoch 9 train_loss: 0.1971, val_loss: 0.2478\n",
      "\n",
      "Epoch 10:\n"
     ]
    },
    {
     "name": "stderr",
     "output_type": "stream",
     "text": [
      "Training: 100%|██████████| 1746/1746 [00:05<00:00, 304.89it/s]\n",
      "Validating: 100%|██████████| 102/102 [00:00<00:00, 1020.00it/s]\n"
     ]
    },
    {
     "name": "stdout",
     "output_type": "stream",
     "text": [
      "Epoch 10 train_loss: 0.1850, val_loss: 0.2391\n",
      "\n",
      "Epoch 11:\n"
     ]
    },
    {
     "name": "stderr",
     "output_type": "stream",
     "text": [
      "Training: 100%|██████████| 1746/1746 [00:05<00:00, 305.16it/s]\n",
      "Validating: 100%|██████████| 102/102 [00:00<00:00, 966.82it/s]\n"
     ]
    },
    {
     "name": "stdout",
     "output_type": "stream",
     "text": [
      "Epoch 11 train_loss: 0.1749, val_loss: 0.2326\n",
      "\n",
      "Epoch 12:\n"
     ]
    },
    {
     "name": "stderr",
     "output_type": "stream",
     "text": [
      "Training: 100%|██████████| 1746/1746 [00:05<00:00, 291.19it/s]\n",
      "Validating: 100%|██████████| 102/102 [00:00<00:00, 914.79it/s]\n"
     ]
    },
    {
     "name": "stdout",
     "output_type": "stream",
     "text": [
      "Epoch 12 train_loss: 0.1661, val_loss: 0.2275\n",
      "\n",
      "Epoch 13:\n"
     ]
    },
    {
     "name": "stderr",
     "output_type": "stream",
     "text": [
      "Training: 100%|██████████| 1746/1746 [00:05<00:00, 296.91it/s]\n",
      "Validating: 100%|██████████| 102/102 [00:00<00:00, 957.87it/s]\n"
     ]
    },
    {
     "name": "stdout",
     "output_type": "stream",
     "text": [
      "Epoch 13 train_loss: 0.1581, val_loss: 0.2235\n",
      "\n",
      "Epoch 14:\n"
     ]
    },
    {
     "name": "stderr",
     "output_type": "stream",
     "text": [
      "Training: 100%|██████████| 1746/1746 [00:05<00:00, 300.05it/s]\n",
      "Validating: 100%|██████████| 102/102 [00:00<00:00, 957.74it/s]\n"
     ]
    },
    {
     "name": "stdout",
     "output_type": "stream",
     "text": [
      "Epoch 14 train_loss: 0.1506, val_loss: 0.2202\n",
      "\n",
      "Epoch 15:\n"
     ]
    },
    {
     "name": "stderr",
     "output_type": "stream",
     "text": [
      "Training: 100%|██████████| 1746/1746 [00:05<00:00, 300.44it/s]\n",
      "Validating: 100%|██████████| 102/102 [00:00<00:00, 923.09it/s]\n"
     ]
    },
    {
     "name": "stdout",
     "output_type": "stream",
     "text": [
      "Epoch 15 train_loss: 0.1435, val_loss: 0.2175\n",
      "\n",
      "Epoch 16:\n"
     ]
    },
    {
     "name": "stderr",
     "output_type": "stream",
     "text": [
      "Training: 100%|██████████| 1746/1746 [00:05<00:00, 302.47it/s]\n",
      "Validating: 100%|██████████| 102/102 [00:00<00:00, 962.27it/s]\n"
     ]
    },
    {
     "name": "stdout",
     "output_type": "stream",
     "text": [
      "Epoch 16 train_loss: 0.1366, val_loss: 0.2153\n",
      "\n",
      "Epoch 17:\n"
     ]
    },
    {
     "name": "stderr",
     "output_type": "stream",
     "text": [
      "Training: 100%|██████████| 1746/1746 [00:05<00:00, 304.85it/s]\n",
      "Validating: 100%|██████████| 102/102 [00:00<00:00, 971.45it/s]\n"
     ]
    },
    {
     "name": "stdout",
     "output_type": "stream",
     "text": [
      "Epoch 17 train_loss: 0.1300, val_loss: 0.2134\n",
      "\n",
      "Epoch 18:\n"
     ]
    },
    {
     "name": "stderr",
     "output_type": "stream",
     "text": [
      "Training: 100%|██████████| 1746/1746 [00:05<00:00, 305.25it/s]\n",
      "Validating: 100%|██████████| 102/102 [00:00<00:00, 962.27it/s]\n"
     ]
    },
    {
     "name": "stdout",
     "output_type": "stream",
     "text": [
      "Epoch 18 train_loss: 0.1235, val_loss: 0.2119\n",
      "\n",
      "Epoch 19:\n"
     ]
    },
    {
     "name": "stderr",
     "output_type": "stream",
     "text": [
      "Training: 100%|██████████| 1746/1746 [00:05<00:00, 305.67it/s]\n",
      "Validating: 100%|██████████| 102/102 [00:00<00:00, 962.28it/s]\n"
     ]
    },
    {
     "name": "stdout",
     "output_type": "stream",
     "text": [
      "Epoch 19 train_loss: 0.1172, val_loss: 0.2106\n",
      "\n",
      "Epoch 20:\n"
     ]
    },
    {
     "name": "stderr",
     "output_type": "stream",
     "text": [
      "Training: 100%|██████████| 1746/1746 [00:05<00:00, 304.90it/s]\n",
      "Validating: 100%|██████████| 102/102 [00:00<00:00, 987.81it/s] \n"
     ]
    },
    {
     "name": "stdout",
     "output_type": "stream",
     "text": [
      "Epoch 20 train_loss: 0.1111, val_loss: 0.2097\n",
      "\n",
      "Epoch 21:\n"
     ]
    },
    {
     "name": "stderr",
     "output_type": "stream",
     "text": [
      "Training: 100%|██████████| 1746/1746 [00:05<00:00, 304.39it/s]\n",
      "Validating: 100%|██████████| 102/102 [00:00<00:00, 953.28it/s]\n"
     ]
    },
    {
     "name": "stdout",
     "output_type": "stream",
     "text": [
      "Epoch 21 train_loss: 0.1051, val_loss: 0.2089\n",
      "\n",
      "Epoch 22:\n"
     ]
    },
    {
     "name": "stderr",
     "output_type": "stream",
     "text": [
      "Training: 100%|██████████| 1746/1746 [00:05<00:00, 304.50it/s]\n",
      "Validating: 100%|██████████| 102/102 [00:00<00:00, 962.26it/s]\n"
     ]
    },
    {
     "name": "stdout",
     "output_type": "stream",
     "text": [
      "Epoch 22 train_loss: 0.0994, val_loss: 0.2085\n",
      "\n",
      "Epoch 23:\n"
     ]
    },
    {
     "name": "stderr",
     "output_type": "stream",
     "text": [
      "Training: 100%|██████████| 1746/1746 [00:05<00:00, 304.87it/s]\n",
      "Validating: 100%|██████████| 102/102 [00:00<00:00, 948.83it/s]\n"
     ]
    },
    {
     "name": "stdout",
     "output_type": "stream",
     "text": [
      "Epoch 23 train_loss: 0.0938, val_loss: 0.2082\n",
      "\n",
      "Epoch 24:\n"
     ]
    },
    {
     "name": "stderr",
     "output_type": "stream",
     "text": [
      "Training: 100%|██████████| 1746/1746 [00:05<00:00, 299.43it/s]\n",
      "Validating: 100%|██████████| 102/102 [00:00<00:00, 822.58it/s]\n"
     ]
    },
    {
     "name": "stdout",
     "output_type": "stream",
     "text": [
      "Epoch 24 train_loss: 0.0885, val_loss: 0.2082\n",
      "\n",
      "Epoch 25:\n"
     ]
    },
    {
     "name": "stderr",
     "output_type": "stream",
     "text": [
      "Training: 100%|██████████| 1746/1746 [00:05<00:00, 293.30it/s]\n",
      "Validating: 100%|██████████| 102/102 [00:00<00:00, 962.27it/s]\n"
     ]
    },
    {
     "name": "stdout",
     "output_type": "stream",
     "text": [
      "Epoch 25 train_loss: 0.0835, val_loss: 0.2083\n",
      "\n"
     ]
    },
    {
     "data": {
      "image/png": "[encoded data removed]",
      "text/plain": [
       "<Figure size 640x480 with 1 Axes>"
      ]
     },
     "metadata": {},
     "output_type": "display_data"
    }
   ],
   "source": [
    "# prepare datasets\n",
    "dataset_train = tf.data.Dataset.from_tensor_slices(df_train_norm)\n",
    "dataset_train = dataset_train.batch(batch_size=BATCH_SIZE, num_parallel_calls=tf.data.AUTOTUNE).prefetch(buffer_size=tf.data.AUTOTUNE)\n",
    "\n",
    "dataset_val = tf.data.Dataset.from_tensor_slices(df_val_norm)\n",
    "dataset_val = dataset_val.batch(batch_size=BATCH_SIZE, num_parallel_calls=tf.data.AUTOTUNE).prefetch(buffer_size=tf.data.AUTOTUNE)\n",
    "\n",
    "# build the model\n",
    "model = FunkSVDRecommender(m_users=M_USERS, n_items=N_ITEMS, embedding_size=EMBEDDING_SIZE, learning_rate=LEARNING_RATE)\n",
    "\n",
    "# train the model\n",
    "train_losses = []\n",
    "val_losses = []\n",
    "\n",
    "for epoch in range(1, N_EPOCHS + 1):\n",
    "    train_loss = []\n",
    "    val_loss = []\n",
    "    print(f'Epoch {epoch}:')\n",
    "\n",
    "    # training\n",
    "    for data in tqdm(dataset_train, desc='Training'):\n",
    "        loss = model.train_step(data)\n",
    "        train_loss.append(loss.numpy())\n",
    "\n",
    "    # validating\n",
    "    for data in tqdm(dataset_val, desc='Validating'):\n",
    "        loss = model.val_step(data)\n",
    "        val_loss.append(loss.numpy())\n",
    "\n",
    "    # record losses\n",
    "    avg_train_loss = np.mean(train_loss)\n",
    "    avg_val_loss = np.mean(val_loss)\n",
    "    train_losses.append(avg_train_loss)\n",
    "    val_losses.append(avg_val_loss)\n",
    "\n",
    "    # print losses\n",
    "    print(f'Epoch {epoch} train_loss: {avg_train_loss:.4f}, val_loss: {avg_val_loss:.4f}\\n')\n",
    "\n",
    "# plot the training curve\n",
    "plt.plot(train_losses, label='train_loss')\n",
    "plt.plot(val_losses, label='val_loss')\n",
    "plt.legend(loc='upper right')\n",
    "plt.title('Loss curve')\n",
    "plt.show()"
   ]
  },
  {
   "cell_type": "markdown",
   "metadata": {},
   "source": [
    "### Evaluate the model with the validation set"
   ]
  },
  {
   "cell_type": "code",
   "execution_count": 15,
   "metadata": {},
   "outputs": [
    {
     "name": "stderr",
     "output_type": "stream",
     "text": [
      "Evaluating: 100%|██████████| 52089/52089 [02:03<00:00, 420.08it/s]\n"
     ]
    },
    {
     "name": "stdout",
     "output_type": "stream",
     "text": [
      "Evaluation result: [NDCG@10: 0.021953, Recall@10: 0.042981]\n"
     ]
    }
   ],
   "source": [
    "dataset_eval = tf.data.Dataset.from_tensor_slices(df_val)\n",
    "dataset_eval = dataset_eval.prefetch(buffer_size=tf.data.AUTOTUNE)\n",
    "ndcg_result, recall_result = evaluate(model, dataset_eval)\n",
    "print(f'Evaluation result: [NDCG@10: {ndcg_result:.6f}, Recall@10: {recall_result:.6f}]')"
   ]
  }
 ],
 "metadata": {
  "kernelspec": {
   "display_name": "tensorflow_gpu",
   "language": "python",
   "name": "python3"
  },
  "language_info": {
   "codemirror_mode": {
    "name": "ipython",
    "version": 3
   },
   "file_extension": ".py",
   "mimetype": "text/x-python",
   "name": "python",
   "nbconvert_exporter": "python",
   "pygments_lexer": "ipython3",
   "version": "3.9.18"
  }
 },
 "nbformat": 4,
 "nbformat_minor": 2
}
