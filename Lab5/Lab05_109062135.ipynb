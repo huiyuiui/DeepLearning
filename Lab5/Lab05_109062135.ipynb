{
 "cells": [
  {
   "cell_type": "markdown",
   "metadata": {},
   "source": [
    "### <center>**Assignment**</center>\n",
    "\n",
    "In this assignment, we would like to predict the success of shots made by basketball players in the NBA.\n",
    "\n",
    "![](https://nthu-datalab.github.io/ml/labs/05_Regularization/fig-nba.png)\n",
    "\n",
    "Please download the dataset first. You might need to try with various models to achieve better performance."
   ]
  },
  {
   "cell_type": "markdown",
   "metadata": {},
   "source": [
    "### **Requirements**\n",
    "\n",
    "- Submit to eeclass with your code file `Lab05_{student_id}.ipynb` (e.g. `Lab05_109069999.ipynb`) and prediction file `Lab05_{student_id}_y_pred.csv`. The notebook should contain the following parts:\n",
    "\n",
    "    1. Use all features to train [any linear model in scikit-learn](https://scikit-learn.org/stable/modules/linear_model.html#linear-models) and try different hyperparameters (ex. different degree, complexity). Show their performances.\n",
    "    2. Select 1 setting (model + hyperparameters) and plot the **error curve** to show that the setting you selected **isn't over-fit**.\n",
    "    3. Use any method to choose the **best 3 features** that can best aid the model's prediction. Explain **how you find it**.\n",
    "        - Note: the combination of features doesn't count as 1 feature, e.g. $x_{1}$, $x_{2}$, and $x_1^2+x_2$ count as only two features.\n",
    "    4. Train the model selected in 2. with the only 3 features selected in 3., and present the training error.\n",
    "    5. Export the predictions of the model trained in 4. for ``X_test`` (follow the format of ``y_train.csv``).\n",
    "    6. **A brief report** of what you have done in this assignment.\n",
    "\n",
    "- Prediction performance will have minimal impact on the assignment grade, so there's no need to be overly concerned about it.\n",
    "- Deadline: **2023-10-19 (Thur) 23:59**."
   ]
  },
  {
   "cell_type": "markdown",
   "metadata": {},
   "source": [
    "### **Hints**\n",
    "\n",
    "1. You can **preprocess the data** to help your training.\n",
    "2. Since you don't have y_test this time, you may need to **split a validation set** for checking your performance.\n",
    "3. It is possible to use a regression model as a classifier, for example [RidgeClassifier](https://scikit-learn.org/stable/modules/generated/sklearn.linear_model.RidgeClassifier.html).\n",
    "\n"
   ]
  },
  {
   "cell_type": "markdown",
   "metadata": {},
   "source": [
    "### **References**\n",
    "\n",
    "1. [Stanford CS229 Machine Learning](http://cs229.stanford.edu/proj2017/final-reports/5132133.pdf)\n",
    "2. [NBA shot logs](https://www.kaggle.com/dansbecker/nba-shot-logs)\n"
   ]
  },
  {
   "cell_type": "code",
   "execution_count": 37,
   "metadata": {},
   "outputs": [],
   "source": [
    "import pandas as pd\n",
    "import numpy as np\n",
    "from pylab import *\n",
    "from sklearn.model_selection import train_test_split\n",
    "from sklearn.model_selection import learning_curve\n",
    "from sklearn.linear_model import LogisticRegression\n",
    "from sklearn.linear_model import RidgeClassifier\n",
    "from sklearn.preprocessing import StandardScaler\n",
    "from sklearn.preprocessing import PolynomialFeatures\n",
    "from sklearn.metrics import mean_squared_error\n",
    "from sklearn.metrics import accuracy_score"
   ]
  },
  {
   "cell_type": "code",
   "execution_count": 38,
   "metadata": {},
   "outputs": [],
   "source": [
    "# download the dataset\n",
    "import urllib.request\n",
    "\n",
    "# urllib.request.urlretrieve(\"https://nthu-datalab.github.io/ml/labs/05_Regularization/data/X_train.csv\", \"./data/X_train.csv\")\n",
    "# urllib.request.urlretrieve(\"https://nthu-datalab.github.io/ml/labs/05_Regularization/data/y_train.csv\", \"./data/y_train.csv\")\n",
    "# urllib.request.urlretrieve(\"https://nthu-datalab.github.io/ml/labs/05_Regularization/data/X_test.csv\", \"./data/X_test.csv\")\n",
    "\n",
    "X = pd.read_csv('./data/X_train.csv')\n",
    "y = pd.read_csv('./data/y_train.csv')\n",
    "X_test = pd.read_csv('./data/X_test.csv')"
   ]
  },
  {
   "cell_type": "code",
   "execution_count": 72,
   "metadata": {},
   "outputs": [
    {
     "name": "stdout",
     "output_type": "stream",
     "text": [
      "(85751, 8)\n",
      "Index(['PERIOD', 'GAME_CLOCK', 'SHOT_CLOCK', 'DRIBBLES', 'TOUCH_TIME',\n",
      "       'SHOT_DIST', 'PTS_TYPE', 'CLOSE_DEF_DIST'],\n",
      "      dtype='object')\n",
      "(85751, 1)\n",
      "Index(['FGM'], dtype='object')\n"
     ]
    }
   ],
   "source": [
    "print(X.shape)\n",
    "print(X.columns)\n",
    "print(y.shape)\n",
    "print(y.columns)"
   ]
  },
  {
   "cell_type": "code",
   "execution_count": 40,
   "metadata": {},
   "outputs": [
    {
     "data": {
      "text/html": [
       "<div>\n",
       "<style scoped>\n",
       "    .dataframe tbody tr th:only-of-type {\n",
       "        vertical-align: middle;\n",
       "    }\n",
       "\n",
       "    .dataframe tbody tr th {\n",
       "        vertical-align: top;\n",
       "    }\n",
       "\n",
       "    .dataframe thead th {\n",
       "        text-align: right;\n",
       "    }\n",
       "</style>\n",
       "<table border=\"1\" class=\"dataframe\">\n",
       "  <thead>\n",
       "    <tr style=\"text-align: right;\">\n",
       "      <th></th>\n",
       "      <th>PERIOD</th>\n",
       "      <th>GAME_CLOCK</th>\n",
       "      <th>SHOT_CLOCK</th>\n",
       "      <th>DRIBBLES</th>\n",
       "      <th>TOUCH_TIME</th>\n",
       "      <th>SHOT_DIST</th>\n",
       "      <th>PTS_TYPE</th>\n",
       "      <th>CLOSE_DEF_DIST</th>\n",
       "    </tr>\n",
       "  </thead>\n",
       "  <tbody>\n",
       "    <tr>\n",
       "      <th>0</th>\n",
       "      <td>1</td>\n",
       "      <td>358</td>\n",
       "      <td>2.4</td>\n",
       "      <td>0</td>\n",
       "      <td>3.2</td>\n",
       "      <td>20.6</td>\n",
       "      <td>2</td>\n",
       "      <td>4.5</td>\n",
       "    </tr>\n",
       "    <tr>\n",
       "      <th>1</th>\n",
       "      <td>1</td>\n",
       "      <td>585</td>\n",
       "      <td>8.3</td>\n",
       "      <td>0</td>\n",
       "      <td>1.2</td>\n",
       "      <td>3.0</td>\n",
       "      <td>2</td>\n",
       "      <td>0.5</td>\n",
       "    </tr>\n",
       "    <tr>\n",
       "      <th>2</th>\n",
       "      <td>1</td>\n",
       "      <td>540</td>\n",
       "      <td>19.9</td>\n",
       "      <td>0</td>\n",
       "      <td>0.6</td>\n",
       "      <td>3.5</td>\n",
       "      <td>2</td>\n",
       "      <td>3.2</td>\n",
       "    </tr>\n",
       "    <tr>\n",
       "      <th>3</th>\n",
       "      <td>1</td>\n",
       "      <td>392</td>\n",
       "      <td>9.0</td>\n",
       "      <td>0</td>\n",
       "      <td>0.9</td>\n",
       "      <td>21.1</td>\n",
       "      <td>2</td>\n",
       "      <td>4.9</td>\n",
       "    </tr>\n",
       "    <tr>\n",
       "      <th>4</th>\n",
       "      <td>3</td>\n",
       "      <td>401</td>\n",
       "      <td>22.7</td>\n",
       "      <td>0</td>\n",
       "      <td>0.7</td>\n",
       "      <td>4.1</td>\n",
       "      <td>2</td>\n",
       "      <td>2.9</td>\n",
       "    </tr>\n",
       "  </tbody>\n",
       "</table>\n",
       "</div>"
      ],
      "text/plain": [
       "   PERIOD  GAME_CLOCK  SHOT_CLOCK  DRIBBLES  TOUCH_TIME  SHOT_DIST  PTS_TYPE  \\\n",
       "0       1         358         2.4         0         3.2       20.6         2   \n",
       "1       1         585         8.3         0         1.2        3.0         2   \n",
       "2       1         540        19.9         0         0.6        3.5         2   \n",
       "3       1         392         9.0         0         0.9       21.1         2   \n",
       "4       3         401        22.7         0         0.7        4.1         2   \n",
       "\n",
       "   CLOSE_DEF_DIST  \n",
       "0             4.5  \n",
       "1             0.5  \n",
       "2             3.2  \n",
       "3             4.9  \n",
       "4             2.9  "
      ]
     },
     "execution_count": 40,
     "metadata": {},
     "output_type": "execute_result"
    }
   ],
   "source": [
    "X.head()"
   ]
  },
  {
   "cell_type": "code",
   "execution_count": 41,
   "metadata": {},
   "outputs": [
    {
     "name": "stdout",
     "output_type": "stream",
     "text": [
      "Label with: [0 1]\n"
     ]
    }
   ],
   "source": [
    "print(\"Label with:\", np.unique(y.values))"
   ]
  },
  {
   "cell_type": "code",
   "execution_count": 43,
   "metadata": {},
   "outputs": [
    {
     "name": "stdout",
     "output_type": "stream",
     "text": [
      "Train data: (68600, 8)\n",
      "Valid data: (17151, 8)\n"
     ]
    }
   ],
   "source": [
    "# Standardlize and Split data\n",
    "sc_x = StandardScaler()\n",
    "X_std = sc_x.fit_transform(X)\n",
    "\n",
    "X_train, X_valid, y_train, y_valid = train_test_split(X_std, y, test_size=0.2, random_state=0)\n",
    "\n",
    "print(\"Train data:\", X_train.shape)\n",
    "print(\"Valid data:\", X_valid.shape)"
   ]
  },
  {
   "cell_type": "markdown",
   "metadata": {},
   "source": [
    "### **All feature training in different hyper-parameters**"
   ]
  },
  {
   "cell_type": "code",
   "execution_count": 44,
   "metadata": {},
   "outputs": [
    {
     "name": "stdout",
     "output_type": "stream",
     "text": [
      "Penalty: None\n",
      "MSE train: 0.3913, valid: 0.3907\n",
      "ACC train: 0.6087, valid: 0.6093\n",
      "\n",
      "Penalty: l2\n",
      "MSE train: 0.3913, valid: 0.3907\n",
      "ACC train: 0.6087, valid: 0.6093\n",
      "\n"
     ]
    }
   ],
   "source": [
    "# Logistic regression\n",
    "penalty = [None, 'l2']\n",
    "\n",
    "for p in penalty:\n",
    "    logistic = LogisticRegression(penalty=p, max_iter=500)\n",
    "\n",
    "    logistic.fit(X_train, y_train.values.ravel())\n",
    "\n",
    "    y_train_pred = logistic.predict(X_train)\n",
    "    y_valid_pred = logistic.predict(X_valid)\n",
    "\n",
    "    print(\"Penalty:\", p)\n",
    "    print('MSE train: %.4f, valid: %.4f' % (\n",
    "                    mean_squared_error(y_train, y_train_pred),\n",
    "                    mean_squared_error(y_valid, y_valid_pred)))\n",
    "    print('ACC train: %.4f, valid: %.4f\\n' % (\n",
    "                    accuracy_score(y_train, y_train_pred),\n",
    "                    accuracy_score(y_valid, y_valid_pred)))"
   ]
  },
  {
   "cell_type": "code",
   "execution_count": 45,
   "metadata": {},
   "outputs": [
    {
     "name": "stdout",
     "output_type": "stream",
     "text": [
      "Degree: 1\n",
      "MSE train: 0.3925, valid: 0.3910\n",
      "ACC train: 0.6075, valid: 0.6090\n",
      "\n",
      "Degree: 2\n",
      "MSE train: 0.3822, valid: 0.3896\n",
      "ACC train: 0.6178, valid: 0.6104\n",
      "\n",
      "Degree: 3\n",
      "MSE train: 0.3814, valid: 0.3892\n",
      "ACC train: 0.6186, valid: 0.6108\n",
      "\n",
      "Degree: 4\n",
      "MSE train: 0.3786, valid: 0.3908\n",
      "ACC train: 0.6214, valid: 0.6092\n",
      "\n",
      "Degree: 5\n",
      "MSE train: 0.3728, valid: 0.3940\n",
      "ACC train: 0.6272, valid: 0.6060\n",
      "\n"
     ]
    }
   ],
   "source": [
    "# Ridge Classifier in different degree\n",
    "degrees = range(1, 6)\n",
    "\n",
    "for d in degrees:\n",
    "    poly = PolynomialFeatures(degree=d)\n",
    "    X_train_poly = poly.fit_transform(X_train)\n",
    "    X_valid_poly = poly.transform(X_valid)\n",
    "    \n",
    "    ridge = RidgeClassifier(max_iter=500)\n",
    "    ridge = ridge.fit(X_train_poly, y_train.values.ravel())\n",
    "\n",
    "    y_train_pred = ridge.predict(X_train_poly)\n",
    "    y_valid_pred = ridge.predict(X_valid_poly)\n",
    "\n",
    "    print(\"Degree:\", d)\n",
    "    print('MSE train: %.4f, valid: %.4f' % (\n",
    "                    mean_squared_error(y_train, y_train_pred),\n",
    "                    mean_squared_error(y_valid, y_valid_pred)))\n",
    "    print('ACC train: %.4f, valid: %.4f\\n' % (\n",
    "                    accuracy_score(y_train, y_train_pred),\n",
    "                    accuracy_score(y_valid, y_valid_pred)))"
   ]
  },
  {
   "cell_type": "code",
   "execution_count": 48,
   "metadata": {},
   "outputs": [
    {
     "name": "stdout",
     "output_type": "stream",
     "text": [
      "Alpha: 0.1\n",
      "MSE train: 0.3813, valid: 0.3892\n",
      "ACC train: 0.6187, valid: 0.6108\n",
      "\n",
      "Alpha: 1\n",
      "MSE train: 0.3814, valid: 0.3892\n",
      "ACC train: 0.6186, valid: 0.6108\n",
      "\n",
      "Alpha: 10\n",
      "MSE train: 0.3813, valid: 0.3892\n",
      "ACC train: 0.6187, valid: 0.6108\n",
      "\n",
      "Alpha: 100\n",
      "MSE train: 0.3812, valid: 0.3890\n",
      "ACC train: 0.6188, valid: 0.6110\n",
      "\n",
      "Alpha: 1000\n",
      "MSE train: 0.3813, valid: 0.3897\n",
      "ACC train: 0.6187, valid: 0.6103\n",
      "\n"
     ]
    }
   ],
   "source": [
    "# Ridge Classifier with degree 3 in different alpha\n",
    "alpha =  [0.1, 1, 10, 100, 1000]\n",
    "\n",
    "for a in alpha:\n",
    "    poly = PolynomialFeatures(degree=3)\n",
    "    X_train_poly = poly.fit_transform(X_train)\n",
    "    X_valid_poly = poly.transform(X_valid)\n",
    "    \n",
    "    ridge = RidgeClassifier(alpha=a, max_iter=500)\n",
    "    ridge = ridge.fit(X_train_poly, y_train.values.ravel())\n",
    "\n",
    "    y_train_pred = ridge.predict(X_train_poly)\n",
    "    y_valid_pred = ridge.predict(X_valid_poly)\n",
    "\n",
    "    print(\"Alpha:\", a)\n",
    "    print('MSE train: %.4f, valid: %.4f' % (\n",
    "                    mean_squared_error(y_train, y_train_pred),\n",
    "                    mean_squared_error(y_valid, y_valid_pred)))\n",
    "    print('ACC train: %.4f, valid: %.4f\\n' % (\n",
    "                    accuracy_score(y_train, y_train_pred),\n",
    "                    accuracy_score(y_valid, y_valid_pred)))"
   ]
  },
  {
   "cell_type": "markdown",
   "metadata": {},
   "source": [
    "### **Error curves of selected model**"
   ]
  },
  {
   "cell_type": "code",
   "execution_count": 54,
   "metadata": {},
   "outputs": [
    {
     "data": {
      "image/png": "[encoded data removed]",
      "text/plain": [
       "<Figure size 640x480 with 1 Axes>"
      ]
     },
     "metadata": {},
     "output_type": "display_data"
    }
   ],
   "source": [
    "# Error curves of Ridge Classifier with alpha 100 in different degree\n",
    "# The seleted model is with alpha 100 and degree 3\n",
    "mse_train = []\n",
    "mse_test = []\n",
    "\n",
    "max_degree = 6\n",
    "\n",
    "for d in range(1, max_degree):\n",
    "    poly = PolynomialFeatures(degree=d)\n",
    "    X_train_poly = poly.fit_transform(X_train)\n",
    "    X_valid_poly = poly.transform(X_valid)\n",
    "    \n",
    "    ridge = RidgeClassifier(alpha=100, max_iter=500)\n",
    "    ridge = ridge.fit(X_train_poly, y_train.values.ravel())\n",
    "\n",
    "    y_train_pred = ridge.predict(X_train_poly)\n",
    "    y_valid_pred = ridge.predict(X_valid_poly)\n",
    "    \n",
    "    mse_train.append(mean_squared_error(y_train, y_train_pred))\n",
    "    mse_test.append(mean_squared_error(y_valid, y_valid_pred))\n",
    "    \n",
    "\n",
    "plt.plot(range(1, max_degree), mse_train, label = 'Training error', color = 'blue', linewidth = 2)\n",
    "plt.plot(range(1, max_degree), mse_test, label = 'Validating error', color = 'red', linewidth = 2)\n",
    "plt.legend(loc='upper right')\n",
    "plt.xlabel('Model complexity (polynomial degree) with alpha 100')\n",
    "plt.ylabel('$MSE$')\n",
    "plt.tight_layout()\n",
    "x_major_locator=MultipleLocator(1)\n",
    "ax=plt.gca()\n",
    "ax.xaxis.set_major_locator(x_major_locator)\n",
    "plt.show()"
   ]
  },
  {
   "cell_type": "markdown",
   "metadata": {},
   "source": [
    "### **Choose best 3 features with Random Forest**"
   ]
  },
  {
   "cell_type": "code",
   "execution_count": 62,
   "metadata": {},
   "outputs": [
    {
     "name": "stdout",
     "output_type": "stream",
     "text": [
      "ACC train: 0.6273, valid: 0.6073\n",
      "\n"
     ]
    }
   ],
   "source": [
    "from sklearn.ensemble import RandomForestClassifier\n",
    "\n",
    "X_train, X_valid, y_train, y_valid = train_test_split(X, y, test_size=0.2, random_state=0)\n",
    "\n",
    "forest = RandomForestClassifier(criterion='entropy',\n",
    "                                n_estimators=100, \n",
    "                                random_state=1,\n",
    "                                n_jobs=2)\n",
    "\n",
    "forest.fit(X_train, y_train.values.ravel())\n",
    "\n",
    "y_pred = forest.predict(X_valid)\n",
    "print('ACC train: %.4f, valid: %.4f\\n' % (\n",
    "                    accuracy_score(y_train, y_train_pred),\n",
    "                    accuracy_score(y_valid, y_valid_pred)))"
   ]
  },
  {
   "cell_type": "code",
   "execution_count": 63,
   "metadata": {},
   "outputs": [
    {
     "name": "stdout",
     "output_type": "stream",
     "text": [
      " 1) GAME_CLOCK                     0.206141\n",
      " 2) SHOT_DIST                      0.196920\n",
      " 3) SHOT_CLOCK                     0.187393\n",
      " 4) CLOSE_DEF_DIST                 0.168517\n",
      " 5) TOUCH_TIME                     0.139893\n",
      " 6) PERIOD                         0.048830\n",
      " 7) DRIBBLES                       0.046413\n",
      " 8) PTS_TYPE                       0.005893\n"
     ]
    },
    {
     "data": {
      "image/png": "[encoded data removed]",
      "text/plain": [
       "<Figure size 640x480 with 1 Axes>"
      ]
     },
     "metadata": {},
     "output_type": "display_data"
    }
   ],
   "source": [
    "importances = forest.feature_importances_\n",
    "indices = np.argsort(importances)[::-1]\n",
    "\n",
    "for f in range(X_train.shape[1]):\n",
    "    print(\"%2d) %-*s %f\" % (f + 1, 30, \n",
    "                            X.columns.values[indices[f]], \n",
    "                            importances[indices[f]]))\n",
    "\n",
    "plt.figure()\n",
    "plt.title('Feature Importances')\n",
    "plt.bar(range(X_train.shape[1]),\n",
    "        importances[indices],\n",
    "        align='center',\n",
    "        alpha=0.5)\n",
    "\n",
    "plt.xticks(range(X_train.shape[1]), \n",
    "           X.columns.values[indices], rotation=90)\n",
    "plt.tight_layout()\n",
    "plt.show()"
   ]
  },
  {
   "cell_type": "code",
   "execution_count": 65,
   "metadata": {},
   "outputs": [
    {
     "name": "stdout",
     "output_type": "stream",
     "text": [
      " 1) GAME_CLOCK                     0.206141\n",
      " 2) SHOT_DIST                      0.196920\n",
      " 3) SHOT_CLOCK                     0.187393\n"
     ]
    }
   ],
   "source": [
    "from sklearn.feature_selection import SelectFromModel\n",
    "sfm = SelectFromModel(forest, threshold=0.175, prefit=True)\n",
    "Z_forest = sfm.transform(X.values)\n",
    "\n",
    "for f in range(Z_forest.shape[1]):\n",
    "    print(\"%2d) %-*s %f\" % (f + 1, 30, \n",
    "                            X.columns.values[indices[f]], \n",
    "                            importances[indices[f]]))"
   ]
  },
  {
   "cell_type": "markdown",
   "metadata": {},
   "source": [
    "### **Train the selected model with the best 3 features**"
   ]
  },
  {
   "cell_type": "code",
   "execution_count": 67,
   "metadata": {},
   "outputs": [
    {
     "name": "stdout",
     "output_type": "stream",
     "text": [
      "Alpha: 1000\n",
      "MSE train: 0.3895, valid: 0.3951\n",
      "ACC train: 0.6105, valid: 0.6049\n",
      "\n"
     ]
    }
   ],
   "source": [
    "sc = StandardScaler()\n",
    "X_std = sc.fit_transform(Z_forest)\n",
    "\n",
    "X_train, X_valid, y_train, y_valid = train_test_split(X_std, y, test_size=0.2, random_state=0)\n",
    "\n",
    "poly = PolynomialFeatures(degree=3)\n",
    "X_train_poly = poly.fit_transform(X_train)\n",
    "X_valid_poly = poly.transform(X_valid)\n",
    "\n",
    "ridge = RidgeClassifier(alpha=100, max_iter=500)\n",
    "ridge = ridge.fit(X_train_poly, y_train.values.ravel())\n",
    "\n",
    "y_train_pred = ridge.predict(X_train_poly)\n",
    "y_valid_pred = ridge.predict(X_valid_poly)\n",
    "\n",
    "print(\"Alpha:\", a)\n",
    "print('MSE train: %.4f, valid: %.4f' % (\n",
    "                mean_squared_error(y_train, y_train_pred),\n",
    "                mean_squared_error(y_valid, y_valid_pred)))\n",
    "print('ACC train: %.4f, valid: %.4f\\n' % (\n",
    "                accuracy_score(y_train, y_train_pred),\n",
    "                accuracy_score(y_valid, y_valid_pred)))"
   ]
  },
  {
   "cell_type": "markdown",
   "metadata": {},
   "source": [
    "### **Export Prediction**"
   ]
  },
  {
   "cell_type": "code",
   "execution_count": 73,
   "metadata": {},
   "outputs": [
    {
     "name": "stdout",
     "output_type": "stream",
     "text": [
      "(36751, 1)\n"
     ]
    }
   ],
   "source": [
    "X_test_forest = sfm.transform(X_test.values)\n",
    "\n",
    "X_test_std = sc.fit_transform(X_test_forest)\n",
    "\n",
    "X_test_poly = poly.transform(X_test_std)\n",
    "\n",
    "y_test_pred = ridge.predict(X_test_poly)\n",
    "\n",
    "print(y_test_pred.shape)"
   ]
  },
  {
   "cell_type": "code",
   "execution_count": 86,
   "metadata": {},
   "outputs": [
    {
     "name": "stdout",
     "output_type": "stream",
     "text": [
      "       FGM\n",
      "0        1\n",
      "1        0\n",
      "2        1\n",
      "3        1\n",
      "4        1\n",
      "...    ...\n",
      "36746    0\n",
      "36747    0\n",
      "36748    0\n",
      "36749    0\n",
      "36750    0\n",
      "\n",
      "[36751 rows x 1 columns]\n"
     ]
    }
   ],
   "source": [
    "predict = []\n",
    "for i in range(len(y_test_pred)):\n",
    "    predict.append(int(y_test_pred[i]))\n",
    "    \n",
    "pd_predict = pd.DataFrame(predict, columns=[\"FGM\"])\n",
    "print(pd_predict)\n",
    "pd_predict.to_csv(\"./data/y_test.csv\", index=None)"
   ]
  },
  {
   "cell_type": "code",
   "execution_count": null,
   "metadata": {},
   "outputs": [],
   "source": []
  }
 ],
 "metadata": {
  "kernelspec": {
   "display_name": "DeepLearning",
   "language": "python",
   "name": "python3"
  },
  "language_info": {
   "codemirror_mode": {
    "name": "ipython",
    "version": 3
   },
   "file_extension": ".py",
   "mimetype": "text/x-python",
   "name": "python",
   "nbconvert_exporter": "python",
   "pygments_lexer": "ipython3",
   "version": "3.12.0"
  }
 },
 "nbformat": 4,
 "nbformat_minor": 2
}
