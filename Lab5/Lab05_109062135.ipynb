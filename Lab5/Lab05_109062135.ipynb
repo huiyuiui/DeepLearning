{
 "cells": [
  {
   "cell_type": "markdown",
   "metadata": {},
   "source": [
    "### <center>**Assignment**</center>\n",
    "\n",
    "In this assignment, we would like to predict the success of shots made by basketball players in the NBA.\n",
    "\n",
    "![](https://nthu-datalab.github.io/ml/labs/05_Regularization/fig-nba.png)\n",
    "\n",
    "Please download the dataset first. You might need to try with various models to achieve better performance."
   ]
  },
  {
   "cell_type": "markdown",
   "metadata": {},
   "source": [
    "### **Requirements**\n",
    "\n",
    "- Submit to eeclass with your code file `Lab05_{student_id}.ipynb` (e.g. `Lab05_109069999.ipynb`) and prediction file `Lab05_{student_id}_y_pred.csv`. The notebook should contain the following parts:\n",
    "\n",
    "    1. Use all features to train [any linear model in scikit-learn](https://scikit-learn.org/stable/modules/linear_model.html#linear-models) and try different hyperparameters (ex. different degree, complexity). Show their performances.\n",
    "    2. Select 1 setting (model + hyperparameters) and plot the **error curve** to show that the setting you selected **isn't over-fit**.\n",
    "    3. Use any method to choose the **best 3 features** that can best aid the model's prediction. Explain **how you find it**.\n",
    "        - Note: the combination of features doesn't count as 1 feature, e.g. $x_{1}$, $x_{2}$, and $x_1^2+x_2$ count as only two features.\n",
    "    4. Train the model selected in 2. with the only 3 features selected in 3., and present the training error.\n",
    "    5. Export the predictions of the model trained in 4. for ``X_test`` (follow the format of ``y_train.csv``).\n",
    "    6. **A brief report** of what you have done in this assignment.\n",
    "\n",
    "- Prediction performance will have minimal impact on the assignment grade, so there's no need to be overly concerned about it.\n",
    "- Deadline: **2023-10-19 (Thur) 23:59**."
   ]
  },
  {
   "cell_type": "markdown",
   "metadata": {},
   "source": [
    "### **Hints**\n",
    "\n",
    "1. You can **preprocess the data** to help your training.\n",
    "2. Since you don't have y_test this time, you may need to **split a validation set** for checking your performance.\n",
    "3. It is possible to use a regression model as a classifier, for example [RidgeClassifier](https://scikit-learn.org/stable/modules/generated/sklearn.linear_model.RidgeClassifier.html).\n",
    "\n"
   ]
  },
  {
   "cell_type": "markdown",
   "metadata": {},
   "source": [
    "### **References**\n",
    "\n",
    "1. [Stanford CS229 Machine Learning](http://cs229.stanford.edu/proj2017/final-reports/5132133.pdf)\n",
    "2. [NBA shot logs](https://www.kaggle.com/dansbecker/nba-shot-logs)\n"
   ]
  },
  {
   "cell_type": "code",
   "execution_count": 85,
   "metadata": {},
   "outputs": [],
   "source": [
    "import pandas as pd\n",
    "import numpy as np\n",
    "from pylab import *\n",
    "from sklearn.model_selection import train_test_split\n",
    "from sklearn.model_selection import learning_curve\n",
    "from sklearn.linear_model import LogisticRegression\n",
    "from sklearn.linear_model import RidgeClassifier\n",
    "from sklearn.metrics import accuracy_score"
   ]
  },
  {
   "cell_type": "code",
   "execution_count": 86,
   "metadata": {},
   "outputs": [],
   "source": [
    "# download the dataset\n",
    "import urllib.request\n",
    "\n",
    "# urllib.request.urlretrieve(\"https://nthu-datalab.github.io/ml/labs/05_Regularization/data/X_train.csv\", \"./data/X_train.csv\")\n",
    "# urllib.request.urlretrieve(\"https://nthu-datalab.github.io/ml/labs/05_Regularization/data/y_train.csv\", \"./data/y_train.csv\")\n",
    "# urllib.request.urlretrieve(\"https://nthu-datalab.github.io/ml/labs/05_Regularization/data/X_test.csv\", \"./data/X_test.csv\")\n",
    "\n",
    "X = pd.read_csv('./data/X_train.csv')\n",
    "y = pd.read_csv('./data/y_train.csv')\n",
    "X_test = pd.read_csv('./data/X_test.csv')"
   ]
  },
  {
   "cell_type": "code",
   "execution_count": 87,
   "metadata": {},
   "outputs": [
    {
     "name": "stdout",
     "output_type": "stream",
     "text": [
      "(85751, 8)\n",
      "Index(['PERIOD', 'GAME_CLOCK', 'SHOT_CLOCK', 'DRIBBLES', 'TOUCH_TIME',\n",
      "       'SHOT_DIST', 'PTS_TYPE', 'CLOSE_DEF_DIST'],\n",
      "      dtype='object')\n",
      "Index(['FGM'], dtype='object')\n"
     ]
    }
   ],
   "source": [
    "print(X.shape)\n",
    "print(X.columns)\n",
    "print(y.columns)"
   ]
  },
  {
   "cell_type": "code",
   "execution_count": 88,
   "metadata": {},
   "outputs": [
    {
     "data": {
      "text/html": [
       "<div>\n",
       "<style scoped>\n",
       "    .dataframe tbody tr th:only-of-type {\n",
       "        vertical-align: middle;\n",
       "    }\n",
       "\n",
       "    .dataframe tbody tr th {\n",
       "        vertical-align: top;\n",
       "    }\n",
       "\n",
       "    .dataframe thead th {\n",
       "        text-align: right;\n",
       "    }\n",
       "</style>\n",
       "<table border=\"1\" class=\"dataframe\">\n",
       "  <thead>\n",
       "    <tr style=\"text-align: right;\">\n",
       "      <th></th>\n",
       "      <th>PERIOD</th>\n",
       "      <th>GAME_CLOCK</th>\n",
       "      <th>SHOT_CLOCK</th>\n",
       "      <th>DRIBBLES</th>\n",
       "      <th>TOUCH_TIME</th>\n",
       "      <th>SHOT_DIST</th>\n",
       "      <th>PTS_TYPE</th>\n",
       "      <th>CLOSE_DEF_DIST</th>\n",
       "    </tr>\n",
       "  </thead>\n",
       "  <tbody>\n",
       "    <tr>\n",
       "      <th>0</th>\n",
       "      <td>1</td>\n",
       "      <td>358</td>\n",
       "      <td>2.4</td>\n",
       "      <td>0</td>\n",
       "      <td>3.2</td>\n",
       "      <td>20.6</td>\n",
       "      <td>2</td>\n",
       "      <td>4.5</td>\n",
       "    </tr>\n",
       "    <tr>\n",
       "      <th>1</th>\n",
       "      <td>1</td>\n",
       "      <td>585</td>\n",
       "      <td>8.3</td>\n",
       "      <td>0</td>\n",
       "      <td>1.2</td>\n",
       "      <td>3.0</td>\n",
       "      <td>2</td>\n",
       "      <td>0.5</td>\n",
       "    </tr>\n",
       "    <tr>\n",
       "      <th>2</th>\n",
       "      <td>1</td>\n",
       "      <td>540</td>\n",
       "      <td>19.9</td>\n",
       "      <td>0</td>\n",
       "      <td>0.6</td>\n",
       "      <td>3.5</td>\n",
       "      <td>2</td>\n",
       "      <td>3.2</td>\n",
       "    </tr>\n",
       "    <tr>\n",
       "      <th>3</th>\n",
       "      <td>1</td>\n",
       "      <td>392</td>\n",
       "      <td>9.0</td>\n",
       "      <td>0</td>\n",
       "      <td>0.9</td>\n",
       "      <td>21.1</td>\n",
       "      <td>2</td>\n",
       "      <td>4.9</td>\n",
       "    </tr>\n",
       "    <tr>\n",
       "      <th>4</th>\n",
       "      <td>3</td>\n",
       "      <td>401</td>\n",
       "      <td>22.7</td>\n",
       "      <td>0</td>\n",
       "      <td>0.7</td>\n",
       "      <td>4.1</td>\n",
       "      <td>2</td>\n",
       "      <td>2.9</td>\n",
       "    </tr>\n",
       "  </tbody>\n",
       "</table>\n",
       "</div>"
      ],
      "text/plain": [
       "   PERIOD  GAME_CLOCK  SHOT_CLOCK  DRIBBLES  TOUCH_TIME  SHOT_DIST  PTS_TYPE  \\\n",
       "0       1         358         2.4         0         3.2       20.6         2   \n",
       "1       1         585         8.3         0         1.2        3.0         2   \n",
       "2       1         540        19.9         0         0.6        3.5         2   \n",
       "3       1         392         9.0         0         0.9       21.1         2   \n",
       "4       3         401        22.7         0         0.7        4.1         2   \n",
       "\n",
       "   CLOSE_DEF_DIST  \n",
       "0             4.5  \n",
       "1             0.5  \n",
       "2             3.2  \n",
       "3             4.9  \n",
       "4             2.9  "
      ]
     },
     "execution_count": 88,
     "metadata": {},
     "output_type": "execute_result"
    }
   ],
   "source": [
    "X.head()"
   ]
  },
  {
   "cell_type": "code",
   "execution_count": 89,
   "metadata": {},
   "outputs": [
    {
     "name": "stdout",
     "output_type": "stream",
     "text": [
      "Label with: [0 1]\n"
     ]
    }
   ],
   "source": [
    "print(\"Label with:\", np.unique(y.values))"
   ]
  },
  {
   "cell_type": "code",
   "execution_count": 90,
   "metadata": {},
   "outputs": [
    {
     "name": "stdout",
     "output_type": "stream",
     "text": [
      "Train data: (54880, 8)\n",
      "Valid data: (13720, 8)\n",
      "Test data: (17151, 8)\n"
     ]
    }
   ],
   "source": [
    "# Split and Split data\n",
    "X_train, X_test, y_train, y_test = train_test_split(X, y, test_size=0.2, random_state=0)\n",
    "X_train, X_valid, y_train, y_valid = train_test_split(X_train, y_train, test_size=0.2, random_state=0)\n",
    "\n",
    "print(\"Train data:\", X_train.shape)\n",
    "print(\"Valid data:\", X_valid.shape)\n",
    "print(\"Test data:\", X_test.shape)"
   ]
  },
  {
   "cell_type": "code",
   "execution_count": 91,
   "metadata": {},
   "outputs": [
    {
     "name": "stdout",
     "output_type": "stream",
     "text": [
      "Penalty: None\n",
      "ACC train: 0.6094, valid: 0.6034, test: 0.6091 \n",
      "\n",
      "Penalty: l2\n",
      "ACC train: 0.6094, valid: 0.6034, test: 0.6089 \n",
      "\n"
     ]
    }
   ],
   "source": [
    "# Logistic regression\n",
    "penalty = [None, 'l2']\n",
    "\n",
    "for p in penalty:\n",
    "    logistic = LogisticRegression(penalty=p)\n",
    "\n",
    "    logistic.fit(X_train, y_train.values.ravel())\n",
    "\n",
    "    y_train_pred = logistic.predict(X_train)\n",
    "    y_valid_pred = logistic.predict(X_valid)\n",
    "    y_test_pred = logistic.predict(X_test)\n",
    "\n",
    "    print(\"Penalty:\", p)\n",
    "    print('ACC train: %.4f, valid: %.4f, test: %.4f \\n' % (\n",
    "                    accuracy_score(y_train, y_train_pred),\n",
    "                    accuracy_score(y_valid, y_valid_pred),\n",
    "                    accuracy_score(y_test, y_test_pred)))"
   ]
  },
  {
   "cell_type": "code",
   "execution_count": 92,
   "metadata": {},
   "outputs": [
    {
     "name": "stdout",
     "output_type": "stream",
     "text": [
      "Alpha: 0.01\n",
      "ACC train: 0.6091, valid: 0.6031, test: 0.6090 \n",
      "\n",
      "Alpha: 0.1\n",
      "ACC train: 0.6091, valid: 0.6031, test: 0.6090 \n",
      "\n",
      "Alpha: 1\n",
      "ACC train: 0.6091, valid: 0.6031, test: 0.6090 \n",
      "\n",
      "Alpha: 10\n",
      "ACC train: 0.6091, valid: 0.6030, test: 0.6091 \n",
      "\n",
      "Alpha: 100\n",
      "ACC train: 0.6091, valid: 0.6029, test: 0.6092 \n",
      "\n"
     ]
    }
   ],
   "source": [
    "# Ridge Classifier\n",
    "alpha = [0.01, 0.1, 1, 10, 100]\n",
    "\n",
    "for a in alpha:\n",
    "    ridge = RidgeClassifier(alpha=a)\n",
    "\n",
    "    ridge.fit(X_train, y_train.values.ravel())\n",
    "\n",
    "    y_train_pred = ridge.predict(X_train)\n",
    "    y_valid_pred = ridge.predict(X_valid)\n",
    "    y_test_pred = ridge.predict(X_test)\n",
    "\n",
    "    print(\"Alpha:\", a)\n",
    "    print('ACC train: %.4f, valid: %.4f, test: %.4f \\n' % (\n",
    "                    accuracy_score(y_train, y_train_pred),\n",
    "                    accuracy_score(y_valid, y_valid_pred),\n",
    "                    accuracy_score(y_test, y_test_pred)))"
   ]
  },
  {
   "cell_type": "code",
   "execution_count": null,
   "metadata": {},
   "outputs": [],
   "source": []
  }
 ],
 "metadata": {
  "kernelspec": {
   "display_name": "DeepLearning",
   "language": "python",
   "name": "python3"
  },
  "language_info": {
   "codemirror_mode": {
    "name": "ipython",
    "version": 3
   },
   "file_extension": ".py",
   "mimetype": "text/x-python",
   "name": "python",
   "nbconvert_exporter": "python",
   "pygments_lexer": "ipython3",
   "version": "3.12.0"
  }
 },
 "nbformat": 4,
 "nbformat_minor": 2
}
